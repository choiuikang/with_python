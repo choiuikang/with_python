{
 "cells": [
  {
   "cell_type": "markdown",
   "id": "86a9c126",
   "metadata": {},
   "source": [
    "# 엔씨소프트\n",
    "엔씨 소프트의 주가를 예측해보자. 지금 현시점 주가 가장 핫하다고 생각하여 엔씨소프트를 선택하여 '이것이 데이터 분석이다 whth 파이썬' 책의 'Chapter_3.2 비트코인 시세 예측하기' 부분을 응요해서 데이터 분석을 해볼것이다. "
   ]
  },
  {
   "cell_type": "code",
   "execution_count": 8,
   "id": "3398b625",
   "metadata": {},
   "outputs": [
    {
     "data": {
      "text/html": [
       "<div>\n",
       "<style scoped>\n",
       "    .dataframe tbody tr th:only-of-type {\n",
       "        vertical-align: middle;\n",
       "    }\n",
       "\n",
       "    .dataframe tbody tr th {\n",
       "        vertical-align: top;\n",
       "    }\n",
       "\n",
       "    .dataframe thead th {\n",
       "        text-align: right;\n",
       "    }\n",
       "</style>\n",
       "<table border=\"1\" class=\"dataframe\">\n",
       "  <thead>\n",
       "    <tr style=\"text-align: right;\">\n",
       "      <th></th>\n",
       "      <th>price</th>\n",
       "    </tr>\n",
       "    <tr>\n",
       "      <th>day</th>\n",
       "      <th></th>\n",
       "    </tr>\n",
       "  </thead>\n",
       "  <tbody>\n",
       "    <tr>\n",
       "      <th>2020-01-02</th>\n",
       "      <td>541000.0</td>\n",
       "    </tr>\n",
       "    <tr>\n",
       "      <th>2020-01-03</th>\n",
       "      <td>565000.0</td>\n",
       "    </tr>\n",
       "    <tr>\n",
       "      <th>2020-01-06</th>\n",
       "      <td>579000.0</td>\n",
       "    </tr>\n",
       "    <tr>\n",
       "      <th>2020-01-07</th>\n",
       "      <td>594000.0</td>\n",
       "    </tr>\n",
       "    <tr>\n",
       "      <th>2020-01-08</th>\n",
       "      <td>604000.0</td>\n",
       "    </tr>\n",
       "    <tr>\n",
       "      <th>...</th>\n",
       "      <td>...</td>\n",
       "    </tr>\n",
       "    <tr>\n",
       "      <th>2021-09-23</th>\n",
       "      <td>584000.0</td>\n",
       "    </tr>\n",
       "    <tr>\n",
       "      <th>2021-09-24</th>\n",
       "      <td>596000.0</td>\n",
       "    </tr>\n",
       "    <tr>\n",
       "      <th>2021-09-27</th>\n",
       "      <td>583000.0</td>\n",
       "    </tr>\n",
       "    <tr>\n",
       "      <th>2021-09-28</th>\n",
       "      <td>571000.0</td>\n",
       "    </tr>\n",
       "    <tr>\n",
       "      <th>2021-09-29</th>\n",
       "      <td>574000.0</td>\n",
       "    </tr>\n",
       "  </tbody>\n",
       "</table>\n",
       "<p>432 rows × 1 columns</p>\n",
       "</div>"
      ],
      "text/plain": [
       "               price\n",
       "day                 \n",
       "2020-01-02  541000.0\n",
       "2020-01-03  565000.0\n",
       "2020-01-06  579000.0\n",
       "2020-01-07  594000.0\n",
       "2020-01-08  604000.0\n",
       "...              ...\n",
       "2021-09-23  584000.0\n",
       "2021-09-24  596000.0\n",
       "2021-09-27  583000.0\n",
       "2021-09-28  571000.0\n",
       "2021-09-29  574000.0\n",
       "\n",
       "[432 rows x 1 columns]"
      ]
     },
     "execution_count": 8,
     "metadata": {},
     "output_type": "execute_result"
    }
   ],
   "source": [
    "# %matplotlib inline\n",
    "import pandas as pd\n",
    "import numpy as np\n",
    "import matplotlib.pyplot as plt\n",
    "import yfinance as yf\n",
    "\n",
    "\n",
    "ncsoft_df = yf.download('036570.KS',\n",
    "                      start='2020-01-01',\n",
    "                      end='2021-09-30',\n",
    "                      progress=False)\n",
    "\n",
    "ncsoft_df = ncsoft_df[[\"Close\"]]\n",
    "\n",
    "ncsoft_df = ncsoft_df.reset_index()\n",
    "\n",
    "ncsoft_df.columns = ['day', 'price']\n",
    "\n",
    "ncsoft_df['day'] = pd.to_datetime(ncsoft_df['day'])\n",
    "\n",
    "ncsoft_df.index = ncsoft_df['day']\n",
    "ncsoft_df.set_index('day', inplace=True)\n",
    "ncsoft_df"
   ]
  },
  {
   "cell_type": "code",
   "execution_count": 13,
   "id": "345cae34",
   "metadata": {},
   "outputs": [
    {
     "data": {
      "text/html": [
       "<div>\n",
       "<style scoped>\n",
       "    .dataframe tbody tr th:only-of-type {\n",
       "        vertical-align: middle;\n",
       "    }\n",
       "\n",
       "    .dataframe tbody tr th {\n",
       "        vertical-align: top;\n",
       "    }\n",
       "\n",
       "    .dataframe thead th {\n",
       "        text-align: right;\n",
       "    }\n",
       "</style>\n",
       "<table border=\"1\" class=\"dataframe\">\n",
       "  <thead>\n",
       "    <tr style=\"text-align: right;\">\n",
       "      <th></th>\n",
       "      <th>price</th>\n",
       "    </tr>\n",
       "    <tr>\n",
       "      <th>day</th>\n",
       "      <th></th>\n",
       "    </tr>\n",
       "  </thead>\n",
       "  <tbody>\n",
       "    <tr>\n",
       "      <th>2021-09-29</th>\n",
       "      <td>574000.0</td>\n",
       "    </tr>\n",
       "  </tbody>\n",
       "</table>\n",
       "</div>"
      ],
      "text/plain": [
       "               price\n",
       "day                 \n",
       "2021-09-29  574000.0"
      ]
     },
     "execution_count": 13,
     "metadata": {},
     "output_type": "execute_result"
    }
   ],
   "source": [
    "ncsoft_train_df = ncsoft_df[:431]\n",
    "ncsoft_train_df\n",
    "ncsoft_test_df = ncsoft_df[431:]\n",
    "ncsoft_test_df"
   ]
  },
  {
   "cell_type": "code",
   "execution_count": null,
   "id": "7a258ed6",
   "metadata": {},
   "outputs": [],
   "source": []
  }
 ],
 "metadata": {
  "kernelspec": {
   "display_name": "Python 3",
   "language": "python",
   "name": "python3"
  },
  "language_info": {
   "codemirror_mode": {
    "name": "ipython",
    "version": 3
   },
   "file_extension": ".py",
   "mimetype": "text/x-python",
   "name": "python",
   "nbconvert_exporter": "python",
   "pygments_lexer": "ipython3",
   "version": "3.8.8"
  }
 },
 "nbformat": 4,
 "nbformat_minor": 5
}
