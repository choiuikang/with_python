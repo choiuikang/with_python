{
 "cells": [
  {
   "cell_type": "markdown",
   "id": "fec25f24",
   "metadata": {},
   "source": [
    "# 중고나라 휴대폰 거래가격 예측하기\n",
    "예제에서 사용하는 데이터는 https://www.data.go.kr/에서 제공하는 '네이버 중고나라'데이터, 그리고 통신 3사(SK Telecom. LG U+, kt olleh) 사이트에서 제공하는 휴대폰 공시가격 데이터를 기반으로 만들어진 것입니다."
   ]
  },
  {
   "cell_type": "markdown",
   "id": "c0454e9e",
   "metadata": {},
   "source": [
    "## Step 1 탐색적 분석: 중고나라 데이터 분석하기\n",
    "예제에서 사용할 중고나라 데이터셋은 다음과 같은 피처로 구성되어 있습니다.\n",
    "- create_date: 판매(혹은 구매) 게시글이 올라온 시점\n",
    "- price: 게시글 작성자가 제안한 휴대폰의 거래가격\n",
    "- text: 게시글의 제목과 본문을 합친 텍스트 데이터\n",
    "- phone_model: 휴대폰의 기종\n",
    "- factory_price: 휴대폰 공시가격\n",
    "- maker: 휴대폰 제조사\n",
    "- price_index: 판매 게시글이 올라온 시점에서의 휴대폰 물가 지수 데이터"
   ]
  },
  {
   "cell_type": "markdown",
   "id": "fa625263",
   "metadata": {},
   "source": [
    "아래의 코드를 통해 데이터를 살펴본 결과, 약 5000여 개의 데이터가 결측값 없이 구성되어 있다는 것을 알 수 있습니다.\n",
    "#### 중고나라 데이터셋 살펴보기"
   ]
  },
  {
   "cell_type": "code",
   "execution_count": 66,
   "id": "6d1404e3",
   "metadata": {},
   "outputs": [
    {
     "name": "stdout",
     "output_type": "stream",
     "text": [
      "<class 'pandas.core.frame.DataFrame'>\n",
      "RangeIndex: 4951 entries, 0 to 4950\n",
      "Data columns (total 7 columns):\n",
      " #   Column         Non-Null Count  Dtype  \n",
      "---  ------         --------------  -----  \n",
      " 0   create_date    4951 non-null   object \n",
      " 1   price          4951 non-null   float64\n",
      " 2   text           4951 non-null   object \n",
      " 3   phone_model    4951 non-null   object \n",
      " 4   factory_price  4951 non-null   int64  \n",
      " 5   maker          4951 non-null   object \n",
      " 6   price_index    4951 non-null   float64\n",
      "dtypes: float64(2), int64(1), object(4)\n",
      "memory usage: 270.9+ KB\n",
      "None\n"
     ]
    },
    {
     "data": {
      "text/html": [
       "<div>\n",
       "<style scoped>\n",
       "    .dataframe tbody tr th:only-of-type {\n",
       "        vertical-align: middle;\n",
       "    }\n",
       "\n",
       "    .dataframe tbody tr th {\n",
       "        vertical-align: top;\n",
       "    }\n",
       "\n",
       "    .dataframe thead th {\n",
       "        text-align: right;\n",
       "    }\n",
       "</style>\n",
       "<table border=\"1\" class=\"dataframe\">\n",
       "  <thead>\n",
       "    <tr style=\"text-align: right;\">\n",
       "      <th></th>\n",
       "      <th>create_date</th>\n",
       "      <th>price</th>\n",
       "      <th>text</th>\n",
       "      <th>phone_model</th>\n",
       "      <th>factory_price</th>\n",
       "      <th>maker</th>\n",
       "      <th>price_index</th>\n",
       "    </tr>\n",
       "  </thead>\n",
       "  <tbody>\n",
       "    <tr>\n",
       "      <th>0</th>\n",
       "      <td>2017-03-19  4 35 00 PM</td>\n",
       "      <td>550000.0</td>\n",
       "      <td>아이폰6플러스 블랙+애플라이트 64기가 팝니다  아이폰6플러스 블랙+애플라이트 64...</td>\n",
       "      <td>iphone 6 64gb</td>\n",
       "      <td>924000</td>\n",
       "      <td>apple</td>\n",
       "      <td>95.96</td>\n",
       "    </tr>\n",
       "    <tr>\n",
       "      <th>1</th>\n",
       "      <td>2016-10-26  12 08 00 PM</td>\n",
       "      <td>380000.0</td>\n",
       "      <td>갤럭시s6엣지 32기가 팝니다 직거래  갤럭시s6엣지 32기가 품명 갤럭시s6엣지제...</td>\n",
       "      <td>galaxy s6 edge 32gb</td>\n",
       "      <td>979000</td>\n",
       "      <td>samsung</td>\n",
       "      <td>103.05</td>\n",
       "    </tr>\n",
       "    <tr>\n",
       "      <th>2</th>\n",
       "      <td>2016-10-25  12 52 00 PM</td>\n",
       "      <td>300000.0</td>\n",
       "      <td>갤럭시s6 풀박스로 팝니다~~~ 새상품급  실기스조차 없어요  직접거래 구매한지 1...</td>\n",
       "      <td>galaxy s6 32gb</td>\n",
       "      <td>854000</td>\n",
       "      <td>samsung</td>\n",
       "      <td>103.05</td>\n",
       "    </tr>\n",
       "    <tr>\n",
       "      <th>3</th>\n",
       "      <td>2017-03-23  11 14 00 PM</td>\n",
       "      <td>290000.0</td>\n",
       "      <td>sk  g5 티탄 폰 단품판매합니다  직접거래 sk g5 티탄 폰 단품판매합니다 올...</td>\n",
       "      <td>lg g5 32gb</td>\n",
       "      <td>836000</td>\n",
       "      <td>lg</td>\n",
       "      <td>95.96</td>\n",
       "    </tr>\n",
       "    <tr>\n",
       "      <th>4</th>\n",
       "      <td>2016-04-11  7 35 00 PM</td>\n",
       "      <td>280000.0</td>\n",
       "      <td>sony 엑스페리아 c5 ultra e5506 16gb  미사용 새제품 팝니다 1...</td>\n",
       "      <td>lg u 32gb</td>\n",
       "      <td>396000</td>\n",
       "      <td>lg</td>\n",
       "      <td>102.59</td>\n",
       "    </tr>\n",
       "  </tbody>\n",
       "</table>\n",
       "</div>"
      ],
      "text/plain": [
       "               create_date     price  \\\n",
       "0   2017-03-19  4 35 00 PM  550000.0   \n",
       "1  2016-10-26  12 08 00 PM  380000.0   \n",
       "2  2016-10-25  12 52 00 PM  300000.0   \n",
       "3  2017-03-23  11 14 00 PM  290000.0   \n",
       "4   2016-04-11  7 35 00 PM  280000.0   \n",
       "\n",
       "                                                text          phone_model  \\\n",
       "0  아이폰6플러스 블랙+애플라이트 64기가 팝니다  아이폰6플러스 블랙+애플라이트 64...        iphone 6 64gb   \n",
       "1  갤럭시s6엣지 32기가 팝니다 직거래  갤럭시s6엣지 32기가 품명 갤럭시s6엣지제...  galaxy s6 edge 32gb   \n",
       "2  갤럭시s6 풀박스로 팝니다~~~ 새상품급  실기스조차 없어요  직접거래 구매한지 1...       galaxy s6 32gb   \n",
       "3  sk  g5 티탄 폰 단품판매합니다  직접거래 sk g5 티탄 폰 단품판매합니다 올...           lg g5 32gb   \n",
       "4   sony 엑스페리아 c5 ultra e5506 16gb  미사용 새제품 팝니다 1...            lg u 32gb   \n",
       "\n",
       "   factory_price    maker  price_index  \n",
       "0         924000    apple        95.96  \n",
       "1         979000  samsung       103.05  \n",
       "2         854000  samsung       103.05  \n",
       "3         836000       lg        95.96  \n",
       "4         396000       lg       102.59  "
      ]
     },
     "execution_count": 66,
     "metadata": {},
     "output_type": "execute_result"
    }
   ],
   "source": [
    "# -*- coding: utf-8 -*-\n",
    "%matplotlib inline\n",
    "\n",
    "import pandas as pd\n",
    "import numpy as np\n",
    "import matplotlib.pyplot as plt\n",
    "import seaborn as sns\n",
    "\n",
    "df = pd.read_csv('data/used_mobile_phone.csv')\n",
    "print(df.info())\n",
    "df.head()"
   ]
  },
  {
   "cell_type": "markdown",
   "id": "d67f1fa3",
   "metadata": {},
   "source": [
    "다음으로 개별 피처들을 탐색합니다.\n",
    "#### 개별 피처 탐색하기: data 피처 탐색"
   ]
  },
  {
   "cell_type": "code",
   "execution_count": 67,
   "id": "8d3408f4",
   "metadata": {},
   "outputs": [
    {
     "data": {
      "text/plain": [
       "2016-10    2956\n",
       "2017-03    1311\n",
       "2016-08     107\n",
       "2016-09     105\n",
       "2016-04     102\n",
       "2016-05      89\n",
       "2016-06      76\n",
       "2016-07      74\n",
       "2016-03      70\n",
       "2016-02      61\n",
       "Name: month, dtype: int64"
      ]
     },
     "execution_count": 67,
     "metadata": {},
     "output_type": "execute_result"
    }
   ],
   "source": [
    "#  create_date로 부터 '월'을 의미하는 mnth 정보를 피처로 추출합니다.\n",
    "df['month'] = df['create_date'].apply(lambda x: x[:7])\n",
    "\n",
    "# 월별 거래 횟수를 계산하여 출력합니다.\n",
    "df['month'].value_counts()"
   ]
  },
  {
   "cell_type": "markdown",
   "id": "33d9bb0a",
   "metadata": {},
   "source": [
    "date 피처에서 월별 게시글의 게시글의 개수를 살펴본 결과, 이 데이터는 2016년 10월, 그리고 2017년 3월에 집중적으로 수집된 데이터라는 것을 알 수 있습니다. <br>\n",
    "데이터의 개수를 일자별 시계열 그래프로도 나타내보았습니다. 이는 아래의 그래프와 같습니다."
   ]
  },
  {
   "cell_type": "markdown",
   "id": "64a72871",
   "metadata": {},
   "source": [
    "#### 개별 피처 탐색하기: date 피처 탐색"
   ]
  },
  {
   "cell_type": "code",
   "execution_count": 68,
   "id": "ede521cd",
   "metadata": {},
   "outputs": [
    {
     "data": {
      "image/png": "[encoded data removed]",
      "text/plain": [
       "<Figure size 432x288 with 1 Axes>"
      ]
     },
     "metadata": {
      "needs_background": "light"
     },
     "output_type": "display_data"
    }
   ],
   "source": [
    "# 일별 거래 횟수를 계산하여 그래프로 출력합니다.\n",
    "df_day = pd.to_datetime(df['create_date'].apply(lambda x: x[:10])).value_counts()\n",
    "df_day.plot()\n",
    "plt.show()"
   ]
  },
  {
   "cell_type": "markdown",
   "id": "57cebf33",
   "metadata": {},
   "source": [
    "그리고 아래와 같이 price 피처의 탐색을 통해 중고나라에서 거래되고 있는 중고 휴대폰의 가격이 어느 정도인지 살펴볼 수 있습니다. 그래프로 분포를 살펴보면, 대부분의 중고 휴대폰이 60만 원 이하의 가격대를 형성하고 있으며, 몇몇은 그 이상에도 거래되고 있는 것을 알 수 있습니다."
   ]
  },
  {
   "cell_type": "markdown",
   "id": "83a1a2ec",
   "metadata": {},
   "source": [
    "#### 개별 피처 탐색하기: price 피처 탐색"
   ]
  },
  {
   "cell_type": "code",
   "execution_count": 69,
   "id": "1ddd1a5a",
   "metadata": {},
   "outputs": [
    {
     "data": {
      "text/plain": [
       "<AxesSubplot:>"
      ]
     },
     "execution_count": 69,
     "metadata": {},
     "output_type": "execute_result"
    },
    {
     "data": {
      "image/png": "[encoded data removed]",
      "text/plain": [
       "<Figure size 432x288 with 1 Axes>"
      ]
     },
     "metadata": {
      "needs_background": "light"
     },
     "output_type": "display_data"
    }
   ],
   "source": [
    "# 가격의 분포를 그래프로 탐색합니다.\n",
    "df['price'].hist(bins=\"auto\")"
   ]
  },
  {
   "cell_type": "markdown",
   "id": "7cfc7502",
   "metadata": {},
   "source": [
    "이번에는 휴대폰의 동일 기종 내에서의 가격 분포를 살펴봅시다. 이를 위해 phone_model을 groupby하여 그룹별 평균값과 표준편차를 구한 뒤, 모든  price의 z-score를 계산하였습니다. 이값은 '동일 기종'내에서의 상대적 가격을 나타내는 값입니다."
   ]
  },
  {
   "cell_type": "markdown",
   "id": "8acba3e7",
   "metadata": {},
   "source": [
    "#### 개별 피처 탐색하기: price 피처 탐색"
   ]
  },
  {
   "cell_type": "code",
   "execution_count": 70,
   "id": "7b279b2d",
   "metadata": {},
   "outputs": [
    {
     "data": {
      "text/plain": [
       "<AxesSubplot:>"
      ]
     },
     "execution_count": 70,
     "metadata": {},
     "output_type": "execute_result"
    },
    {
     "data": {
      "image/png": "[encoded data removed]",
      "text/plain": [
       "<Figure size 432x288 with 1 Axes>"
      ]
     },
     "metadata": {
      "needs_background": "light"
     },
     "output_type": "display_data"
    }
   ],
   "source": [
    "# 휴대폰 기종(phone_model)별 가격의 평균과 표준편차를 계산합니다.\n",
    "df_price_model_mean = df.groupby('phone_model')['price'].transform(lambda x: np.mean(x))\n",
    "df_price_model_std = df.groupby('phone_model')['price'].transform(lambda x: np.std(x))\n",
    "\n",
    "# 이를 바탕으로 모든 데이터의 z-score를 계산합니다. 이는 해당 데이터의 가격이 기종별 평균에 비해 어느 정도로 높거나 낮은지를 알 수 있게 하는 점수입니다.\n",
    "df_price_model_z_score = (df['price'] - df_price_model_mean) / df_price_model_std\n",
    "df_price_model_z_score.hist(bins=\"auto\")"
   ]
  },
  {
   "cell_type": "markdown",
   "id": "ee951ac8",
   "metadata": {},
   "source": [
    "이를 그래프로 출력한 결과,  동일 기종 내에서 price 피처의 분포는 정규분포에 가깝다는 것을 알 수 있습니다. <br>\n",
    "이번에는 factory_price 피처의 분포, 그리고 factory_price와 price 간의 관계를 탐색해봅시다."
   ]
  },
  {
   "cell_type": "markdown",
   "id": "92ac673d",
   "metadata": {},
   "source": [
    "#### 개별 피처 탐색하기: factory_price 피처 탐색"
   ]
  },
  {
   "cell_type": "code",
   "execution_count": 71,
   "id": "7d2b84cf",
   "metadata": {},
   "outputs": [
    {
     "data": {
      "text/plain": [
       "<AxesSubplot:xlabel='factory_price', ylabel='price'>"
      ]
     },
     "execution_count": 71,
     "metadata": {},
     "output_type": "execute_result"
    },
    {
     "data": {
      "image/png": "[encoded data removed]",
      "text/plain": [
       "<Figure size 432x288 with 1 Axes>"
      ]
     },
     "metadata": {
      "needs_background": "light"
     },
     "output_type": "display_data"
    },
    {
     "data": {
      "image/png": "[encoded data removed]",
      "text/plain": [
       "<Figure size 432x288 with 1 Axes>"
      ]
     },
     "metadata": {
      "needs_background": "light"
     },
     "output_type": "display_data"
    }
   ],
   "source": [
    "# factory_price 피처의 분포를 탐색합니다\n",
    "df['factory_price'].hist(bins=\"auto\")\n",
    "   \n",
    "# factory_price와 price 피처를 산점도 그래프로 출력하여 상관 관계를 살펴봅시다.\n",
    "df.plot.scatter(x='factory_price', y='price')"
   ]
  },
  {
   "cell_type": "markdown",
   "id": "b7374f45",
   "metadata": {},
   "source": [
    "위 그래프의 출력 결과, 두 피처는 양의 상관 관계를 가지고 있습니다. 이를 통해 factory_price는 중고 휴대폰 판매 가격에 꽤 중요한 영향을 미칠 것이라고 추정할 수 있습니다.<br>\n",
    "다음으로 phone_model 피처를 탐색한 결과, 휴대폰 기종의 개수는 총 64대로 나타났습니다. 상위 5개의 기종을 제외하면 대부분 10개~90개 사이의 데이터를 가지고 있다는 것을 알 수 있습니다. "
   ]
  },
  {
   "cell_type": "markdown",
   "id": "dd88d9f8",
   "metadata": {},
   "source": [
    "#### 개별 피처 탐색하기 : phone_model 피처 탐색"
   ]
  },
  {
   "cell_type": "code",
   "execution_count": 72,
   "id": "19c64478",
   "metadata": {},
   "outputs": [
    {
     "name": "stdout",
     "output_type": "stream",
     "text": [
      "count      64.000000\n",
      "mean       77.359375\n",
      "std       143.432786\n",
      "min        10.000000\n",
      "25%        23.000000\n",
      "50%        35.000000\n",
      "75%        90.500000\n",
      "max      1002.000000\n",
      "Name: phone_model, dtype: float64\n"
     ]
    },
    {
     "data": {
      "text/plain": [
       "{'whiskers': [<matplotlib.lines.Line2D at 0x7f9bc28e8700>,\n",
       "  <matplotlib.lines.Line2D at 0x7f9bc2566580>],\n",
       " 'caps': [<matplotlib.lines.Line2D at 0x7f9bc2566700>,\n",
       "  <matplotlib.lines.Line2D at 0x7f9bc2566760>],\n",
       " 'boxes': [<matplotlib.lines.Line2D at 0x7f9bc28e8a30>],\n",
       " 'medians': [<matplotlib.lines.Line2D at 0x7f9bc2566c70>],\n",
       " 'fliers': [<matplotlib.lines.Line2D at 0x7f9bc2566280>],\n",
       " 'means': []}"
      ]
     },
     "execution_count": 72,
     "metadata": {},
     "output_type": "execute_result"
    },
    {
     "data": {
      "image/png": "[encoded data removed]",
      "text/plain": [
       "<Figure size 432x288 with 1 Axes>"
      ]
     },
     "metadata": {
      "needs_background": "light"
     },
     "output_type": "display_data"
    }
   ],
   "source": [
    "# 기종별 총 거래 데이터 개수를 집꼐합니다.\n",
    "model_counts = df['phone_model'].value_counts()\n",
    "print(model_counts.describe())\n",
    "\n",
    "# 기종별 총 거래 데이터 개수를 상자 그림으로 살펴봅니다.\n",
    "plt.boxplot(model_counts)"
   ]
  },
  {
   "cell_type": "markdown",
   "id": "ad9e3599",
   "metadata": {},
   "source": [
    "지금까지 탐색한 피처를 바탕으로 가격 예측 모델을 학습해봅시다. 그 과정에서 도출되는 피처 중요도 분석을 통해 어떤 피처가 예측 모델에 중요한 피처인지를 알 수 있습니다. 이러한 분석은 랜덤 포레스트라는 모델로 수행할 수 있습니다."
   ]
  },
  {
   "cell_type": "markdown",
   "id": "e168093b",
   "metadata": {},
   "source": [
    "### 여기서 잠깐\n",
    "랜덤 포레스트 모델 chapter04에서 살펴보았던 의사결정 나무분석 방법을 응용한 것으로 의사 결정 나무를 여러 개 모아 하나의 숲을 구성하는 방법입니다. 하나의 모델이 정답을 푸는 것이 아닌, 여러 개의 모델이 정답을 함께 푸는 것이기 때문에 더 정확한 학습이 가능합니다. 또한 이 방법은 모델이 생성되는 과정에서의 피처 중됴도를 계산하기 떄문에 탐색적 데이터 분석에 자주 사용됩니다. 랜덤 포레스트 모델은 회귀와 분류, 두 가지에 모두 적용이 가능합니다."
   ]
  },
  {
   "cell_type": "markdown",
   "id": "5c9e6212",
   "metadata": {},
   "source": [
    "램덤 포레스트 sklearn 라이브러리의 RandomForestRegressor 클래스로 사용 가능합니다. 이 클래스의 fit 함수를 실행하여 모델을 학습한 뒤, feature_importances_를 출력하면 피처 중요도를 출력할 수 있습니다. 아래의 실행 결과는 모델의 예측 평가 점수인 R2 score, RMSE를 나타낸 것입니다. Train score와 Test score의 차이가 심한 것을 미루어 볼 때, 이 예측 모델은 과적합이 일어났다고 할 수 있습니다."
   ]
  },
  {
   "cell_type": "markdown",
   "id": "f109abec",
   "metadata": {},
   "source": [
    "#### Random forest regressor를 이용한 가격 예측"
   ]
  },
  {
   "cell_type": "code",
   "execution_count": 73,
   "id": "59a6a45d",
   "metadata": {},
   "outputs": [
    {
     "name": "stdout",
     "output_type": "stream",
     "text": [
      "MSE train:10633822708.364, test:13880690849.515\n",
      "R^2 train: 0.781, test: 0.683\n"
     ]
    }
   ],
   "source": [
    "from sklearn.model_selection import train_test_split\n",
    "from sklearn.feature_extraction import DictVectorizer\n",
    "from sklearn.ensemble import RandomForestRegressor\n",
    "from sklearn.metrics import r2_score\n",
    "from sklearn.metrics import mean_squared_error\n",
    "\n",
    "# 데이터를 학습/테스트용 데이터로 분립합니다.\n",
    "df = df[['price', 'phone_model','factory_price','maker','price_index','month']]\n",
    "df = pd.get_dummies(df,columns=['phone_model','maker','month'])\n",
    "X = df.loc[:,df.columns !='price']\n",
    "y = df['price']\n",
    "X_train, X_test, y_train, y_test = train_test_split(X,y,test_size=0.3,random_state=0)\n",
    "\n",
    "# 랜덤 포레스트 모델을 학습합니다.\n",
    "forest = RandomForestRegressor(n_estimators=1000, criterion='mse')\n",
    "forest.fit(X_train,y_train)\n",
    "y_train_pred = forest.predict(X_train)\n",
    "y_test_pred = forest.predict(X_test)\n",
    "\n",
    "# 학습한 모델을 평가합니다.\n",
    "print('MSE train:%.3f, test:%.3f' % (mean_squared_error(y_train, y_train_pred),\n",
    "                                    mean_squared_error(y_test, y_test_pred)))\n",
    "print('R^2 train: %.3f, test: %.3f' % (r2_score(y_train, y_train_pred),r2_score(y_test, y_test_pred)))"
   ]
  },
  {
   "cell_type": "markdown",
   "id": "e1ac079c",
   "metadata": {},
   "source": [
    "아래의 코드와 실행 결과는 랜덤 포레스트 모델의 피처 중요도를 출력한 것입니다. 이를 통해 factory_price, maker_apple... 순으로 모델에 중요한 피처라는 것을 알 수 있습니다."
   ]
  },
  {
   "cell_type": "markdown",
   "id": "9ffe8b4d",
   "metadata": {},
   "source": [
    "#### 피처 중요도 분석하기"
   ]
  },
  {
   "cell_type": "code",
   "execution_count": 74,
   "id": "e67ded8c",
   "metadata": {},
   "outputs": [
    {
     "data": {
      "text/plain": [
       "[('factory_price', 0.40587475260568695),\n",
       " ('maker_apple', 0.2973776140381193),\n",
       " ('phone_model_galaxy s3 3g 8gb', 0.0221099692400612),\n",
       " ('phone_model_iphone se 64gb', 0.021487314693367954),\n",
       " ('price_index', 0.02084709902438816),\n",
       " ('phone_model_galaxy s4 32gb', 0.01650335588070174),\n",
       " ('month_2017-03', 0.014960118497103742),\n",
       " ('maker_samsung', 0.014188015890214914),\n",
       " ('phone_model_galaxy s6 32gb', 0.012396397739620804),\n",
       " ('month_2016-05', 0.010893565057665576)]"
      ]
     },
     "execution_count": 74,
     "metadata": {},
     "output_type": "execute_result"
    },
    {
     "data": {
      "image/png": "[encoded data removed]",
      "text/plain": [
       "<Figure size 432x288 with 1 Axes>"
      ]
     },
     "metadata": {
      "needs_background": "light"
     },
     "output_type": "display_data"
    }
   ],
   "source": [
    "# 학습한 모델의 피처 중요도를 그래프로 살펴봅니다.\n",
    "importances = forest.feature_importances_\n",
    "indices = np.argsort(importances)[::-1]\n",
    "plt.bar(range(X.shape[1]), importances[indices])\n",
    "\n",
    "# 학습한 모델의 피처 중요도를 출력합니다.\n",
    "feat_labels = X.columns.tolist()\n",
    "feature = list(zip(feat_labels, forest.feature_importances_))\n",
    "sorted(feature, key=lambda tup: tup[1], reverse=True)[:10]"
   ]
  },
  {
   "cell_type": "markdown",
   "id": "dbfaeec6",
   "metadata": {},
   "source": [
    "그렇다면 '시간'은 모델에 어떤 영향을 미칠까요? 이를 알아보기 위해 month 피처의 중요도만 살펴봅시다."
   ]
  },
  {
   "cell_type": "markdown",
   "id": "b6702048",
   "metadata": {},
   "source": [
    "#### 피처 중요도 분석하기"
   ]
  },
  {
   "cell_type": "code",
   "execution_count": 75,
   "id": "5b1c715f",
   "metadata": {},
   "outputs": [
    {
     "name": "stdout",
     "output_type": "stream",
     "text": [
      "('month_2017-03', 0.014960118497103742)\n",
      "('month_2016-05', 0.010893565057665576)\n",
      "('month_2016-09', 0.008087982473426318)\n",
      "('month_2016-04', 0.007600863634448296)\n",
      "('month_2016-10', 0.006415482531650434)\n",
      "('month_2016-06', 0.004420731651827199)\n",
      "('month_2016-08', 0.0036828202171414665)\n",
      "('month_2016-07', 0.0026707842346616116)\n",
      "('month_2016-03', 0.0024066057223718147)\n",
      "('month_2016-02', 0.0009666417569352028)\n"
     ]
    }
   ],
   "source": [
    "# month 피처 중, 영향력이 높은순으로 정렬하여 출력합니다.\n",
    "for sorted_feature in sorted(feature, key=lambda tup: tup[1], reverse=True):\n",
    "    if \"month\" in sorted_feature[0]:\n",
    "        print(sorted_feature)"
   ]
  },
  {
   "cell_type": "markdown",
   "id": "50460ff4",
   "metadata": {},
   "source": [
    "위 코드의 실행 결과를 살펴보면'최근'에 가까운 'month'일수록 피처의 중요도가 높은 것을 알 수 있습니다."
   ]
  },
  {
   "cell_type": "markdown",
   "id": "03cd18c8",
   "metadata": {},
   "source": [
    "## Step 2 피처 엔지니어링: 예측 모델 개선하기\n",
    "지금까지 수행한 탐색적 데이터 분석의 내용은 아래의 표와 같습니다. 이 내용을 토대로 가격 예측 모델의 성능을 개선하기 위한 피처 엔지니어링을 적용해봅시다.<br>\n",
    "- 피처 - 분석내용 - 파생 가능한 피처\n",
    "- date - 월 단위로 살펴본 결과, 2016년 10월과 2017년 3월의 데이터가 가장 많습니다. 최근에 가까운 월(Month)일수록 예측 모델에 중요한 피처입니다. - 게시글의 등록 월(Month)\n",
    "- price - 전체 휴대폰의 거래가와 달리 기종별 가격의 분포는 정규 분포의 형태를 띠고 있습니다 - 동일 기종 내 상대 가격(z-score)\n",
    "- factory_price - price 피처와의 양의 상관 관계가 관찰됩니다. 또한 예측 모델의 피처 중요도 분석 결과, 가장 중요한 피처로 나타났습니다.\n",
    "- phone_model - 소수의 인기 기종이 많은 데이터를 가지고 있습니다. - 휴대폰 세부 기종, 용량으로 분리한 2개의 피처 \n",
    "- maker - Apple 브랜드가 가장 많으며, 가격 예측에서도 Apple 브랜드 여부는 가장 중요한 피처 중 하나입니다.\n",
    "- price_index - 월별 변동이 크지 않으며, 총 4개의 값만을 가지고 있습니다. 가격 예측에서 그다지 중요한 피처는 아닙니다."
   ]
  },
  {
   "cell_type": "markdown",
   "id": "0ef7dbab",
   "metadata": {},
   "source": [
    "가장 먼저 create_date 피처를 분석에 활용하기 위해 '시간 점수'라는 것을 만들어봅시다. 생성 과정은 다음과 같습니다.\n",
    "- (1) create_date를 unixtime으로 변환합니다. unixtime은 시간을 정수로 표현한 것이며, 값이 클수록'최근'에 가까워집니다.\n",
    "- (2) min-max 스케일링을 적용하여 unixtime을 상대적인 점수로 계산합니다.\n",
    "- (3) 점수가 1에 가까울수록 최근에 작성한 게시물을 의미하며, 0에 가까울수록 오래된 게시물을 의미합니다."
   ]
  },
  {
   "cell_type": "markdown",
   "id": "743751fb",
   "metadata": {},
   "source": [
    "#### 기존 피처 가공하기: 'create_date'"
   ]
  },
  {
   "cell_type": "code",
   "execution_count": 76,
   "id": "7d931772",
   "metadata": {},
   "outputs": [
    {
     "data": {
      "text/html": [
       "<div>\n",
       "<style scoped>\n",
       "    .dataframe tbody tr th:only-of-type {\n",
       "        vertical-align: middle;\n",
       "    }\n",
       "\n",
       "    .dataframe tbody tr th {\n",
       "        vertical-align: top;\n",
       "    }\n",
       "\n",
       "    .dataframe thead th {\n",
       "        text-align: right;\n",
       "    }\n",
       "</style>\n",
       "<table border=\"1\" class=\"dataframe\">\n",
       "  <thead>\n",
       "    <tr style=\"text-align: right;\">\n",
       "      <th></th>\n",
       "      <th>create_date</th>\n",
       "      <th>create_unixtime</th>\n",
       "      <th>create_time_score</th>\n",
       "    </tr>\n",
       "  </thead>\n",
       "  <tbody>\n",
       "    <tr>\n",
       "      <th>0</th>\n",
       "      <td>2017-03-19  4 35 00 PM</td>\n",
       "      <td>1.489882e+09</td>\n",
       "      <td>0.985612</td>\n",
       "    </tr>\n",
       "    <tr>\n",
       "      <th>1</th>\n",
       "      <td>2016-10-26  12 08 00 PM</td>\n",
       "      <td>1.477440e+09</td>\n",
       "      <td>0.640288</td>\n",
       "    </tr>\n",
       "    <tr>\n",
       "      <th>2</th>\n",
       "      <td>2016-10-25  12 52 00 PM</td>\n",
       "      <td>1.477354e+09</td>\n",
       "      <td>0.637890</td>\n",
       "    </tr>\n",
       "    <tr>\n",
       "      <th>3</th>\n",
       "      <td>2017-03-23  11 14 00 PM</td>\n",
       "      <td>1.490227e+09</td>\n",
       "      <td>0.995204</td>\n",
       "    </tr>\n",
       "    <tr>\n",
       "      <th>4</th>\n",
       "      <td>2016-04-11  7 35 00 PM</td>\n",
       "      <td>1.460333e+09</td>\n",
       "      <td>0.165468</td>\n",
       "    </tr>\n",
       "  </tbody>\n",
       "</table>\n",
       "</div>"
      ],
      "text/plain": [
       "               create_date  create_unixtime  create_time_score\n",
       "0   2017-03-19  4 35 00 PM     1.489882e+09           0.985612\n",
       "1  2016-10-26  12 08 00 PM     1.477440e+09           0.640288\n",
       "2  2016-10-25  12 52 00 PM     1.477354e+09           0.637890\n",
       "3  2017-03-23  11 14 00 PM     1.490227e+09           0.995204\n",
       "4   2016-04-11  7 35 00 PM     1.460333e+09           0.165468"
      ]
     },
     "execution_count": 76,
     "metadata": {},
     "output_type": "execute_result"
    }
   ],
   "source": [
    "# 데이터를 다시 불러옵니다.\n",
    "df = pd.read_csv(\"data/used_mobile_phone.csv\")\n",
    "\n",
    "from datetime import datetime\n",
    "import time\n",
    "\n",
    "# create_date 피처를 수치적으로 계산하기 위해 unixtime으로 변환하는 함수를 정의합니다.\n",
    "def date_to_unixtime(date_str):\n",
    "    timestamp = time.mktime(datetime.strptime(date_str, '%Y-%m-%d').timetuple())\n",
    "    return timestamp\n",
    "\n",
    "# create_date 피처를 '현재와 얼마나 가까운 데이터인지' 판단하기 위한 점수를 생성합니다. 먼저 unixtime으로 데이터를 변환합니다.\n",
    "df['create_unixtime'] = df['create_date'].apply(lambda x: date_to_unixtime(x[:10]))\n",
    "\n",
    "# 변환된 unixtime에 min-max 스케일링을 적용합니다.\n",
    "df['create_time_score'] = (df['create_unixtime'] - df['create_unixtime'].min()) /\\\n",
    "                        (df['create_unixtime'].max() - df['create_unixtime'].min())\n",
    "df[['create_date', 'create_unixtime','create_time_score']].head()"
   ]
  },
  {
   "cell_type": "markdown",
   "id": "bec63bc3",
   "metadata": {},
   "source": [
    "다음으로 phone_model에 대한 피처 엔지니어링을 수행합니다. phone_model 피처는 '제품명+용량'으로 구성되어 있기 때문에 이를 나누어주기만 하면 2개의 분리된 피처를 얻을 수 있습니다. phone_model 피처를 분리하는 것은 어떤 효과가 있을까요?"
   ]
  },
  {
   "cell_type": "markdown",
   "id": "3ac0b9ce",
   "metadata": {},
   "source": [
    "#### 기존 피처의 가공: phone_model"
   ]
  },
  {
   "cell_type": "code",
   "execution_count": 77,
   "id": "a188ff14",
   "metadata": {},
   "outputs": [
    {
     "data": {
      "text/html": [
       "<div>\n",
       "<style scoped>\n",
       "    .dataframe tbody tr th:only-of-type {\n",
       "        vertical-align: middle;\n",
       "    }\n",
       "\n",
       "    .dataframe tbody tr th {\n",
       "        vertical-align: top;\n",
       "    }\n",
       "\n",
       "    .dataframe thead th {\n",
       "        text-align: right;\n",
       "    }\n",
       "</style>\n",
       "<table border=\"1\" class=\"dataframe\">\n",
       "  <thead>\n",
       "    <tr style=\"text-align: right;\">\n",
       "      <th></th>\n",
       "      <th>phone_model_storage</th>\n",
       "      <th>phone_model_detail</th>\n",
       "    </tr>\n",
       "  </thead>\n",
       "  <tbody>\n",
       "    <tr>\n",
       "      <th>0</th>\n",
       "      <td>64gb</td>\n",
       "      <td>iphone6</td>\n",
       "    </tr>\n",
       "    <tr>\n",
       "      <th>1</th>\n",
       "      <td>32gb</td>\n",
       "      <td>galaxys6edge</td>\n",
       "    </tr>\n",
       "    <tr>\n",
       "      <th>2</th>\n",
       "      <td>32gb</td>\n",
       "      <td>galaxys6</td>\n",
       "    </tr>\n",
       "    <tr>\n",
       "      <th>3</th>\n",
       "      <td>32gb</td>\n",
       "      <td>lgg5</td>\n",
       "    </tr>\n",
       "    <tr>\n",
       "      <th>4</th>\n",
       "      <td>32gb</td>\n",
       "      <td>lgu</td>\n",
       "    </tr>\n",
       "  </tbody>\n",
       "</table>\n",
       "</div>"
      ],
      "text/plain": [
       "  phone_model_storage phone_model_detail\n",
       "0                64gb            iphone6\n",
       "1                32gb       galaxys6edge\n",
       "2                32gb           galaxys6\n",
       "3                32gb               lgg5\n",
       "4                32gb                lgu"
      ]
     },
     "execution_count": 77,
     "metadata": {},
     "output_type": "execute_result"
    }
   ],
   "source": [
    "# phone_model 피처에서 저장 용량(phone_model_storage) 피처를 추출합니다.\n",
    "df['phone_model_storage'] = df['phone_model'].apply(lambda x: x.split(\" \")[-1])\n",
    "\n",
    "# phone_model 피처에서 기종 세부명(phone_model_detail) 피처를 추출합니다.\n",
    "df['phone_model_detail'] = df['phone_model'].apply(lambda x: ''.join(x.split(\" \")[:-1]))\n",
    "df[['phone_model_storage','phone_model_detail']].head()"
   ]
  },
  {
   "cell_type": "markdown",
   "id": "29dbcd05",
   "metadata": {},
   "source": [
    "아래 코드에서는 phone_model 피처를 분리함으로써 얻을 수 있는 효과를 알아보기 위해 피처 분리 이전과 이후의 분포를 상자 그림으로 비교해봅시다."
   ]
  },
  {
   "cell_type": "markdown",
   "id": "9c36d1e8",
   "metadata": {},
   "source": [
    "#### 기존 피처의 가공: phone_model"
   ]
  },
  {
   "cell_type": "code",
   "execution_count": 78,
   "id": "1bdb7b37",
   "metadata": {},
   "outputs": [
    {
     "data": {
      "text/plain": [
       "{'whiskers': [<matplotlib.lines.Line2D at 0x7f9bc1517640>,\n",
       "  <matplotlib.lines.Line2D at 0x7f9bc15179a0>,\n",
       "  <matplotlib.lines.Line2D at 0x7f9bc1524e20>,\n",
       "  <matplotlib.lines.Line2D at 0x7f9bc152e1c0>],\n",
       " 'caps': [<matplotlib.lines.Line2D at 0x7f9bc1517d00>,\n",
       "  <matplotlib.lines.Line2D at 0x7f9bc15240a0>,\n",
       "  <matplotlib.lines.Line2D at 0x7f9bc152e520>,\n",
       "  <matplotlib.lines.Line2D at 0x7f9bc152e880>],\n",
       " 'boxes': [<matplotlib.lines.Line2D at 0x7f9bc15172e0>,\n",
       "  <matplotlib.lines.Line2D at 0x7f9bc1524ac0>],\n",
       " 'medians': [<matplotlib.lines.Line2D at 0x7f9bc1524400>,\n",
       "  <matplotlib.lines.Line2D at 0x7f9bc152ebe0>],\n",
       " 'fliers': [<matplotlib.lines.Line2D at 0x7f9bc1524760>,\n",
       "  <matplotlib.lines.Line2D at 0x7f9bc152ef40>],\n",
       " 'means': []}"
      ]
     },
     "execution_count": 78,
     "metadata": {},
     "output_type": "execute_result"
    },
    {
     "data": {
      "image/png": "[encoded data removed]",
      "text/plain": [
       "<Figure size 432x288 with 1 Axes>"
      ]
     },
     "metadata": {
      "needs_background": "light"
     },
     "output_type": "display_data"
    }
   ],
   "source": [
    "# phone_model 피처의 기종별 거래 데이터 개수를 집계합니다.\n",
    "model_counts = df['phone_model'].value_counts()\n",
    "\n",
    "# phone_model_datail 피처의 기종별 거래 데이터 개수를 집계합니다.\n",
    "model_detail_counts = df['phone_model_detail'].value_counts()\n",
    "data = [model_counts, model_detail_counts]\n",
    "\n",
    "# 두 피처 간의 기종별 거래 데이터 개수를 비교합니다.\n",
    "mpl_fig = plt.figure()\n",
    "ax = mpl_fig.add_subplot(111)\n",
    "ax.boxplot(data)"
   ]
  },
  {
   "cell_type": "markdown",
   "id": "520c33fb",
   "metadata": {},
   "source": [
    "이를 살펴본 결과, 쏠림 현상이 심해진 하나의 기종을 제외하면 전체적인 분포가 안정적으로 변한것을 알 수 있습니다. 게다가 분석에 덤으로 사용할 수 있는 'phone_model_storage'라는 새로운 피처까지 생겼습니다<br>\n",
    "이번에는 텍스트 정보에 대한 피처 엔지니어링을 수행합니다. 텍스트 정보에는 물품의 상태가 나타나 있을 것이고, 이는 가격 예측에 영향을 미칠 것이기 때문입니다. 따라서 물품의 상태를 분류할 수 있는 감성 분류가 필요합니다.<br>\n",
    "그렇다면 감성 분류의 정답, 즉'상태가 좋다' 혹은'상태가 나쁘다'는 어떻게 판단할 수 있을까요? 이를 위해'기종별 가격의 분포는 정규분포다'라는 정보를 활용해 봅시다. 활용 방법은 다음과 같습니다.<br>\n",
    "- (1) price 피처를 같은 기종 내에서의 z-score로 변환합니다.\n",
    "- (2) z-score 기준, 상위 5%에 속하는 가격의 게시글은 '상태가 좋음',하위 5%는 '상태가 나쁨', 그리고 그 외는 '보통'으로 판단합니다. 상위n%의 판단은 quantile() 함수를 사용합니다.\n",
    "- (3)정의한 세가지 상태를 감성 분류의 정답 데이터로 사용합니다."
   ]
  },
  {
   "cell_type": "markdown",
   "id": "d635cd64",
   "metadata": {},
   "source": [
    "####  감성 분류로 물픔의 상태 분류하기"
   ]
  },
  {
   "cell_type": "code",
   "execution_count": 79,
   "id": "530bbc72",
   "metadata": {},
   "outputs": [
    {
     "name": "stdout",
     "output_type": "stream",
     "text": [
      "-1.3966616903783426\n",
      "1.666982156397844\n"
     ]
    },
    {
     "data": {
      "image/png": "[encoded data removed]",
      "text/plain": [
       "<Figure size 432x288 with 1 Axes>"
      ]
     },
     "metadata": {
      "needs_background": "light"
     },
     "output_type": "display_data"
    }
   ],
   "source": [
    "# 거래 가격(price)의 z-score를 계산합니다. 이는 해당 데이터의 가격이 기종의 평균에 비해 어느 정도로 높거나 낮은지를 알 수 있게 하는 점수입니다.\n",
    "df['price_by_group'] = df.groupby('phone_model_detail')['price'].transform(lambda x:(x - x.mean()) / x.std())\n",
    "\n",
    "# 거래 가격의 z-score(price_by_group)의 분포를 그래프로 출력합니다.\n",
    "ax = df['price_by_group'].hist(bins=\"auto\")\n",
    "\n",
    "# z-score(price_by_group) 기준으로 하위 5%, 상위 5%에 해당하는 점수를 lower_bound, upper_bound라고 지정합니다.\n",
    "lower_bound = df['price_by_group'].quantile(0.05)\n",
    "upper_bound = df['price_by_group'].quantile(0.95)\n",
    "\n",
    "# lower_bound, upper_bound 그래프에 추가합니다.\n",
    "ax.axvline(x=lower_bound, color='r', linestyle='dashed', linewidth=2)\n",
    "ax.axvline(x=upper_bound, color='r', linestyle='dashed', linewidth=2)\n",
    "\n",
    "# lower_bound를 upper_bound 출렵합니다.\n",
    "print(lower_bound)\n",
    "print(upper_bound)"
   ]
  },
  {
   "cell_type": "markdown",
   "id": "e0386c0f",
   "metadata": {},
   "source": [
    "감성 분류의 정담 데이터를 'price_level'이라는 피처로 생성한 결과는 다음과 같습니다. 이제 우리는 price_level, 그리고 text피처를 이용하여 감성 분류를 수행할 수 있습니다."
   ]
  },
  {
   "cell_type": "markdown",
   "id": "583f4b3c",
   "metadata": {},
   "source": [
    "#### 감성 분류로 물품의 상태 분류하기"
   ]
  },
  {
   "cell_type": "code",
   "execution_count": 80,
   "id": "1e1f5f75",
   "metadata": {},
   "outputs": [
    {
     "data": {
      "text/html": [
       "<div>\n",
       "<style scoped>\n",
       "    .dataframe tbody tr th:only-of-type {\n",
       "        vertical-align: middle;\n",
       "    }\n",
       "\n",
       "    .dataframe tbody tr th {\n",
       "        vertical-align: top;\n",
       "    }\n",
       "\n",
       "    .dataframe thead th {\n",
       "        text-align: right;\n",
       "    }\n",
       "</style>\n",
       "<table border=\"1\" class=\"dataframe\">\n",
       "  <thead>\n",
       "    <tr style=\"text-align: right;\">\n",
       "      <th></th>\n",
       "      <th>price</th>\n",
       "      <th>price_lower</th>\n",
       "      <th>price_upper</th>\n",
       "      <th>price_level</th>\n",
       "      <th>text</th>\n",
       "    </tr>\n",
       "  </thead>\n",
       "  <tbody>\n",
       "    <tr>\n",
       "      <th>0</th>\n",
       "      <td>550000.0</td>\n",
       "      <td>180000.0</td>\n",
       "      <td>680000.0</td>\n",
       "      <td>1</td>\n",
       "      <td>아이폰6플러스 블랙+애플라이트 64기가 팝니다  아이폰6플러스 블랙+애플라이트 64...</td>\n",
       "    </tr>\n",
       "    <tr>\n",
       "      <th>1</th>\n",
       "      <td>380000.0</td>\n",
       "      <td>180000.0</td>\n",
       "      <td>414000.0</td>\n",
       "      <td>1</td>\n",
       "      <td>갤럭시s6엣지 32기가 팝니다 직거래  갤럭시s6엣지 32기가 품명 갤럭시s6엣지제...</td>\n",
       "    </tr>\n",
       "    <tr>\n",
       "      <th>2</th>\n",
       "      <td>300000.0</td>\n",
       "      <td>150000.0</td>\n",
       "      <td>349000.0</td>\n",
       "      <td>1</td>\n",
       "      <td>갤럭시s6 풀박스로 팝니다~~~ 새상품급  실기스조차 없어요  직접거래 구매한지 1...</td>\n",
       "    </tr>\n",
       "    <tr>\n",
       "      <th>3</th>\n",
       "      <td>290000.0</td>\n",
       "      <td>100000.0</td>\n",
       "      <td>500000.0</td>\n",
       "      <td>1</td>\n",
       "      <td>sk  g5 티탄 폰 단품판매합니다  직접거래 sk g5 티탄 폰 단품판매합니다 올...</td>\n",
       "    </tr>\n",
       "    <tr>\n",
       "      <th>4</th>\n",
       "      <td>280000.0</td>\n",
       "      <td>18000.0</td>\n",
       "      <td>400000.0</td>\n",
       "      <td>1</td>\n",
       "      <td>sony 엑스페리아 c5 ultra e5506 16gb  미사용 새제품 팝니다 1...</td>\n",
       "    </tr>\n",
       "  </tbody>\n",
       "</table>\n",
       "</div>"
      ],
      "text/plain": [
       "      price  price_lower  price_upper price_level  \\\n",
       "0  550000.0     180000.0     680000.0           1   \n",
       "1  380000.0     180000.0     414000.0           1   \n",
       "2  300000.0     150000.0     349000.0           1   \n",
       "3  290000.0     100000.0     500000.0           1   \n",
       "4  280000.0      18000.0     400000.0           1   \n",
       "\n",
       "                                                text  \n",
       "0  아이폰6플러스 블랙+애플라이트 64기가 팝니다  아이폰6플러스 블랙+애플라이트 64...  \n",
       "1  갤럭시s6엣지 32기가 팝니다 직거래  갤럭시s6엣지 32기가 품명 갤럭시s6엣지제...  \n",
       "2  갤럭시s6 풀박스로 팝니다~~~ 새상품급  실기스조차 없어요  직접거래 구매한지 1...  \n",
       "3  sk  g5 티탄 폰 단품판매합니다  직접거래 sk g5 티탄 폰 단품판매합니다 올...  \n",
       "4   sony 엑스페리아 c5 ultra e5506 16gb  미사용 새제품 팝니다 1...  "
      ]
     },
     "execution_count": 80,
     "metadata": {},
     "output_type": "execute_result"
    }
   ],
   "source": [
    "# lower_bount보다 낮으면 0, upper_bound보다 높으면 2, 그 중간이면 1로 가격의 상태를 분류하는 함수를 정의합니다.\n",
    "def get_price_level(price, lower, upper):\n",
    "    if price <= lower:\n",
    "        return \"0\"\n",
    "    elif price >= upper:\n",
    "        return \"2\"\n",
    "    else:\n",
    "        return \"1\"\n",
    "# lower_bound 보다 낮으면 0, upper_bound보다 높으면 2, 그 중간이면 1로 가격의 상태를 분류합니다.\n",
    "df['price_lower'] = df.groupby('phone_model_detail')['price'].transform(lambda x: x.quantile(0.05))\n",
    "df['price_upper'] = df.groupby('phone_model_detail')['price'].transform(lambda x: x.quantile(0.95))\n",
    "df['price_level'] = df.apply(lambda row: get_price_level(row['price'], row['price_lower'], row['price_upper']), axis=1)\n",
    "df[['price','price_lower','price_upper','price_level','text']].head()"
   ]
  },
  {
   "cell_type": "markdown",
   "id": "d9ba4886",
   "metadata": {},
   "source": [
    "다음으로 텍스트 전처리 과정을 진행할 차례입니다. 우선 실습 폴더에 있는 used_mobile_phone_stopwords.pkl 파일을 불러옵니다. 이파일은 중고나라 텍스트 분석에 사용되는 불용어를 미리 저장해놓은 파일입니다."
   ]
  },
  {
   "cell_type": "markdown",
   "id": "1ea5d5fb",
   "metadata": {},
   "source": [
    "####  텍스트 전처리하기"
   ]
  },
  {
   "cell_type": "code",
   "execution_count": 81,
   "id": "597d5d17",
   "metadata": {},
   "outputs": [
    {
     "name": "stdout",
     "output_type": "stream",
     "text": [
      "['거래', '입니', '판매', '아이폰', '갤럭시', '골드', '팝', '만원', '폰', '시']\n"
     ]
    }
   ],
   "source": [
    "import pickle\n",
    "import re\n",
    "\n",
    "# 중고나라 불용어 사전을 불러옵니다.\n",
    "with open('data/used_mobile_phone_stopwords.pkl','rb') as f:\n",
    "    stopwords = pickle.load(f)\n",
    "    \n",
    "# 불용어 사전에 등록된 단어 10개를 출력합니다\n",
    "print(stopwords[:10])"
   ]
  },
  {
   "cell_type": "markdown",
   "id": "6fe19987",
   "metadata": {},
   "source": [
    "아래의 코드는 전처리된 데이터의 형태소를 추출하는 과정입니다.코드에서 정의된 함수 text_cleaning() 은 다음과 같은 전처리를 수행합니다.\n",
    "- (1) 텍스트에서 특수문자를 제거합니다. 단,'+'와',' 문자는 제거하지 않습니다.\n",
    "- (2) 텍스트에서 숫자를 제거합니다.<br>\n",
    "\n",
    "또한 get_pos()는 불용어에 등장하지 않는 형태소만을 추출하여 반환하는 함수입니다."
   ]
  },
  {
   "cell_type": "markdown",
   "id": "ac07be0e",
   "metadata": {},
   "source": [
    "출처 : \"이것이 데이터 분석이다 with 파이썬\""
   ]
  }
 ],
 "metadata": {
  "kernelspec": {
   "display_name": "Python 3",
   "language": "python",
   "name": "python3"
  },
  "language_info": {
   "codemirror_mode": {
    "name": "ipython",
    "version": 3
   },
   "file_extension": ".py",
   "mimetype": "text/x-python",
   "name": "python",
   "nbconvert_exporter": "python",
   "pygments_lexer": "ipython3",
   "version": "3.8.8"
  }
 },
 "nbformat": 4,
 "nbformat_minor": 5
}
