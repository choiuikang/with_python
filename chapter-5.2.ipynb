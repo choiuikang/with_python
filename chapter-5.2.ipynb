{
 "cells": [
  {
   "cell_type": "markdown",
   "id": "879436e3",
   "metadata": {},
   "source": [
    "# 5.2 구매 데이터를 분석하여 상품 추천하기"
   ]
  },
  {
   "cell_type": "markdown",
   "id": "de2f21c9",
   "metadata": {},
   "source": [
    "이번 절에서는 구매 데이터 분석에 기반한 온라인 스토어 상품 추천 시뮬레이션 예제를 알아보겠습니다. 예제에서는 피처 엔지니어링, 그리고 행렬 완성 기반 점수 예측 방법을 이용하여 상품 추천 시물레이션을 수행합니다. 분석에 사용할'UK Retail'데이터는 영국의 한 선물 판매 온라인 스토어에서 발생한 거래 데이터로, 주 고객은 선물 도매상입니다."
   ]
  },
  {
   "cell_type": "markdown",
   "id": "0d70fb8c",
   "metadata": {},
   "source": [
    "## Step 1 탐색적 분석: UK Retail 데이터 분석하기\n",
    "예제에서 사용할 UK Retail 데이터셋은 다음과 같은 피처로 구성되어 있습니다.\n",
    "- invoiceNO : 거래 고유 번호\n",
    "- StockCode : 상품 고유 번호\n",
    "- Description : 상품명 \n",
    "- Quantiy : 거래 수량\n",
    "- InvoiceDate : 거래 일시\n",
    "- UnitPrice : 상품 단가\n",
    "- CustomerID : 구매자 고유 번호\n",
    "- Country : 구매 국가<br>\n",
    "\n",
    "아래의 코드를 통해 데이터를 살펴본 결과, 약 54만 개 정도의 데이터가 존재하며 그 중 14만 개의 데이터는 구매자 정보가 결측값인 것을 알 수 있습니다."
   ]
  },
  {
   "cell_type": "markdown",
   "id": "3cd7f0c5",
   "metadata": {},
   "source": [
    "#### 데이터셋 살펴보기"
   ]
  },
  {
   "cell_type": "code",
   "execution_count": 1,
   "id": "bdf65c91",
   "metadata": {},
   "outputs": [
    {
     "name": "stdout",
     "output_type": "stream",
     "text": [
      "<class 'pandas.core.frame.DataFrame'>\n",
      "RangeIndex: 541909 entries, 0 to 541908\n",
      "Data columns (total 8 columns):\n",
      " #   Column       Non-Null Count   Dtype         \n",
      "---  ------       --------------   -----         \n",
      " 0   InvoiceNo    541909 non-null  object        \n",
      " 1   StockCode    541909 non-null  object        \n",
      " 2   Description  540455 non-null  object        \n",
      " 3   Quantity     541909 non-null  int64         \n",
      " 4   InvoiceDate  541909 non-null  datetime64[ns]\n",
      " 5   UnitPrice    541909 non-null  float64       \n",
      " 6   CustomerID   406829 non-null  object        \n",
      " 7   Country      541909 non-null  object        \n",
      "dtypes: datetime64[ns](1), float64(1), int64(1), object(5)\n",
      "memory usage: 33.1+ MB\n",
      "None\n"
     ]
    },
    {
     "data": {
      "text/html": [
       "<div>\n",
       "<style scoped>\n",
       "    .dataframe tbody tr th:only-of-type {\n",
       "        vertical-align: middle;\n",
       "    }\n",
       "\n",
       "    .dataframe tbody tr th {\n",
       "        vertical-align: top;\n",
       "    }\n",
       "\n",
       "    .dataframe thead th {\n",
       "        text-align: right;\n",
       "    }\n",
       "</style>\n",
       "<table border=\"1\" class=\"dataframe\">\n",
       "  <thead>\n",
       "    <tr style=\"text-align: right;\">\n",
       "      <th></th>\n",
       "      <th>InvoiceNo</th>\n",
       "      <th>StockCode</th>\n",
       "      <th>Description</th>\n",
       "      <th>Quantity</th>\n",
       "      <th>InvoiceDate</th>\n",
       "      <th>UnitPrice</th>\n",
       "      <th>CustomerID</th>\n",
       "      <th>Country</th>\n",
       "    </tr>\n",
       "  </thead>\n",
       "  <tbody>\n",
       "    <tr>\n",
       "      <th>0</th>\n",
       "      <td>536365</td>\n",
       "      <td>85123A</td>\n",
       "      <td>WHITE HANGING HEART T-LIGHT HOLDER</td>\n",
       "      <td>6</td>\n",
       "      <td>2010-12-01 08:26:00</td>\n",
       "      <td>2.55</td>\n",
       "      <td>17850</td>\n",
       "      <td>United Kingdom</td>\n",
       "    </tr>\n",
       "    <tr>\n",
       "      <th>1</th>\n",
       "      <td>536365</td>\n",
       "      <td>71053</td>\n",
       "      <td>WHITE METAL LANTERN</td>\n",
       "      <td>6</td>\n",
       "      <td>2010-12-01 08:26:00</td>\n",
       "      <td>3.39</td>\n",
       "      <td>17850</td>\n",
       "      <td>United Kingdom</td>\n",
       "    </tr>\n",
       "    <tr>\n",
       "      <th>2</th>\n",
       "      <td>536365</td>\n",
       "      <td>84406B</td>\n",
       "      <td>CREAM CUPID HEARTS COAT HANGER</td>\n",
       "      <td>8</td>\n",
       "      <td>2010-12-01 08:26:00</td>\n",
       "      <td>2.75</td>\n",
       "      <td>17850</td>\n",
       "      <td>United Kingdom</td>\n",
       "    </tr>\n",
       "    <tr>\n",
       "      <th>3</th>\n",
       "      <td>536365</td>\n",
       "      <td>84029G</td>\n",
       "      <td>KNITTED UNION FLAG HOT WATER BOTTLE</td>\n",
       "      <td>6</td>\n",
       "      <td>2010-12-01 08:26:00</td>\n",
       "      <td>3.39</td>\n",
       "      <td>17850</td>\n",
       "      <td>United Kingdom</td>\n",
       "    </tr>\n",
       "    <tr>\n",
       "      <th>4</th>\n",
       "      <td>536365</td>\n",
       "      <td>84029E</td>\n",
       "      <td>RED WOOLLY HOTTIE WHITE HEART.</td>\n",
       "      <td>6</td>\n",
       "      <td>2010-12-01 08:26:00</td>\n",
       "      <td>3.39</td>\n",
       "      <td>17850</td>\n",
       "      <td>United Kingdom</td>\n",
       "    </tr>\n",
       "  </tbody>\n",
       "</table>\n",
       "</div>"
      ],
      "text/plain": [
       "  InvoiceNo StockCode                          Description  Quantity  \\\n",
       "0    536365    85123A   WHITE HANGING HEART T-LIGHT HOLDER         6   \n",
       "1    536365     71053                  WHITE METAL LANTERN         6   \n",
       "2    536365    84406B       CREAM CUPID HEARTS COAT HANGER         8   \n",
       "3    536365    84029G  KNITTED UNION FLAG HOT WATER BOTTLE         6   \n",
       "4    536365    84029E       RED WOOLLY HOTTIE WHITE HEART.         6   \n",
       "\n",
       "          InvoiceDate  UnitPrice CustomerID         Country  \n",
       "0 2010-12-01 08:26:00       2.55      17850  United Kingdom  \n",
       "1 2010-12-01 08:26:00       3.39      17850  United Kingdom  \n",
       "2 2010-12-01 08:26:00       2.75      17850  United Kingdom  \n",
       "3 2010-12-01 08:26:00       3.39      17850  United Kingdom  \n",
       "4 2010-12-01 08:26:00       3.39      17850  United Kingdom  "
      ]
     },
     "execution_count": 1,
     "metadata": {},
     "output_type": "execute_result"
    }
   ],
   "source": [
    "# -*- coding: utf-8 -*-\n",
    "%matplotlib inline\n",
    "\n",
    "import pandas as pd\n",
    "import numpy as np\n",
    "import matplotlib.pyplot as plt\n",
    "\n",
    "import warnings\n",
    "warnings.filterwarnings(\"ignore\")\n",
    "\n",
    "# 영국 온라인 스토어 도매 거래 데이터\n",
    "df = pd.read_csv(\"data/online_retail.csv\", dtype={'CustomerID': str,'InvoiceID': str}, encoding=\"ISO-8859-1\")\n",
    "df['InvoiceDate'] = pd.to_datetime(df['InvoiceDate'], format = \"%m/%d/%Y %H:%M\")\n",
    "print(df.info())\n",
    "df.head()"
   ]
  },
  {
   "cell_type": "markdown",
   "id": "5a5902a4",
   "metadata": {},
   "source": [
    "본격적인 탐색적 데이터 분석에 앞서, 데이터에서 예외적인 상황을 필터링하여 이상치를 제거해야 합니다. 가장 먼저 결측 데이터를 제거하겠습니다. 다음 코드와 실행 결과는 ㄴ유저 정보가 없는 13만5천여 개의 데이터, 상품 상세정보가 없는 1,500여 개의 데이터를 제거한 것입니다."
   ]
  },
  {
   "cell_type": "markdown",
   "id": "3199ef08",
   "metadata": {},
   "source": [
    "#### 결측 데이터 제거하기"
   ]
  },
  {
   "cell_type": "code",
   "execution_count": 2,
   "id": "04917335",
   "metadata": {},
   "outputs": [
    {
     "data": {
      "text/plain": [
       "InvoiceNo           0\n",
       "StockCode           0\n",
       "Description      1454\n",
       "Quantity            0\n",
       "InvoiceDate         0\n",
       "UnitPrice           0\n",
       "CustomerID     135080\n",
       "Country             0\n",
       "dtype: int64"
      ]
     },
     "execution_count": 2,
     "metadata": {},
     "output_type": "execute_result"
    }
   ],
   "source": [
    "df.isnull().sum()"
   ]
  },
  {
   "cell_type": "code",
   "execution_count": 3,
   "id": "4ed3ac2e",
   "metadata": {},
   "outputs": [
    {
     "name": "stdout",
     "output_type": "stream",
     "text": [
      "(406829, 8)\n"
     ]
    }
   ],
   "source": [
    "df = df.dropna()\n",
    "print(df.shape)"
   ]
  },
  {
   "cell_type": "markdown",
   "id": "812fe638",
   "metadata": {},
   "source": [
    "다음은 데이터가 일반적이지 않은 경우를 탐색하고 이를 제거하겠습니다. 이번에는 상품 수량 데이터가 이상한 경우를 탐색합니다. 아래의 코드는 상품 수량이 0 이하인 경우 해당 값을 데이터 프레임에서 제거하는 과정입니다. 이러한 경우는 아마도 환불이나 주문 취소를 의미하는 것 같지만 그 의미가 명확하지 않으니 제거합니다. 코드의 실행 결과, 약 9,000여 개의 데이터가 제거되었습니다."
   ]
  },
  {
   "cell_type": "markdown",
   "id": "94ad5b04",
   "metadata": {},
   "source": [
    "#### 탐색 데이터의 조건 필터링: 상품 수량이 0 이하인 경우"
   ]
  },
  {
   "cell_type": "code",
   "execution_count": 4,
   "id": "f53334d7",
   "metadata": {},
   "outputs": [
    {
     "name": "stdout",
     "output_type": "stream",
     "text": [
      "8905\n"
     ]
    }
   ],
   "source": [
    "# 상품 수량이 음수인 경우를 제거합니다.\n",
    "print(df[df['Quantity']<=0].shape[0])\n",
    "df = df[df['Quantity']>0]"
   ]
  },
  {
   "cell_type": "markdown",
   "id": "4a5ef441",
   "metadata": {},
   "source": [
    "이번에는 상품 가격이 0 이하인 경우를 탐색합니다. 이 역시 일반적인 상황이라고 할 수 없는 상황이기 때문에 조건에 해당하는 데이터를 제거합니다. 아래 코드의 실행 결과, 총 40개의 데이터가 제거되었습니다."
   ]
  },
  {
   "cell_type": "markdown",
   "id": "99fa99bc",
   "metadata": {},
   "source": [
    "#### 탐색 데이터의 조건 필터링: 상품가격이 0 이하인 경우"
   ]
  },
  {
   "cell_type": "code",
   "execution_count": 5,
   "id": "47e35d93",
   "metadata": {},
   "outputs": [
    {
     "name": "stdout",
     "output_type": "stream",
     "text": [
      "40\n"
     ]
    }
   ],
   "source": [
    "# 상품 가격이 0 이하인 경우를 제거합니다.\n",
    "print(df[df['UnitPrice']<=0].shape[0])\n",
    "df = df[df['UnitPrice']>0]"
   ]
  },
  {
   "cell_type": "markdown",
   "id": "fb4ba419",
   "metadata": {},
   "source": [
    "마지막으로 상품 코드가 이상한 경우를 탐색하고 제거합니다. 데이터 내의 StockCode를 관찰해 보면 대부분의 상품 코드가 번호로 이루어져 있는 것을 알 수 있습니다. 따라서 상품 코드가 번호가 아닌 경우는 예외적인 상황일 것입니다. 아래 실행 결과는 이러한 데이터를 살펴본 것입니다."
   ]
  },
  {
   "cell_type": "markdown",
   "id": "61edf3a3",
   "metadata": {},
   "source": [
    "#### 탐색 데이터의 조건 필터링: 상품 코드가 일반적이지 않은 경우"
   ]
  },
  {
   "cell_type": "code",
   "execution_count": 6,
   "id": "fb31a8fb",
   "metadata": {},
   "outputs": [
    {
     "name": "stdout",
     "output_type": "stream",
     "text": [
      "1414\n"
     ]
    },
    {
     "data": {
      "text/html": [
       "<div>\n",
       "<style scoped>\n",
       "    .dataframe tbody tr th:only-of-type {\n",
       "        vertical-align: middle;\n",
       "    }\n",
       "\n",
       "    .dataframe tbody tr th {\n",
       "        vertical-align: top;\n",
       "    }\n",
       "\n",
       "    .dataframe thead th {\n",
       "        text-align: right;\n",
       "    }\n",
       "</style>\n",
       "<table border=\"1\" class=\"dataframe\">\n",
       "  <thead>\n",
       "    <tr style=\"text-align: right;\">\n",
       "      <th></th>\n",
       "      <th>InvoiceNo</th>\n",
       "      <th>StockCode</th>\n",
       "      <th>Description</th>\n",
       "      <th>Quantity</th>\n",
       "      <th>InvoiceDate</th>\n",
       "      <th>UnitPrice</th>\n",
       "      <th>CustomerID</th>\n",
       "      <th>Country</th>\n",
       "      <th>ContainDigit</th>\n",
       "    </tr>\n",
       "  </thead>\n",
       "  <tbody>\n",
       "    <tr>\n",
       "      <th>45</th>\n",
       "      <td>536370</td>\n",
       "      <td>POST</td>\n",
       "      <td>POSTAGE</td>\n",
       "      <td>3</td>\n",
       "      <td>2010-12-01 08:45:00</td>\n",
       "      <td>18.00</td>\n",
       "      <td>12583</td>\n",
       "      <td>France</td>\n",
       "      <td>False</td>\n",
       "    </tr>\n",
       "    <tr>\n",
       "      <th>386</th>\n",
       "      <td>536403</td>\n",
       "      <td>POST</td>\n",
       "      <td>POSTAGE</td>\n",
       "      <td>1</td>\n",
       "      <td>2010-12-01 11:27:00</td>\n",
       "      <td>15.00</td>\n",
       "      <td>12791</td>\n",
       "      <td>Netherlands</td>\n",
       "      <td>False</td>\n",
       "    </tr>\n",
       "    <tr>\n",
       "      <th>1123</th>\n",
       "      <td>536527</td>\n",
       "      <td>POST</td>\n",
       "      <td>POSTAGE</td>\n",
       "      <td>1</td>\n",
       "      <td>2010-12-01 13:04:00</td>\n",
       "      <td>18.00</td>\n",
       "      <td>12662</td>\n",
       "      <td>Germany</td>\n",
       "      <td>False</td>\n",
       "    </tr>\n",
       "    <tr>\n",
       "      <th>2239</th>\n",
       "      <td>536569</td>\n",
       "      <td>M</td>\n",
       "      <td>Manual</td>\n",
       "      <td>1</td>\n",
       "      <td>2010-12-01 15:35:00</td>\n",
       "      <td>1.25</td>\n",
       "      <td>16274</td>\n",
       "      <td>United Kingdom</td>\n",
       "      <td>False</td>\n",
       "    </tr>\n",
       "    <tr>\n",
       "      <th>2250</th>\n",
       "      <td>536569</td>\n",
       "      <td>M</td>\n",
       "      <td>Manual</td>\n",
       "      <td>1</td>\n",
       "      <td>2010-12-01 15:35:00</td>\n",
       "      <td>18.95</td>\n",
       "      <td>16274</td>\n",
       "      <td>United Kingdom</td>\n",
       "      <td>False</td>\n",
       "    </tr>\n",
       "  </tbody>\n",
       "</table>\n",
       "</div>"
      ],
      "text/plain": [
       "     InvoiceNo StockCode Description  Quantity         InvoiceDate  UnitPrice  \\\n",
       "45      536370      POST     POSTAGE         3 2010-12-01 08:45:00      18.00   \n",
       "386     536403      POST     POSTAGE         1 2010-12-01 11:27:00      15.00   \n",
       "1123    536527      POST     POSTAGE         1 2010-12-01 13:04:00      18.00   \n",
       "2239    536569         M      Manual         1 2010-12-01 15:35:00       1.25   \n",
       "2250    536569         M      Manual         1 2010-12-01 15:35:00      18.95   \n",
       "\n",
       "     CustomerID         Country  ContainDigit  \n",
       "45        12583          France         False  \n",
       "386       12791     Netherlands         False  \n",
       "1123      12662         Germany         False  \n",
       "2239      16274  United Kingdom         False  \n",
       "2250      16274  United Kingdom         False  "
      ]
     },
     "execution_count": 6,
     "metadata": {},
     "output_type": "execute_result"
    }
   ],
   "source": [
    "# 상품 코드가 일반적이지 않은 경우를 탐색합니다.\n",
    "df['ContainDigit'] = df['StockCode'].apply(lambda x: any(c.isdigit() for c in x))\n",
    "print(df[df['ContainDigit'] == False].shape[0])\n",
    "df[df['ContainDigit'] == False].head()"
   ]
  },
  {
   "cell_type": "markdown",
   "id": "da339bdb",
   "metadata": {},
   "source": [
    "그리고 아래의 코드를 실행하여 일반적이지 않은 상품 코드를 가진 데이터를 제거합니다."
   ]
  },
  {
   "cell_type": "code",
   "execution_count": 7,
   "id": "77fa6c86",
   "metadata": {},
   "outputs": [],
   "source": [
    "# 상품 코드가 일반적이지 않은 경우를 제거합니다.\n",
    "df = df[df['ContainDigit'] == True]"
   ]
  },
  {
   "cell_type": "markdown",
   "id": "76e5ecf6",
   "metadata": {},
   "source": [
    "이제 본격적으로 탐색적 분석을 수행할 차례입니다. 이번 예제에서는 어떤 방향성을 가지고 탐색적 분석을 진행해야 할까요? 분석 방향을 잘 설정하기 위해 지금부터 우리는 특정 시점에 도매상들에게 선물을 판매하는 온라인 스토어의 운영자 입장이 되어보겠습니다. 그리고 우리의 고민은 다음과 같습니다.\n",
    "- '연말에 온라인 스토어에 방문하는 유저들에게 어떤 상품을 추천해줄 수 있을까?'<br>\n",
    "\n",
    "연말에 방문한 유저들에게 상품을 추천해준다는 것은 유저-상품 간의 구매 확률을 예측해보는 시뮬레이션이라고 할 수 있습니다. 이러한 예측 시뮬레이션은 아래와 같은 분석 과정이 필요합니다.\n",
    "- (1) 연말 이전까지의 데이터를 유저-상품 간의 구매를 예측하는 모델의 학습 데이터셋으로 사용합니다.\n",
    "- (2) 실제 연말에 구매한 유저-상품 간의 정보를 테스트 데이터셋으로 사용합니다.\n",
    "- (3) 모델이 예측한 유저-상품 간의 구매 정보와 실제 구매 정보(테스트 데이터셋)을 비교하여 추천이 잘 되었는지 평가합니다.<br>\n",
    "\n",
    "이제 우리는 위와 같은 예측 분석을 수행하기 위한 탐색적 데이터 분석(EDA)이 필요합니다. 우리에게 필요한 탐색은 특정 시간을 기준으로 데이터를 나누고, 데이터에서 구매 패턴과 같은 특징을 발견하는 것입니다. 따라서 가장 먼저 할 것은 일자별 주문의 탐색입니다.<br>\n",
    "다음의 실행 결과는 가장 오래된 데이터와 가장 최신의 데이터를 출력한 것이며 이를 통해 데이터가 2010년 12월부터 2011년 12월까지 존재하는 것을 알 수 있습니다."
   ]
  },
  {
   "cell_type": "markdown",
   "id": "4a5c51e7",
   "metadata": {},
   "source": [
    "#### 데이터의 기간 탐색하기"
   ]
  },
  {
   "cell_type": "code",
   "execution_count": 8,
   "id": "291c3a6e",
   "metadata": {},
   "outputs": [
    {
     "name": "stdout",
     "output_type": "stream",
     "text": [
      "2010-12-01\n",
      "2011-12-09\n"
     ]
    }
   ],
   "source": [
    "# 거래 데이터에서 가장 오래된 데이터와 가장 최신의 데이터를 탐색합니다.\n",
    "df['date'] = df['InvoiceDate'].dt.date\n",
    "print(df['date'].min())\n",
    "print(df['date'].max())"
   ]
  },
  {
   "cell_type": "markdown",
   "id": "e7bdcf6f",
   "metadata": {},
   "source": [
    "다음으로 일자별 거래량을 탐색합니다. 아래의 실행 결과는 일자별 거래량을 시계열 그래프로 출력한 것입니다. 코드에서는 일자를 나타내는 date 피처를 그룹의 기준으로 하여, 일자별 Quantity의 합계를 계산하였습니다. 그래프를 살펴보면 대체적으로 연말에 가까워질수록 거래량이 증가하는 것을 알 수 있으며 10~11월 정도를 기점으로 증가폭이 조금씩 커지고 있다는 것을 알 수 있습니다."
   ]
  },
  {
   "cell_type": "markdown",
   "id": "4c1172df",
   "metadata": {},
   "source": [
    "#### 일자별 거래 수량 탐색하기"
   ]
  },
  {
   "cell_type": "code",
   "execution_count": 9,
   "id": "273a2d52",
   "metadata": {},
   "outputs": [
    {
     "data": {
      "text/plain": [
       "<AxesSubplot:xlabel='date'>"
      ]
     },
     "execution_count": 9,
     "metadata": {},
     "output_type": "execute_result"
    },
    {
     "data": {
      "image/png": "[encoded data removed]",
      "text/plain": [
       "<Figure size 432x288 with 1 Axes>"
      ]
     },
     "metadata": {
      "needs_background": "light"
     },
     "output_type": "display_data"
    }
   ],
   "source": [
    "# 일자별 총 거래 수량을 탐색합니다.\n",
    "date_quantity_series = df.groupby('date')['Quantity'].sum()\n",
    "date_quantity_series.plot()"
   ]
  },
  {
   "cell_type": "markdown",
   "id": "78c1812b",
   "metadata": {},
   "source": [
    "다음 일자별 거래 횟수를 탐색합니다. 아래의 코드도 마찬가지로 date 피처를 그룹의 기준으로 하였고, nunique() 함수를 InvoiceNO 피처에 적용하여 일자별로 발생한 거래 횟수를 계산합니다. 코드의 실행 결과는 일자별 거래량을 시계열 그래프로 나타낸 것입니다. 거래 횟수는 연말에 가까워질수록 거래 수량보다 조금 더 가파르게 상승하고 있습니다."
   ]
  },
  {
   "cell_type": "markdown",
   "id": "0b35e4a8",
   "metadata": {},
   "source": [
    "#### 일자별 거래 횟수 탐색하기"
   ]
  },
  {
   "cell_type": "code",
   "execution_count": 10,
   "id": "13d0ccc9",
   "metadata": {},
   "outputs": [
    {
     "data": {
      "text/plain": [
       "<AxesSubplot:xlabel='date'>"
      ]
     },
     "execution_count": 10,
     "metadata": {},
     "output_type": "execute_result"
    },
    {
     "data": {
      "image/png": "[encoded data removed]",
      "text/plain": [
       "<Figure size 432x288 with 1 Axes>"
      ]
     },
     "metadata": {
      "needs_background": "light"
     },
     "output_type": "display_data"
    }
   ],
   "source": [
    "# 일자별 총 거래 횟수를 탐색합니다.\n",
    "date_transaction_series = df.groupby('date')['InvoiceNo'].nunique()\n",
    "date_transaction_series.plot()"
   ]
  },
  {
   "cell_type": "markdown",
   "id": "07ab669b",
   "metadata": {},
   "source": [
    "마지막으로 일자별 거래 상품 개수를 탐색합니다. 아래 코드의 실행 결과, 지금까지의 그래프 중 가장 가파른 상승세를 나타내고 잇습니다. 지금까지의 내용을 종합해보면 연말이 시작되는 약 10~11월 정도부터 연중보다 더 많이 그리고 더 자주 구매가 일어난다는 것을 알 수 있습니다."
   ]
  },
  {
   "cell_type": "markdown",
   "id": "db8d522d",
   "metadata": {},
   "source": [
    "#### 일자별 거래 상품 개수 탐색하기"
   ]
  },
  {
   "cell_type": "code",
   "execution_count": 11,
   "id": "aa62d2bd",
   "metadata": {},
   "outputs": [
    {
     "data": {
      "text/plain": [
       "<AxesSubplot:xlabel='date'>"
      ]
     },
     "execution_count": 11,
     "metadata": {},
     "output_type": "execute_result"
    },
    {
     "data": {
      "image/png": "[encoded data removed]",
      "text/plain": [
       "<Figure size 432x288 with 1 Axes>"
      ]
     },
     "metadata": {
      "needs_background": "light"
     },
     "output_type": "display_data"
    }
   ],
   "source": [
    "# 일자별 거래되 상품의 unique한 개수, 즉 상품 거래 다양성을 탐색합니다.\n",
    "date_unique_item_series = df.groupby('date')['StockCode'].nunique()\n",
    "date_unique_item_series.plot()"
   ]
  },
  {
   "cell_type": "markdown",
   "id": "ccf11a5e",
   "metadata": {},
   "source": [
    "이번에는 전체 데이터에서 등장한 유저들의 구매 패턴을 탐색해봅시다. 아래의 실행 결과는 전체 데이터에 등장한 유저의 수를 출력하는 코드를 실행한 것입니다. 이를 통해 총 4,334명의 유저가 데이터에 존재하는 것을 알 수 있습니다."
   ]
  },
  {
   "cell_type": "markdown",
   "id": "38d21d88",
   "metadata": {},
   "source": [
    "#### 전체 유저의 수 탐색하기"
   ]
  },
  {
   "cell_type": "code",
   "execution_count": 12,
   "id": "ff4c0dca",
   "metadata": {},
   "outputs": [
    {
     "name": "stdout",
     "output_type": "stream",
     "text": [
      "4334\n"
     ]
    }
   ],
   "source": [
    "# 총 유저의 수를 계산하여 출력합니다.\n",
    "print(len(df['CustomerID'].unique()))"
   ]
  },
  {
   "cell_type": "markdown",
   "id": "b2186c6f",
   "metadata": {},
   "source": [
    "4,334명의 유저를 대상으로 각각의 거래 횟수를 탐색합니다. 다음 코드는 CustomerID를 그룹으로 하여 unique한 InvoiceNo를 계산한 것이고, 이결과에 describe() 함수를 적용하여 유저별 거래 횟수에 대한 요약 통꼐 정보를 출력하였습니다. 출력 결과를 살펴보면 유저들은 평균적으로 약 4회 정도의 구매가 있었다는 것을 알 수 있고, 대부분의 유저는 1~5회 정도의 구매 횟수를 보인다는 것을 알 수 있습니다."
   ]
  },
  {
   "cell_type": "markdown",
   "id": "e295cc1a",
   "metadata": {},
   "source": [
    "#### 유저별 거래 횟수 탐색하기"
   ]
  },
  {
   "cell_type": "code",
   "execution_count": 13,
   "id": "4d2a4675",
   "metadata": {},
   "outputs": [
    {
     "data": {
      "text/plain": [
       "count    4334.000000\n",
       "mean        4.246654\n",
       "std         7.642535\n",
       "min         1.000000\n",
       "25%         1.000000\n",
       "50%         2.000000\n",
       "75%         5.000000\n",
       "max       206.000000\n",
       "Name: InvoiceNo, dtype: float64"
      ]
     },
     "execution_count": 13,
     "metadata": {},
     "output_type": "execute_result"
    }
   ],
   "source": [
    "# 유저별 거래 횟수를 탐색합니다.\n",
    "customer_unique_transaction_series = df.groupby('CustomerID')['InvoiceNo'].nunique()\n",
    "customer_unique_transaction_series.describe()"
   ]
  },
  {
   "cell_type": "markdown",
   "id": "13201339",
   "metadata": {},
   "source": [
    "그리고 이를 상자 그림으로 살펴본 결과는 아래와 같습니다."
   ]
  },
  {
   "cell_type": "markdown",
   "id": "8bbeab5d",
   "metadata": {},
   "source": [
    "#### 유저별 거래 횟수 시각화하기"
   ]
  },
  {
   "cell_type": "code",
   "execution_count": 14,
   "id": "118c8765",
   "metadata": {},
   "outputs": [
    {
     "data": {
      "image/png": "[encoded data removed]",
      "text/plain": [
       "<Figure size 432x288 with 1 Axes>"
      ]
     },
     "metadata": {
      "needs_background": "light"
     },
     "output_type": "display_data"
    }
   ],
   "source": [
    "# 상자 그림 시각화로 살펴봅니다.\n",
    "plt.boxplot(customer_unique_transaction_series.values)\n",
    "plt.show()"
   ]
  },
  {
   "cell_type": "markdown",
   "id": "7f5764f5",
   "metadata": {},
   "source": [
    "다음으로 유저별로 구매한 상품은 몇 종류나 되는지를 탐색해봅시다. 아래의 코드는 CustomerID그룹에 unique한 StockCode를 계산하여 describe() 함수를 적용한 것입니다. 그리고 이를 통해 유저들은 평균적으로 약 60여 개 종류의 상품을 구매했다는 것을 알 수 있습니다. 하지만 데이터의 편차는 매우 높은 수치를 보이고 있습니다."
   ]
  },
  {
   "cell_type": "markdown",
   "id": "34e767e3",
   "metadata": {},
   "source": [
    "#### 유저별 상품 구매 종류 탐색하기"
   ]
  },
  {
   "cell_type": "code",
   "execution_count": 15,
   "id": "bc62f88d",
   "metadata": {},
   "outputs": [
    {
     "data": {
      "text/plain": [
       "count    4334.000000\n",
       "mean       61.432856\n",
       "std        85.312937\n",
       "min         1.000000\n",
       "25%        16.000000\n",
       "50%        35.000000\n",
       "75%        77.000000\n",
       "max      1786.000000\n",
       "Name: StockCode, dtype: float64"
      ]
     },
     "execution_count": 15,
     "metadata": {},
     "output_type": "execute_result"
    }
   ],
   "source": [
    "# 유저별 아이템 구매 종류 개수를 탐색합니다.\n",
    "customer_unique_item_series = df.groupby('CustomerID')['StockCode'].nunique()\n",
    "customer_unique_item_series.describe()"
   ]
  },
  {
   "cell_type": "markdown",
   "id": "e3fe135f",
   "metadata": {},
   "source": [
    "마찬가지로 이 결과를 상자 그림으로 살펴보았습니다. 거래 횟수보다는 조금 더 다양하게 데이터가 분포되어 있는 것을 알 수 있습니다."
   ]
  },
  {
   "cell_type": "markdown",
   "id": "71ab757b",
   "metadata": {},
   "source": [
    "#### 유저별 상품 구매 종류 시각화하기"
   ]
  },
  {
   "cell_type": "code",
   "execution_count": 16,
   "id": "c7957d2d",
   "metadata": {},
   "outputs": [
    {
     "data": {
      "image/png": "[encoded data removed]",
      "text/plain": [
       "<Figure size 432x288 with 1 Axes>"
      ]
     },
     "metadata": {
      "needs_background": "light"
     },
     "output_type": "display_data"
    }
   ],
   "source": [
    "# 상자 그림 시각화로 살펴봅니다.\n",
    "plt.boxplot(customer_unique_item_series.values)\n",
    "plt.show()"
   ]
  },
  {
   "cell_type": "markdown",
   "id": "02989e6d",
   "metadata": {},
   "source": [
    "이제 특정 시점을 기준으로 데이터를 분리하여 구매의 패턴을 분석해봅시다. 중점적으로 살펴볼 내용은 두 데이터에서 동일하게 등장하는 유저-상품 단위의 구매 데이터, 즉 재구매 여부입니다. 또한 신규 구매가 얼마나 일어났는지 역시 중요하게 살펴볼 내용입니다.<br>\n",
    "먼저 11월 1일을 연말의 기준으로 삼아 두 개의 데이터로 분리합니다. 이 두 데이터는 추후에 예측분석에 사용할 학습 데이터셋, 그리고 테스트용 데이터셋을 의미하며 각각 314,902개, 81,568개의 데이터로 분리되었습니다."
   ]
  },
  {
   "cell_type": "markdown",
   "id": "2296480e",
   "metadata": {},
   "source": [
    "#### 일자를 기준으로 데이터 분리하기"
   ]
  },
  {
   "cell_type": "code",
   "execution_count": 17,
   "id": "6a7f753a",
   "metadata": {},
   "outputs": [
    {
     "name": "stdout",
     "output_type": "stream",
     "text": [
      "(314902, 10)\n",
      "(81568, 10)\n"
     ]
    }
   ],
   "source": [
    "import datetime\n",
    "\n",
    "# 2011년 11월을 기준으로 하여 기준 이전과 이후로 데이터를 분리합니다.\n",
    "df_year_round = df[df['date'] < datetime.date(2011, 11, 1)]\n",
    "df_year_end = df[df['date'] >= datetime.date(2011, 11, 1)]\n",
    "print(df_year_round.shape)\n",
    "print(df_year_end.shape)"
   ]
  },
  {
   "cell_type": "markdown",
   "id": "5347cd0f",
   "metadata": {},
   "source": [
    "분리된 데이터에서 재구매, 신규 구매 등이 어떻게 일어났는지를 분석해봅시다. 먼저 해야 하는 것은 11월 이전 데이터셋에서 유저별로 구매했던 상품의 리스트를 추출하는 것입니다. 아래의 코드는 CustomerID를 그룹으로 하여 StockCode 피처에 apply(set) 함수를 적용한 것으로 이를 통해 유저별 StockCode의 집합(set)을 추출할 수 있습니다."
   ]
  },
  {
   "cell_type": "markdown",
   "id": "13879438",
   "metadata": {},
   "source": [
    "#### 11월 이전 유저별로 구매했던 상품의 집합 추출하기"
   ]
  },
  {
   "cell_type": "code",
   "execution_count": 18,
   "id": "8e06fb42",
   "metadata": {},
   "outputs": [
    {
     "name": "stdout",
     "output_type": "stream",
     "text": [
      "CustomerID\n",
      "12346                                              {23166}\n",
      "12347    {21791, 84969, 22945, 22196, 23173, 23480, 225...\n",
      "12348    {23076, 22616, 84991, 22952, 21983, 21967, 219...\n",
      "12350    {22412, 22551, 84086C, 21832, 22620, 20652, 21...\n",
      "12352    {21232, 22780, 22779, 22413, 21756, 22624, 232...\n",
      "                               ...                        \n",
      "18280    {22084, 82484, 22611, 22495, 22727, 22499, 223...\n",
      "18281    {23209, 23008, 22028, 22716, 23007, 22467, 22037}\n",
      "18282    {21270, 22424, 21108, 23187, 22089, 23295, 21109}\n",
      "18283    {21791, 21181, 23373, 85152, 22553, 22554, 221...\n",
      "18287    {21232, 21481, 23267, 72351B, 23076, 22306, 22...\n",
      "Name: StockCode, Length: 3970, dtype: object\n"
     ]
    }
   ],
   "source": [
    "# 11월 이전 데이터에서 구매했던 상품의 set을 추출합니다.\n",
    "customer_item_round_set = df_year_round.groupby('CustomerID')['StockCode'].apply(set)\n",
    "print(customer_item_round_set)"
   ]
  },
  {
   "cell_type": "markdown",
   "id": "a28afbcd",
   "metadata": {},
   "source": [
    "다음 유저-상품 단위의 딕셔너리(사전)를 정의합니다. 이 딕셔너리는 유저가 상품을 11월 이전에 구매했는지 혹은 11월 이후에 구매했는지를 기록하기 위한 것입니다. 아래의 코드를 실행하면 유저가 11월 이전에 구매한 상품은 딕셔너리에'old'라고 표기됩니다."
   ]
  },
  {
   "cell_type": "markdown",
   "id": "be6efd03",
   "metadata": {},
   "source": [
    "#### 유저별 구매 사전 구축하기"
   ]
  },
  {
   "cell_type": "code",
   "execution_count": 19,
   "id": "a1eae845",
   "metadata": {},
   "outputs": [
    {
     "name": "stdout",
     "output_type": "stream",
     "text": [
      "{'12346': {'23166': 'old'}, '12347': {'21791': 'old', '84969': 'old', '22945': 'old', '22196': 'old'...\n"
     ]
    }
   ],
   "source": [
    "# 11월 이전에 구매했는지 혹은 이후에 구매했는지를 유저별로 기록하기 위한 사전을 정의합니다.\n",
    "customer_item_dict = {}\n",
    "\n",
    "# 11월 이전에 구매한 상품은 'old'라고 표기합니다.\n",
    "for customer_id, stocks in customer_item_round_set.items():\n",
    "    customer_item_dict[customer_id] = {}\n",
    "    for stock_code in stocks:\n",
    "        customer_item_dict[customer_id][stock_code] = 'old'\n",
    "        \n",
    "print(str(customer_item_dict)[:100] + \"...\")"
   ]
  },
  {
   "cell_type": "markdown",
   "id": "1b928f79",
   "metadata": {},
   "source": [
    "이는 실행 결과를 보면 쉽게 이해할 수 있습니다. 12346번 유저는 23166 상품을 구매했었고, 12347번 유저는 22697, 22371, 85167B.... 상품을 구매했었다는 사실을 나타냅니다."
   ]
  },
  {
   "cell_type": "markdown",
   "id": "2797559f",
   "metadata": {},
   "source": [
    "위에서와 동일한 방식으로 11월 이후 데이터에서 유저별로 구매한 상품의 집합을 추출합니다."
   ]
  },
  {
   "cell_type": "markdown",
   "id": "bbba90f3",
   "metadata": {},
   "source": [
    "#### 11월 이후 유저별로 구매했던 상품의 집합 추출하기"
   ]
  },
  {
   "cell_type": "code",
   "execution_count": 20,
   "id": "955de9dd",
   "metadata": {},
   "outputs": [
    {
     "name": "stdout",
     "output_type": "stream",
     "text": [
      "CustomerID\n",
      "12347    {21265, 21064, 21731, 23552, 23271, 23508, 234...\n",
      "12349    {23439, 21232, 23460, 22601, 22553, 23112, 217...\n",
      "12352    {23367, 21669, 22178, 23089, 22624, 22978, 230...\n",
      "12356                                       {22423, 21843}\n",
      "12357    {22819, 37446, 22306, 23355, 21411, 22067, 221...\n",
      "                               ...                        \n",
      "18272    {22074, 84380, 22993, 23240, 72799C, 22969, 23...\n",
      "18273                                             {79302M}\n",
      "18274    {21974, 21231, 22851, 21108, 22423, 22989, 232...\n",
      "18282                  {23174, 22818, 22699, 23175, 22423}\n",
      "18283    {21791, 21181, 23582, 22553, 22554, 23379, 359...\n",
      "Name: StockCode, Length: 1904, dtype: object\n"
     ]
    }
   ],
   "source": [
    "# 11월 이후 데이터에서 구매하는 상품의 집합을 추출합니다.\n",
    "customer_item_end_set = df_year_end.groupby('CustomerID')['StockCode'].apply(set)\n",
    "print(customer_item_end_set)"
   ]
  },
  {
   "cell_type": "markdown",
   "id": "9e6cbc2a",
   "metadata": {},
   "source": [
    "11월 이후에 구매한 유저별 상품의 집합을 이용하여 앞서 정의했던 유저-상품 구매 상태 딕셔너리를 업데이트합니다. 다음 코드는 기존에 구매하여'old'라고 표기되어 있던 것은'both'로 업데이트하고, 사전에 없던 유저-상품이 경우에는'new'라고 표기하는 과정입니다. 딕셔너리의 업데이트가 완료되면 11월 이전에만 구매한 유저-상품은'old', 이후에만 구매한 상품은'new', 모두 구매한 상품은'both'로 표기된 딕셔너리 구축이 완료됩니다. 이제 이를 통해 유저별 재구매, 신규 구매 등의 패턴을 분석할 수 있습니다."
   ]
  },
  {
   "cell_type": "markdown",
   "id": "c28f06d9",
   "metadata": {},
   "source": [
    "#### 유저별 구매 사전 업데이트하기"
   ]
  },
  {
   "cell_type": "code",
   "execution_count": 21,
   "id": "25dee6a4",
   "metadata": {},
   "outputs": [
    {
     "name": "stdout",
     "output_type": "stream",
     "text": [
      "{'12346': {'23166': 'old'}, '12347': {'21791': 'old', '84969': 'old', '22945': 'old', '22196': 'old'...\n"
     ]
    }
   ],
   "source": [
    "# 11월 이전에만 구매한 상품은 'old', 이후에만 구매한 상품은 'new', 모두 구매한 상품은 'both'라고 표기합니다.\n",
    "for customer_id, stocks in customer_item_end_set.items():\n",
    "    # 11월 이전 구매기록이 있는 유저인지를 체크합니다.\n",
    "    if customer_id in customer_item_dict:\n",
    "        for stock_code in stocks:\n",
    "            # 구매한 적 있는 상품인지를 체크한 뒤, 상태를 표기합니다.\n",
    "            if stock_code in customer_item_dict[customer_id]            :\n",
    "                customer_item_dict[customer_id][stock_code] = 'both'\n",
    "            else:\n",
    "                customer_item_dict[customer_id][stock_code] = 'new'\n",
    "    # 11월 이전 구매기록이 없는 유저라면 모두 'new'로 표기합니다.\n",
    "    else:\n",
    "        customer_item_dict[customer_id] = {}\n",
    "        for stock_code in stocks:\n",
    "            customer_item_dict[customer_id][stock_code] = 'new'\n",
    "            \n",
    "print(str(customer_item_dict)[:100] +\"...\")"
   ]
  },
  {
   "cell_type": "markdown",
   "id": "2e7d1b1b",
   "metadata": {},
   "source": [
    "구축 완료된 딕셔너리를 조금 더 편하게 분석하기 위해 데이터 프레임의 형태로 다시 정리합니다. 다음 코드는 미리 비어있는 데이터 프레임을 생성해놓고 딕셔너리를 반복문으로 들여다보며 비어있는 프레임에 데이터를 추가합니다."
   ]
  },
  {
   "cell_type": "markdown",
   "id": "1bb1bd91",
   "metadata": {},
   "source": [
    "#### 구매 사전을 데이터 프레임으로 정리하기"
   ]
  },
  {
   "cell_type": "code",
   "execution_count": 23,
   "id": "bf9fcbc5",
   "metadata": {},
   "outputs": [
    {
     "data": {
      "text/html": [
       "<div>\n",
       "<style scoped>\n",
       "    .dataframe tbody tr th:only-of-type {\n",
       "        vertical-align: middle;\n",
       "    }\n",
       "\n",
       "    .dataframe tbody tr th {\n",
       "        vertical-align: top;\n",
       "    }\n",
       "\n",
       "    .dataframe thead th {\n",
       "        text-align: right;\n",
       "    }\n",
       "</style>\n",
       "<table border=\"1\" class=\"dataframe\">\n",
       "  <thead>\n",
       "    <tr style=\"text-align: right;\">\n",
       "      <th></th>\n",
       "      <th>CustomerID</th>\n",
       "      <th>old</th>\n",
       "      <th>new</th>\n",
       "      <th>both</th>\n",
       "    </tr>\n",
       "  </thead>\n",
       "  <tbody>\n",
       "    <tr>\n",
       "      <th>0</th>\n",
       "      <td>12346</td>\n",
       "      <td>1</td>\n",
       "      <td>0</td>\n",
       "      <td>0</td>\n",
       "    </tr>\n",
       "    <tr>\n",
       "      <th>1</th>\n",
       "      <td>12347</td>\n",
       "      <td>92</td>\n",
       "      <td>3</td>\n",
       "      <td>8</td>\n",
       "    </tr>\n",
       "    <tr>\n",
       "      <th>2</th>\n",
       "      <td>12348</td>\n",
       "      <td>21</td>\n",
       "      <td>0</td>\n",
       "      <td>0</td>\n",
       "    </tr>\n",
       "    <tr>\n",
       "      <th>3</th>\n",
       "      <td>12350</td>\n",
       "      <td>16</td>\n",
       "      <td>0</td>\n",
       "      <td>0</td>\n",
       "    </tr>\n",
       "    <tr>\n",
       "      <th>4</th>\n",
       "      <td>12352</td>\n",
       "      <td>43</td>\n",
       "      <td>12</td>\n",
       "      <td>2</td>\n",
       "    </tr>\n",
       "  </tbody>\n",
       "</table>\n",
       "</div>"
      ],
      "text/plain": [
       "  CustomerID old new both\n",
       "0      12346   1   0    0\n",
       "1      12347  92   3    8\n",
       "2      12348  21   0    0\n",
       "3      12350  16   0    0\n",
       "4      12352  43  12    2"
      ]
     },
     "execution_count": 23,
     "metadata": {},
     "output_type": "execute_result"
    }
   ],
   "source": [
    "# 'old','new','both'를 유저별로 탐색하여 데이터 프레임을 생성합니다.\n",
    "columns = ['CustomerID', 'old', 'new', 'both']\n",
    "df_order_info = pd.DataFrame(columns=columns)\n",
    "\n",
    "# 데이터 프레임을 생성하는 과정입니다.\n",
    "for customer_id in customer_item_dict:\n",
    "    old = 0\n",
    "    new = 0\n",
    "    both = 0\n",
    "    \n",
    "    # 상품 상태(old, new, both)를 체크하여 데이터 프레임에 append할 수 있는 형태로 처리합니다.\n",
    "    for stock_code in customer_item_dict[customer_id]:\n",
    "        status = customer_item_dict[customer_id][stock_code]\n",
    "        if status == 'old':\n",
    "            old += 1\n",
    "        elif status == 'new':\n",
    "            new += 1\n",
    "        else:\n",
    "            both += 1\n",
    "    # df_order_info에 데이터를 append합니다.\n",
    "    row = [customer_id, old, new, both]\n",
    "    series = pd.Series(row, index=columns)\n",
    "    df_order_info = df_order_info.append(series, ignore_index=True)\n",
    "        \n",
    "df_order_info.head()"
   ]
  },
  {
   "cell_type": "markdown",
   "id": "9f9a8194",
   "metadata": {},
   "source": [
    "이렇게 정리된 데이터 프레임을 활용하여 재구매와 신규 구매가 어떤 패턴으로 발생하였는지 탐색해봅시다. 다음 코드는 3가지를 출력한 것으로 첫 번째는 데이터 프레임의 열 개수, 즉 전체 유저수를 출력한 것입니다. 그리고 두 번째 'old'가 1개 이상이면서 동시에'new'가 1개 이상인 유저가 몇 명인지를 출력한 것입니다. 이를 통해 11월 이후에 기존에 구매한 적 없던 신규 상품을 구매한 유저가 약 3분의 1 가량 된다는 것을 알 수 있습니다. 마지막 세 번째는'both'가 1 이상인 유저 수를 출력한 것으로 이는 재구매한 상품이 있는 유저 수를 의미합니다. 즉 3분의 1정도는 11월 이전에 구매했던 상품을 11월 이후에 다시 구매한다는 것을 의미합니다."
   ]
  },
  {
   "cell_type": "markdown",
   "id": "04cbd9ee",
   "metadata": {},
   "source": [
    "#### 재구매, 신규 구매 유저 분석하기"
   ]
  },
  {
   "cell_type": "code",
   "execution_count": null,
   "id": "aa983e43",
   "metadata": {},
   "outputs": [],
   "source": [
    "# 데이터 프레임에서 전체 유저 수를 출력합니다.\n",
    "print(df_order_info.shape[0])\n",
    "# 데이터 프레임에서 old가 1 이상이면서, new가 1 이상인 유저 수를 출력합니다.\n",
    "# 11월 이후에 기존에 구매한 적 없는 새로운 상품을 구매한 유저를 의미합니다.\n"
   ]
  }
 ],
 "metadata": {
  "kernelspec": {
   "display_name": "Python 3",
   "language": "python",
   "name": "python3"
  },
  "language_info": {
   "codemirror_mode": {
    "name": "ipython",
    "version": 3
   },
   "file_extension": ".py",
   "mimetype": "text/x-python",
   "name": "python",
   "nbconvert_exporter": "python",
   "pygments_lexer": "ipython3",
   "version": "3.8.8"
  }
 },
 "nbformat": 4,
 "nbformat_minor": 5
}
