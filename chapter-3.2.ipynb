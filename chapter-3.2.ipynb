{
 "cells": [
  {
   "cell_type": "markdown",
   "id": "808f1479",
   "metadata": {},
   "source": [
    "# 3.2 비트코인 시세 예측하기\n",
    "다음으로 살펴볼 예제는 비트코인 시세 예측입니다. 비트코인 시세처럼 연속적인 시간에 따라 다르게 측정되는 데이터를 시계열 데이터라 하며, 이를 분석하는 것을 '시계열 데이터 분석'이라고 합니다. 시계열 데이터 분석은 심작 박동 데이터처럼 규치적 시계열 데이터를 분석하는 것과 비트코인 시세예측처럼 불규칙적 시계열 데이터를 분석하는 것으로 구분할 수 있습니다."
   ]
  },
  {
   "cell_type": "markdown",
   "id": "56e115eb",
   "metadata": {},
   "source": [
    "## Step 1 탐색: 시간 정보가 포함된 데이터 살펴보기우선 \n",
    "우선 비트코인 데이터를 탐색합니다. 다음 코드로 데이터셋을 살펴보면, 비트코인 데이터는 총 365개의 행으로 이우러진 것을 알 수 있습니다. 또한 데이터는 결측값이 없이 날짜와 가격에 대한 2개의 피처로 구성되어 있습니다. 이러한 데이터셋을 시계열 데이터셋이라고 합니다."
   ]
  },
  {
   "cell_type": "markdown",
   "id": "f803d3fc",
   "metadata": {},
   "source": [
    "#### market price 데이터셋의 기본 정보 구하기"
   ]
  },
  {
   "cell_type": "code",
   "execution_count": 18,
   "id": "410fcee2",
   "metadata": {},
   "outputs": [
    {
     "name": "stdout",
     "output_type": "stream",
     "text": [
      "(365, 2)\n",
      "<class 'pandas.core.frame.DataFrame'>\n",
      "RangeIndex: 365 entries, 0 to 364\n",
      "Data columns (total 2 columns):\n",
      " #   Column  Non-Null Count  Dtype  \n",
      "---  ------  --------------  -----  \n",
      " 0   day     365 non-null    object \n",
      " 1   price   365 non-null    float64\n",
      "dtypes: float64(1), object(1)\n",
      "memory usage: 5.8+ KB\n",
      "None\n"
     ]
    },
    {
     "data": {
      "text/html": [
       "<div>\n",
       "<style scoped>\n",
       "    .dataframe tbody tr th:only-of-type {\n",
       "        vertical-align: middle;\n",
       "    }\n",
       "\n",
       "    .dataframe tbody tr th {\n",
       "        vertical-align: top;\n",
       "    }\n",
       "\n",
       "    .dataframe thead th {\n",
       "        text-align: right;\n",
       "    }\n",
       "</style>\n",
       "<table border=\"1\" class=\"dataframe\">\n",
       "  <thead>\n",
       "    <tr style=\"text-align: right;\">\n",
       "      <th></th>\n",
       "      <th>day</th>\n",
       "      <th>price</th>\n",
       "    </tr>\n",
       "  </thead>\n",
       "  <tbody>\n",
       "    <tr>\n",
       "      <th>360</th>\n",
       "      <td>2018-08-22 00:00:00</td>\n",
       "      <td>6575.229167</td>\n",
       "    </tr>\n",
       "    <tr>\n",
       "      <th>361</th>\n",
       "      <td>2018-08-23 00:00:00</td>\n",
       "      <td>6434.881667</td>\n",
       "    </tr>\n",
       "    <tr>\n",
       "      <th>362</th>\n",
       "      <td>2018-08-24 00:00:00</td>\n",
       "      <td>6543.645714</td>\n",
       "    </tr>\n",
       "    <tr>\n",
       "      <th>363</th>\n",
       "      <td>2018-08-25 00:00:00</td>\n",
       "      <td>6719.429231</td>\n",
       "    </tr>\n",
       "    <tr>\n",
       "      <th>364</th>\n",
       "      <td>2018-08-26 00:00:00</td>\n",
       "      <td>6673.274167</td>\n",
       "    </tr>\n",
       "  </tbody>\n",
       "</table>\n",
       "</div>"
      ],
      "text/plain": [
       "                     day        price\n",
       "360  2018-08-22 00:00:00  6575.229167\n",
       "361  2018-08-23 00:00:00  6434.881667\n",
       "362  2018-08-24 00:00:00  6543.645714\n",
       "363  2018-08-25 00:00:00  6719.429231\n",
       "364  2018-08-26 00:00:00  6673.274167"
      ]
     },
     "execution_count": 18,
     "metadata": {},
     "output_type": "execute_result"
    }
   ],
   "source": [
    "# -*- coding: utf-8 -*-\n",
    "%matplotlib inline\n",
    "\n",
    "import pandas as pd\n",
    "import numpy as np\n",
    "import matplotlib.pyplot as plt\n",
    "\n",
    "# Data Source: https://www.blockchin.com/ko/charts/market-price?timespan=60days\n",
    "file_path='data/market-price.csv'\n",
    "bitcoin_df=pd.read_csv(file_path, names=['day','price'])\n",
    "\n",
    "#기본 정보를 출력합니다.\n",
    "print(bitcoin_df.shape)\n",
    "print(bitcoin_df.info())\n",
    "bitcoin_df.tail()"
   ]
  },
  {
   "cell_type": "markdown",
   "id": "57007e27",
   "metadata": {},
   "source": [
    "그리고 아래의 코드는 시계열 정보를 데이터 프레임의 index로 설정하여 가격의 추이를 시각화한 것입니다."
   ]
  },
  {
   "cell_type": "code",
   "execution_count": 19,
   "id": "3e15f392",
   "metadata": {},
   "outputs": [
    {
     "data": {
      "image/png": "[encoded data removed]",
      "text/plain": [
       "<Figure size 432x288 with 1 Axes>"
      ]
     },
     "metadata": {
      "needs_background": "light"
     },
     "output_type": "display_data"
    }
   ],
   "source": [
    "# to_datetime으로 day 피처를 시계열 피처로 변환합니다.\n",
    "bitcoin_df['day']=pd.to_datetime(bitcoin_df['day'])\n",
    "\n",
    "# day 데이터 프레임의 index로 설정합니다.\n",
    "bitcoin_df.index=bitcoin_df['day']\n",
    "bitcoin_df.set_index('day', inplace=True)\n",
    "\n",
    "# 일자별 비트코인 시세를 시각화합니다.\n",
    "bitcoin_df.plot()\n",
    "plt.show()"
   ]
  },
  {
   "cell_type": "markdown",
   "id": "917d94e5",
   "metadata": {},
   "source": [
    "## Step 2 예측: 파이썬 라이브러리를 활용해 시세 예측하기\n",
    "이번 절에서 첫 번쨰로 사용할 시계열 예측 분석 방법은 ARIMA 분석 방법입니다. ARIMA는 전통적인 시계열 예측 방법으로 크게 두 가지 개념을 포함하고 있습니다. 첫 번쨰는 AR모델로 자기 자신과 과거를 정보로 사용하는 개념입니다. 이는'현재의 상태는 이전의 상태를 참고해서 계산된다'라는 아이디어를 전제로 합니다.<br>\n",
    "두 번쨰 개념은 MA모델로 '이전 항에서의 오차를 이용하여 현재 항의 상태를 추록하겠다'라는 방법입니다. 그리고 이 둘을 합친 것을 ARMA 모델이라고 하며, 조금 더 나아간 ARIMA모델은 ARMA 모델에 추세 변동의 경향성까지 반영한 방법입니다 <br>\n",
    "파이썬에서는 statsmodel 모듈로 ARIMA 분석을 수행할 수 있습니다. 다음 코드는 ARIMA 분석의 실행 과정입니다. ARIMA 클래서에 order=(2,1,2)라고 입력되어진 파라미터는 'AR이 몇 번째 과거까지를 바라보는지에 대한 피라미터(2), 차분에 대한 피러미터(1), MA가 몇 번째 과거까지를 바라보는지에 대한 파라미터(2)'를 의미하는 것입니다.<br>\n",
    "이제 아래의 실행 결과를 분석해봅시다. 실행 결과의 표를 살펴보면 상수항을 제외한 모든 계수의 p-value가 0.05 이하로 유의미한 것으로 나타납니다. 이것은 AR 과 MA 모두 2로 설정하는 것이 꽤나 의미 있는 분석 결과를 도출한다는 것입니다."
   ]
  },
  {
   "cell_type": "markdown",
   "id": "fa852cae",
   "metadata": {},
   "source": [
    "#### ARIMA 모델 활용하기: 모델 학습"
   ]
  },
  {
   "cell_type": "code",
   "execution_count": 20,
   "id": "83fb4e27",
   "metadata": {},
   "outputs": [
    {
     "name": "stderr",
     "output_type": "stream",
     "text": [
      "/home/dmlrkd67/anaconda3/lib/python3.8/site-packages/statsmodels/tsa/arima_model.py:472: FutureWarning: \n",
      "statsmodels.tsa.arima_model.ARMA and statsmodels.tsa.arima_model.ARIMA have\n",
      "been deprecated in favor of statsmodels.tsa.arima.model.ARIMA (note the .\n",
      "between arima and model) and\n",
      "statsmodels.tsa.SARIMAX. These will be removed after the 0.12 release.\n",
      "\n",
      "statsmodels.tsa.arima.model.ARIMA makes use of the statespace framework and\n",
      "is both well tested and maintained.\n",
      "\n",
      "To silence this warning and continue using ARMA and ARIMA until they are\n",
      "removed, use:\n",
      "\n",
      "import warnings\n",
      "warnings.filterwarnings('ignore', 'statsmodels.tsa.arima_model.ARMA',\n",
      "                        FutureWarning)\n",
      "warnings.filterwarnings('ignore', 'statsmodels.tsa.arima_model.ARIMA',\n",
      "                        FutureWarning)\n",
      "\n",
      "  warnings.warn(ARIMA_DEPRECATION_WARN, FutureWarning)\n"
     ]
    },
    {
     "name": "stdout",
     "output_type": "stream",
     "text": [
      "                             ARIMA Model Results                              \n",
      "==============================================================================\n",
      "Dep. Variable:                    D.y   No. Observations:                  364\n",
      "Model:                 ARIMA(2, 1, 2)   Log Likelihood               -2787.553\n",
      "Method:                       css-mle   S.D. of innovations            512.415\n",
      "Date:                Wed, 29 Sep 2021   AIC                           5587.107\n",
      "Time:                        22:15:49   BIC                           5610.490\n",
      "Sample:                             1   HQIC                          5596.400\n",
      "                                                                              \n",
      "==============================================================================\n",
      "                 coef    std err          z      P>|z|      [0.025      0.975]\n",
      "------------------------------------------------------------------------------\n",
      "const          6.3355     27.794      0.228      0.820     -48.140      60.811\n",
      "ar.L1.D.y     -0.3787      1.825     -0.208      0.836      -3.955       3.198\n",
      "ar.L2.D.y      0.1587      1.189      0.133      0.894      -2.172       2.490\n",
      "ma.L1.D.y      0.4568      1.820      0.251      0.802      -3.111       4.024\n",
      "ma.L2.D.y     -0.1942      1.336     -0.145      0.884      -2.813       2.424\n",
      "                                    Roots                                    \n",
      "=============================================================================\n",
      "                  Real          Imaginary           Modulus         Frequency\n",
      "-----------------------------------------------------------------------------\n",
      "AR.1           -1.5864           +0.0000j            1.5864            0.5000\n",
      "AR.2            3.9733           +0.0000j            3.9733            0.0000\n",
      "MA.1           -1.3797           +0.0000j            1.3797            0.5000\n",
      "MA.2            3.7314           +0.0000j            3.7314            0.0000\n",
      "-----------------------------------------------------------------------------\n"
     ]
    },
    {
     "name": "stderr",
     "output_type": "stream",
     "text": [
      "/home/dmlrkd67/anaconda3/lib/python3.8/site-packages/statsmodels/tsa/arima_model.py:472: FutureWarning: \n",
      "statsmodels.tsa.arima_model.ARMA and statsmodels.tsa.arima_model.ARIMA have\n",
      "been deprecated in favor of statsmodels.tsa.arima.model.ARIMA (note the .\n",
      "between arima and model) and\n",
      "statsmodels.tsa.SARIMAX. These will be removed after the 0.12 release.\n",
      "\n",
      "statsmodels.tsa.arima.model.ARIMA makes use of the statespace framework and\n",
      "is both well tested and maintained.\n",
      "\n",
      "To silence this warning and continue using ARMA and ARIMA until they are\n",
      "removed, use:\n",
      "\n",
      "import warnings\n",
      "warnings.filterwarnings('ignore', 'statsmodels.tsa.arima_model.ARMA',\n",
      "                        FutureWarning)\n",
      "warnings.filterwarnings('ignore', 'statsmodels.tsa.arima_model.ARIMA',\n",
      "                        FutureWarning)\n",
      "\n",
      "  warnings.warn(ARIMA_DEPRECATION_WARN, FutureWarning)\n"
     ]
    }
   ],
   "source": [
    "from statsmodels.tsa.arima_model import ARIMA\n",
    "import statsmodels.api as sm\n",
    "\n",
    "# (AR=2, 차분=1 MA=2) 파라미터로 ARIMA 모델을 학습합니다.\n",
    "model=ARIMA(bitcoin_df.price.values, order=(2,1,2))\n",
    "model_fit=model.fit(trend='c', full_output=True, disp=True)\n",
    "print(model_fit.summary())"
   ]
  },
  {
   "cell_type": "markdown",
   "id": "10457055",
   "metadata": {},
   "source": [
    "다음으로 ARIMA 모델의 학습 결과를 알아보겠습니다. 아래의 살행 결과 중 첫 번째 그래프는 학습한 모델에 학습 데이터셋을 넣었을 때의 시계열 예측 결과입니다. plot_predict()라는 함수로 이러한 시각화를 자동으로 수행할 수 있습니다."
   ]
  },
  {
   "cell_type": "markdown",
   "id": "4a634674",
   "metadata": {},
   "source": [
    "#### ARIMA 모델 활용하기: 모델의 성능& 예측 결과 시각화"
   ]
  },
  {
   "cell_type": "code",
   "execution_count": 21,
   "id": "a20bc93d",
   "metadata": {},
   "outputs": [
    {
     "data": {
      "text/plain": [
       "<AxesSubplot:>"
      ]
     },
     "execution_count": 21,
     "metadata": {},
     "output_type": "execute_result"
    },
    {
     "data": {
      "image/png": "[encoded data removed]",
      "text/plain": [
       "<Figure size 432x288 with 1 Axes>"
      ]
     },
     "metadata": {
      "needs_background": "light"
     },
     "output_type": "display_data"
    },
    {
     "data": {
      "image/png": "[encoded data removed]",
      "text/plain": [
       "<Figure size 432x288 with 1 Axes>"
      ]
     },
     "metadata": {
      "needs_background": "light"
     },
     "output_type": "display_data"
    }
   ],
   "source": [
    "fig=model_fit.plot_predict() # 학습 데이터에 대학 예측 결과입니다.(첫 번째 그래프)\n",
    "residuals=pd.DataFrame(model_fit.resid) # 잔차의 변돌을 시각화합니다.(두 번째 그래프)\n",
    "residuals.plot()"
   ]
  },
  {
   "cell_type": "markdown",
   "id": "4d5333e5",
   "metadata": {},
   "source": [
    "두 번째 그래프는 실제값과 예측값 사이의 오차 변동을 나타내는 그래프입니다. 만약 이 그래프의 폭이 일ㄷ정하다면 좋은 예측 모델을 학습시킨 것이라고 생각할 수 있습니다. 하지만 실행 결과에서는 오차 변동이 매우 불안정한 것으로 보입니다.<br>\n",
    "다음으로 ARIMA 모델을 평가해봅시다. 모델을 평가하기 위해서는 테스트 전용 데이터가 필요한데 이번 예제에서는 5일 동안의 미래를 테스트 데이터로 사용하겠습니다. 불규칙적 시계열 예측의 경우에는 먼 미래를 예측하는 것이 큰 의미가 없으므로 '앞으로 N일 동안 어느정도로 상승/하락할 것이다' 정도의 대략적인 경향 예측만을 수행하는 것이 일반적이기 때문입니다."
   ]
  },
  {
   "cell_type": "markdown",
   "id": "c4837199",
   "metadata": {},
   "source": [
    "모델 평가의 과정은 다음과 같습니다.\n",
    " - 1. model_fit.forecast(steps=5)로 향후 5일의 가격을 예측하여 pred_y로 정의한다.\n",
    " - 2. '../data/market-price-test.csv'에서 실제 향후 5일의 가격을 test_y로 정의한다.\n",
    " - 3. 모델의 예측한 상한값, 하한값을 pred_y_upper,pred_y_lower로 정의한다.\n",
    " - 4. 정의한 모든 값을 비교하여 5일 동안의 상승 경향 예측이 얼마나 맞았는지를 평가한다."
   ]
  },
  {
   "cell_type": "markdown",
   "id": "54f89054",
   "metadata": {},
   "source": [
    "#### ARIMA 모델 활용하기: 실제 데이터와의 비교"
   ]
  },
  {
   "cell_type": "code",
   "execution_count": 22,
   "id": "0d890f99",
   "metadata": {},
   "outputs": [],
   "source": [
    "forecast_data= model_fit.forecast(steps=5) # 학습 데이터셋으로부터 5일 뒤를 예측합니다.\n",
    "\n",
    "# 테스트 데이터셋을 불러옵니다.\n",
    "test_file_path = 'data/market-price-test.csv'\n",
    "bitcoin_test_df =pd.read_csv(test_file_path, names=['ds','y'])\n",
    "\n",
    "pred_y=forecast_data[0].tolist() # 마지막 5일의 예측 데이터입니다. ( 2018-08-27 ~ 2018-08-31 )\n",
    "test_y=bitcoin_test_df.y.values # 실제 5일 가격 데이터입니다. ( 2018-08-27 ~ 2018-08-31 )\n",
    "pred_y_lower=[] # 마지막 5일의 예측 데이터의 최소값입니다.\n",
    "pred_y_upper=[] # 마지막 5일의 예측 데이터의 최대값입니다.\n",
    "for lower_upper in forecast_data[2]:\n",
    "    lower=lower_upper[0]\n",
    "    upper=lower_upper[1]\n",
    "    pred_y_lower.append(lower)\n",
    "    pred_y_upper.append(upper)"
   ]
  },
  {
   "cell_type": "markdown",
   "id": "018b2659",
   "metadata": {},
   "source": [
    "그리고 다음 코드는 이를 그래프로 시각화한 것입니다. 파란색 그래프는 모델이 예상한 최고 가격, 즉 상한가의 그래프입니다. 그리고 빨간색은 모델이 예측한 하한가 그래프이고, 초록색은 실제 5일간의 가격 그래프, 노락색은 모델이 예측한 5일간의 가격 그래프를 나타낸 것입니다."
   ]
  },
  {
   "cell_type": "code",
   "execution_count": 23,
   "id": "c42c7e36",
   "metadata": {},
   "outputs": [
    {
     "data": {
      "text/plain": [
       "[<matplotlib.lines.Line2D at 0x7fef7e6ddee0>]"
      ]
     },
     "execution_count": 23,
     "metadata": {},
     "output_type": "execute_result"
    },
    {
     "data": {
      "image/png": "[encoded data removed]",
      "text/plain": [
       "<Figure size 432x288 with 1 Axes>"
      ]
     },
     "metadata": {
      "needs_background": "light"
     },
     "output_type": "display_data"
    }
   ],
   "source": [
    "plt.plot(pred_y,color=\"gold\") # 모델이 예측한 가격 그래프입니다.\n",
    "plt.plot(pred_y_lower, color=\"red\") # 모델이 예측한 최저 가격 그래프입니다.\n",
    "plt.plot(pred_y_upper, color=\"blue\") # 모델이 예측한 최고 가격 그래프입니다.\n",
    "plt.plot(test_y, color=\"green\") # 실제 가격 그래프입니다."
   ]
  },
  {
   "cell_type": "markdown",
   "id": "a551aa9b",
   "metadata": {},
   "source": [
    "이번에는 상한가와 하한가를 제외한 뒤, 그래프를 살펴보았습니다. 그래프의 상승 경향을 살펴보면 그다지 좋지 않은 예측을 한 것으로 보입니다. 하지만'5일 동안 상승할 것이다'라는 아주 큰 트렌드 정도는 예측할 수 있었습니다."
   ]
  },
  {
   "cell_type": "code",
   "execution_count": 24,
   "id": "8bc076df",
   "metadata": {},
   "outputs": [
    {
     "data": {
      "text/plain": [
       "[<matplotlib.lines.Line2D at 0x7fef7e650610>]"
      ]
     },
     "execution_count": 24,
     "metadata": {},
     "output_type": "execute_result"
    },
    {
     "data": {
      "image/png": "[encoded data removed]",
      "text/plain": [
       "<Figure size 432x288 with 1 Axes>"
      ]
     },
     "metadata": {
      "needs_background": "light"
     },
     "output_type": "display_data"
    }
   ],
   "source": [
    "plt.plot(pred_y, color=\"gold\") # 모델이 예상한 가격 그래프입니다.\n",
    "plt.plot(test_y, color=\"green\") # 실제 가격 그래프입니다."
   ]
  },
  {
   "cell_type": "markdown",
   "id": "c7d6ef21",
   "metadata": {},
   "source": [
    "이번에는 ARIMA보다 조금 더 정확한 트렌드 예측 분석을 제공하는 라이브러리'Facebook Prophet'을 사용해봅시다. Prophet은 Additive 모델이라는 모델링 방법에 기반한 시계열 예측 모델로서 시계열 데이터의 트렌드성(연간/월간/일간)을 예측하는 것에 초점이 맞추어져 있습니다. 다음 명령어로 prophet 라이브러리를 설치해봅시다."
   ]
  },
  {
   "cell_type": "markdown",
   "id": "09e14cb7",
   "metadata": {},
   "source": [
    "fbprophet 라이브러리를 사용하기 위해서는 데이터 프레임의 피처를 'ds'와 'y'로 변경해야 합니다. 그리고 Prophet이라는 클래스를 선언한 뒤, fit() 함수로 모델을 학습시킵니다. 모델 생성에 포함되는 파라미터의 의미는 다음과 같습니다.\n",
    "- seasonality_mode : 연간,월간,주간,일간 등의 트렌드성을 반영하는 것을 의미하는 파라미터입니다.\n",
    "- changepoint_prior_scale : 트렌드가 변경되는 문맥을 반영하는 파라미터입니다. 수치가 높을수록 모델은 과적합에 가까워집니다.<br> 아래 코드는 Facebook Prophet을 활용하여 시계열 모델을 학습하는 코드입니다."
   ]
  },
  {
   "cell_type": "code",
   "execution_count": 27,
   "id": "73a726eb",
   "metadata": {
    "scrolled": true
   },
   "outputs": [
    {
     "data": {
      "text/plain": [
       "<fbprophet.forecaster.Prophet at 0x7fef7e740400>"
      ]
     },
     "execution_count": 27,
     "metadata": {},
     "output_type": "execute_result"
    }
   ],
   "source": [
    "from fbprophet import Prophet\n",
    "\n",
    "# prophet을 사용하기 위해서는 다음과 같이 피처명을 변경해야 한다. : 'ds', 'y'\n",
    "file_path='data/market-price.csv'\n",
    "bitcoin_df = pd.read_csv(file_path, names=['ds', 'y'])\n",
    "prophet = Prophet(seasonality_mode = 'multiplicative',\n",
    "                  yearly_seasonality = True,\n",
    "                  weekly_seasonality = True, \n",
    "                  daily_seasonality = True,\n",
    "                  changepoint_prior_scale = 0.5)\n",
    "prophet.fit(bitcoin_df)"
   ]
  },
  {
   "cell_type": "markdown",
   "id": "c303a9ff",
   "metadata": {},
   "source": [
    "그리고 다음 코드 중 make_future_dataframe(periods=5, freq='d'), prophet,predict(future_data)를 실행하면 학습 데이터셋 기반의 5일 단위 예측 데이터를 얻을 수 있습니다. 아래의 실행 결과는 데이터에 존재하지 않는 5일 단위의 미래를 예측한 것입니다. "
   ]
  },
  {
   "cell_type": "code",
   "execution_count": 28,
   "id": "27048a76",
   "metadata": {},
   "outputs": [
    {
     "data": {
      "text/html": [
       "<div>\n",
       "<style scoped>\n",
       "    .dataframe tbody tr th:only-of-type {\n",
       "        vertical-align: middle;\n",
       "    }\n",
       "\n",
       "    .dataframe tbody tr th {\n",
       "        vertical-align: top;\n",
       "    }\n",
       "\n",
       "    .dataframe thead th {\n",
       "        text-align: right;\n",
       "    }\n",
       "</style>\n",
       "<table border=\"1\" class=\"dataframe\">\n",
       "  <thead>\n",
       "    <tr style=\"text-align: right;\">\n",
       "      <th></th>\n",
       "      <th>ds</th>\n",
       "      <th>yhat</th>\n",
       "      <th>yhat_lower</th>\n",
       "      <th>yhat_upper</th>\n",
       "    </tr>\n",
       "  </thead>\n",
       "  <tbody>\n",
       "    <tr>\n",
       "      <th>365</th>\n",
       "      <td>2018-08-27</td>\n",
       "      <td>6876.163700</td>\n",
       "      <td>6212.591643</td>\n",
       "      <td>7526.241188</td>\n",
       "    </tr>\n",
       "    <tr>\n",
       "      <th>366</th>\n",
       "      <td>2018-08-28</td>\n",
       "      <td>6962.557446</td>\n",
       "      <td>6322.647017</td>\n",
       "      <td>7616.024744</td>\n",
       "    </tr>\n",
       "    <tr>\n",
       "      <th>367</th>\n",
       "      <td>2018-08-29</td>\n",
       "      <td>6968.861585</td>\n",
       "      <td>6233.110302</td>\n",
       "      <td>7747.012366</td>\n",
       "    </tr>\n",
       "    <tr>\n",
       "      <th>368</th>\n",
       "      <td>2018-08-30</td>\n",
       "      <td>7029.151820</td>\n",
       "      <td>6356.459498</td>\n",
       "      <td>7777.753412</td>\n",
       "    </tr>\n",
       "    <tr>\n",
       "      <th>369</th>\n",
       "      <td>2018-08-31</td>\n",
       "      <td>7097.227263</td>\n",
       "      <td>6313.929439</td>\n",
       "      <td>7925.222718</td>\n",
       "    </tr>\n",
       "  </tbody>\n",
       "</table>\n",
       "</div>"
      ],
      "text/plain": [
       "            ds         yhat   yhat_lower   yhat_upper\n",
       "365 2018-08-27  6876.163700  6212.591643  7526.241188\n",
       "366 2018-08-28  6962.557446  6322.647017  7616.024744\n",
       "367 2018-08-29  6968.861585  6233.110302  7747.012366\n",
       "368 2018-08-30  7029.151820  6356.459498  7777.753412\n",
       "369 2018-08-31  7097.227263  6313.929439  7925.222718"
      ]
     },
     "execution_count": 28,
     "metadata": {},
     "output_type": "execute_result"
    }
   ],
   "source": [
    "# 5일을 내다보며 예측한다.\n",
    "future_data = prophet.make_future_dataframe(periods=5, freq='d')\n",
    "forecast_data = prophet.predict(future_data)\n",
    "forecast_data[['ds', 'yhat', 'yhat_lower', 'yhat_upper']].tail(5)"
   ]
  },
  {
   "cell_type": "code",
   "execution_count": null,
   "id": "f5ba0d45",
   "metadata": {},
   "outputs": [],
   "source": []
  },
  {
   "cell_type": "code",
   "execution_count": null,
   "id": "5af7a216",
   "metadata": {},
   "outputs": [],
   "source": []
  },
  {
   "cell_type": "code",
   "execution_count": null,
   "id": "ac8e2505",
   "metadata": {},
   "outputs": [],
   "source": []
  },
  {
   "cell_type": "code",
   "execution_count": null,
   "id": "d2036826",
   "metadata": {},
   "outputs": [],
   "source": []
  },
  {
   "cell_type": "code",
   "execution_count": null,
   "id": "0d16adc5",
   "metadata": {},
   "outputs": [],
   "source": []
  },
  {
   "cell_type": "code",
   "execution_count": null,
   "id": "fa1aa407",
   "metadata": {},
   "outputs": [],
   "source": []
  },
  {
   "cell_type": "code",
   "execution_count": null,
   "id": "d9dc7e28",
   "metadata": {},
   "outputs": [],
   "source": []
  },
  {
   "cell_type": "code",
   "execution_count": null,
   "id": "33eca283",
   "metadata": {},
   "outputs": [],
   "source": []
  },
  {
   "cell_type": "code",
   "execution_count": null,
   "id": "6d8998c8",
   "metadata": {},
   "outputs": [],
   "source": []
  },
  {
   "cell_type": "code",
   "execution_count": null,
   "id": "a70dbdc4",
   "metadata": {},
   "outputs": [],
   "source": []
  },
  {
   "cell_type": "code",
   "execution_count": null,
   "id": "b6232036",
   "metadata": {},
   "outputs": [],
   "source": []
  },
  {
   "cell_type": "code",
   "execution_count": null,
   "id": "41cf5812",
   "metadata": {},
   "outputs": [],
   "source": []
  }
 ],
 "metadata": {
  "kernelspec": {
   "display_name": "Python 3",
   "language": "python",
   "name": "python3"
  },
  "language_info": {
   "codemirror_mode": {
    "name": "ipython",
    "version": 3
   },
   "file_extension": ".py",
   "mimetype": "text/x-python",
   "name": "python",
   "nbconvert_exporter": "python",
   "pygments_lexer": "ipython3",
   "version": "3.8.8"
  }
 },
 "nbformat": 4,
 "nbformat_minor": 5
}
