{
 "cells": [
  {
   "cell_type": "markdown",
   "id": "15628679",
   "metadata": {},
   "source": [
    "# 1.1 탐색적 데이터 분석의 과정\n",
    "탐색적 데이터 분석은 데이터의 정보를 파악하며 문제 해결에 필요한 힌트를 분석하는 과정입니다. 이제, 탐색적 데이터 분석의 과정을 몇 가지 예제와 함께 알아보겠습니다.\n",
    "## 데이터와의 첫 만남\n",
    "우리가 실제로 접하는 대부분의 데이터는 아직 분석에 활용된 적이 없는 혹은 정제되지 않은 데이터입니다. 이러한 데이터를 raw data라고 부릅니다(이후 '데이터'로 통칭합니다). 탐색적 데이터 분석은 데이터를 열어보는 상황에서부터 시작되며 이때부터 다음과 같은 과정을 수행합니다.\n",
    "### 1. 데이터의 출처와 주제에 대해 이해합니다.\n",
    "우선 데이터가 어디에서 생성된 것이고, 어떻게 수집된 것인지를 이해하는 것이 먼저입니다. 데이터의 이름, 구성요서, 그리고 데이터의 출처와 주제 등에 대해 가장 먼저 조사합니다.\n",
    "### 2. 데이터의 크기를 알아봅니다.\n",
    "데이터의 대략적인 양이나 개수를 알아보는 단계입니다. 데이터의 크기에 따라서 특별한 종류의 샘플링이 필요하기도 하고, 어떤 방식으로 데이터를 처리할지도 달라질 수 있기 때문입니다.\n",
    "### 3. 데이터의 구성 요소(피처)를 살펴봅니다.\n",
    "마지막으로 데이터의 피처를 살펴봅니다. 피처란 데이터를 구성하는 요소를 의미합니다. 만약[그림1-1]과 같이 어떤 학급의 신체검사 결과를 기록한 데이터가 있다고 할 때, 키와 몸무게 그리고 시력 같은 측정요소를 피처라고 부릅니다. 데이터를 탐색하는 단계에서 피처를 살펴보는 것은 아주 중요한 과정입니다.\n",
    " #### 샘플링(Sampling) \n",
    "   - 샘플링이란 어떤 자료로부터 일부의 값을 추출하는 행위를 의미합니다. 분석하고자 하는 데이터가 너무 크거나 전체 데이터를 사용할 수 없는 경우에는 샘플링된 데이터를 분석하는 것이 좋은 대안이 될 수 있습니다."
   ]
  },
  {
   "cell_type": "markdown",
   "id": "895223de",
   "metadata": {},
   "source": [
    "## 데이터의 속성 탐색하기\n",
    "데이터를 탐색하는 단계에서 데이터의 외형적인 힌트를 얻었다면 이번 단계에서는 데이터의 실제적인 내용을 탐색합니다. 실제적인 내용 탐색의 과정에서는 크게 피처의 속성 탐색, 그리고 피처 간의 상관 관계 탐색 이렇게 두 가지를 시행합니다."
   ]
  },
  {
   "cell_type": "markdown",
   "id": "5103eb4e",
   "metadata": {},
   "source": [
    "### 피처의 속성 탐색\n",
    "앞서 살펴본 학급의 신체겁사 데이터에서는 어떤 속성을 탐색할 수 있을까요? 우선 가장 쉽게 떠올릴 수 있는 것은 학급의 평균 키를 계산하는 것입니다. 평균을 구하는 것뿐만 아니라, 학창 시철 배웠던 표준편차, 중앙값, 데이터의 사분위 수 등의 통계값을 구할 수도 있습니다. 이는 [그림 1-2]와 같이 피처의 측정 가능한 정량적 속성을 정의하는 것이라고 할 수 있습니다."
   ]
  },
  {
   "cell_type": "markdown",
   "id": "ecf64973",
   "metadata": {},
   "source": [
    "피처의 속성 탐색 과정에서 가장 중요한 것은 데이터에 질문을 던지는 것입니다. 피처의 속성 탐색은 '우리 반의 평균 키는 몇이나 될까?'와 같은 질문에서부터 출발하기 때문입니다. 이러한 질문을 던지는 것이 좋은 데이터 분석가가 되는 첫걸음이라고 할 수 있습니다."
   ]
  },
  {
   "cell_type": "markdown",
   "id": "bf592a2a",
   "metadata": {},
   "source": [
    "### 피처 간의 상관 관계 탐색\n",
    "피처 간의 상관 관계 탐색이란 여러 개의 피처가 서로에게 미치는 영향력을 알아보는 것입니다. 만약 학급의 신체검사 데이터를 살펴본 뒤, '우리 학급은 비만이 아닐까?'라는 질문을 했다고 가정해봅시다. 그렇다면 우리는 '몸무게'라는 피처를 살펴볼 것입니다. 그리고 이를 통해 가정을 확인할 것입니다. 하지만 우리가 한 가지 더 고려해야 할 점은 몸무게는 키와도 관계가 있다는 것입니다. 이런 상황에서 필요한 것이 피처 간의 상관 관계탐색입니다. 데이터 분석에서는 이를 통계적인 방법으로 알아볼수 있으며, 이는 피처 간의 공분산, 혹은 상관 계수와 같은 개념을 포함합니다. 이 개념들에 대해서는 이후 예제에서 조금 더 자세히 알아보겠습니다."
   ]
  },
  {
   "cell_type": "markdown",
   "id": "595a7c28",
   "metadata": {},
   "source": [
    "## 탐색한 데이터의 시각화\n",
    "마지막 단계는 탐색한 데이터의 시각화 단게입니다. 지금까지의 과정을 통해 어느 정도 데이터를 파악했다면 이를 효과적으로 시각화할 차례입니다. 데이터 시각화 수치적 자료만 가지고는 파악하기 힘든 패턴이나 인사이트를 발견하는 데 유용하기 때문입니다. 키와 몸무게의 상관 관계는 쉽게 발견하기 어렵지만 이를 그래프로 시각화하면 직관적으로 파악할 수 있습니다."
   ]
  },
  {
   "cell_type": "markdown",
   "id": "d06c23d7",
   "metadata": {},
   "source": [
    "# 1.2 멕시코풍 프랜차이즈 chipotle의 주문 데이터 분석하기\n",
    "첫 번째 예제의 목표는 토이 데이터(분석에 용이한 형태로 만들어진 연습용 데이터 세트)를 활용한 데이터 분석에 익숙해지는 것입니다. 우리가 분석해볼 첫 번째 토이 데이터는 멕시코풍 프랜차이즈'chipotle'라는 음식점의 주문 데이터입니다."
   ]
  },
  {
   "cell_type": "markdown",
   "id": "7b34599f",
   "metadata": {},
   "source": [
    "## 분석 미리보기\n",
    "### 가장 인기 있는 메뉴는 무엇일까?\n",
    "이번 예제의 분석 주제중 하나인 '가장 인기있는 메뉴는 무엇일까?'에 대한 분석 결과를 미리 살펴보겠습니다. 이러한 특정 주제나 목적을 가지고 탐색적 분석을 진행할 때는 아래처럼 질문의 리스트를 정리해보는 것이 좋습니다.\n",
    "- 가장 많이 판매된 메뉴 Top 10은 무엇일까?\n",
    "- 메뉴별 판매량은 얼마나 될까?\n",
    "- 메뉴별 가격대는 얼마일까? <br>"
   ]
  },
  {
   "cell_type": "markdown",
   "id": "f8b59089",
   "metadata": {},
   "source": [
    "### chipotle 데이터셋의 기초 정보 출력하기"
   ]
  },
  {
   "cell_type": "code",
   "execution_count": 1,
   "id": "654ab7d2",
   "metadata": {},
   "outputs": [
    {
     "name": "stdout",
     "output_type": "stream",
     "text": [
      "(4622, 5)\n",
      "-----------------\n",
      "<class 'pandas.core.frame.DataFrame'>\n",
      "RangeIndex: 4622 entries, 0 to 4621\n",
      "Data columns (total 5 columns):\n",
      " #   Column              Non-Null Count  Dtype \n",
      "---  ------              --------------  ----- \n",
      " 0   order_id            4622 non-null   int64 \n",
      " 1   quantity            4622 non-null   int64 \n",
      " 2   item_name           4622 non-null   object\n",
      " 3   choice_description  3376 non-null   object\n",
      " 4   item_price          4622 non-null   object\n",
      "dtypes: int64(2), object(3)\n",
      "memory usage: 180.7+ KB\n",
      "None\n"
     ]
    }
   ],
   "source": [
    "import pandas as pd\n",
    "\n",
    "file_path='data/chipotle.tsv'\n",
    "chipo=pd.read_csv(file_path,sep='\\t')\n",
    "\n",
    "print(chipo.shape)\n",
    "print(\"-----------------\")\n",
    "print(chipo.info())"
   ]
  },
  {
   "cell_type": "markdown",
   "id": "d4458dc2",
   "metadata": {},
   "source": [
    "그리고 shape()와 info() 함수를 호출하면 위와 같은 실행 결과를 볼 수 있습니다. shape()는 데이터의 행과 열의 크기를 반환하고, info()는 행의 구성 정보와 열의 구성 정보를 나타냅니다. 실행 결과를 보면 데이터가 4,622개의 행과 5개의 피처로 구성되어 있음을 알 수 있습니다. 또한 order_id와 quantity는 int64(숫자), 나머지 3개의 피처는 object라는 타입으로 이루어져 있다는 것도 알수있습니다. 그런데 한 가지 특이한 정보는 choice_description 피처가 3,376개의 non-null object로 구성되어 있다는 것입니다. 이정보는 무엇을 의미할까요?<br>\n",
    "데이터 프레임에서 object 타입은 일반적으로 문자열을 의미합니다. 그리고 null이라는 용어는 데이터가 비어 있는 것을 의미합니다. 이를 결측값이라고 합니다. 즉 '3376 non-null object'라는 것은 3,376개의 비어 있지 않은 문자열 데이터가 있다는 정보입니다. 하지만 데이터의 개수는 4,622개이므로 choice_description 피처는 1,245개의 결측값이 존재합니다."
   ]
  },
  {
   "cell_type": "markdown",
   "id": "cdb6feae",
   "metadata": {},
   "source": [
    "다음 코드를 살펴봅시다. head(10) 함수는 첫 10개의 데이터를 테이블 형태로 출력합니다. 또한 columns(행의 목록)와 index(열의 목록)를 호출하면 데이터의 행과 열에 대한 정보를 함께 출력할 수 있습니다."
   ]
  },
  {
   "cell_type": "markdown",
   "id": "3fed4dfd",
   "metadata": {},
   "source": [
    "#### chipotle 데이터셋의 행과 열, 데이터 확인하기"
   ]
  },
  {
   "cell_type": "code",
   "execution_count": 2,
   "id": "38ee4c3a",
   "metadata": {},
   "outputs": [
    {
     "data": {
      "text/html": [
       "<div>\n",
       "<style scoped>\n",
       "    .dataframe tbody tr th:only-of-type {\n",
       "        vertical-align: middle;\n",
       "    }\n",
       "\n",
       "    .dataframe tbody tr th {\n",
       "        vertical-align: top;\n",
       "    }\n",
       "\n",
       "    .dataframe thead th {\n",
       "        text-align: right;\n",
       "    }\n",
       "</style>\n",
       "<table border=\"1\" class=\"dataframe\">\n",
       "  <thead>\n",
       "    <tr style=\"text-align: right;\">\n",
       "      <th></th>\n",
       "      <th>order_id</th>\n",
       "      <th>quantity</th>\n",
       "      <th>item_name</th>\n",
       "      <th>choice_description</th>\n",
       "      <th>item_price</th>\n",
       "    </tr>\n",
       "  </thead>\n",
       "  <tbody>\n",
       "    <tr>\n",
       "      <th>0</th>\n",
       "      <td>1</td>\n",
       "      <td>1</td>\n",
       "      <td>Chips and Fresh Tomato Salsa</td>\n",
       "      <td>NaN</td>\n",
       "      <td>$2.39</td>\n",
       "    </tr>\n",
       "    <tr>\n",
       "      <th>1</th>\n",
       "      <td>1</td>\n",
       "      <td>1</td>\n",
       "      <td>Izze</td>\n",
       "      <td>[Clementine]</td>\n",
       "      <td>$3.39</td>\n",
       "    </tr>\n",
       "    <tr>\n",
       "      <th>2</th>\n",
       "      <td>1</td>\n",
       "      <td>1</td>\n",
       "      <td>Nantucket Nectar</td>\n",
       "      <td>[Apple]</td>\n",
       "      <td>$3.39</td>\n",
       "    </tr>\n",
       "    <tr>\n",
       "      <th>3</th>\n",
       "      <td>1</td>\n",
       "      <td>1</td>\n",
       "      <td>Chips and Tomatillo-Green Chili Salsa</td>\n",
       "      <td>NaN</td>\n",
       "      <td>$2.39</td>\n",
       "    </tr>\n",
       "    <tr>\n",
       "      <th>4</th>\n",
       "      <td>2</td>\n",
       "      <td>2</td>\n",
       "      <td>Chicken Bowl</td>\n",
       "      <td>[Tomatillo-Red Chili Salsa (Hot), [Black Beans...</td>\n",
       "      <td>$16.98</td>\n",
       "    </tr>\n",
       "    <tr>\n",
       "      <th>5</th>\n",
       "      <td>3</td>\n",
       "      <td>1</td>\n",
       "      <td>Chicken Bowl</td>\n",
       "      <td>[Fresh Tomato Salsa (Mild), [Rice, Cheese, Sou...</td>\n",
       "      <td>$10.98</td>\n",
       "    </tr>\n",
       "    <tr>\n",
       "      <th>6</th>\n",
       "      <td>3</td>\n",
       "      <td>1</td>\n",
       "      <td>Side of Chips</td>\n",
       "      <td>NaN</td>\n",
       "      <td>$1.69</td>\n",
       "    </tr>\n",
       "    <tr>\n",
       "      <th>7</th>\n",
       "      <td>4</td>\n",
       "      <td>1</td>\n",
       "      <td>Steak Burrito</td>\n",
       "      <td>[Tomatillo Red Chili Salsa, [Fajita Vegetables...</td>\n",
       "      <td>$11.75</td>\n",
       "    </tr>\n",
       "    <tr>\n",
       "      <th>8</th>\n",
       "      <td>4</td>\n",
       "      <td>1</td>\n",
       "      <td>Steak Soft Tacos</td>\n",
       "      <td>[Tomatillo Green Chili Salsa, [Pinto Beans, Ch...</td>\n",
       "      <td>$9.25</td>\n",
       "    </tr>\n",
       "    <tr>\n",
       "      <th>9</th>\n",
       "      <td>5</td>\n",
       "      <td>1</td>\n",
       "      <td>Steak Burrito</td>\n",
       "      <td>[Fresh Tomato Salsa, [Rice, Black Beans, Pinto...</td>\n",
       "      <td>$9.25</td>\n",
       "    </tr>\n",
       "  </tbody>\n",
       "</table>\n",
       "</div>"
      ],
      "text/plain": [
       "   order_id  quantity                              item_name  \\\n",
       "0         1         1           Chips and Fresh Tomato Salsa   \n",
       "1         1         1                                   Izze   \n",
       "2         1         1                       Nantucket Nectar   \n",
       "3         1         1  Chips and Tomatillo-Green Chili Salsa   \n",
       "4         2         2                           Chicken Bowl   \n",
       "5         3         1                           Chicken Bowl   \n",
       "6         3         1                          Side of Chips   \n",
       "7         4         1                          Steak Burrito   \n",
       "8         4         1                       Steak Soft Tacos   \n",
       "9         5         1                          Steak Burrito   \n",
       "\n",
       "                                  choice_description item_price  \n",
       "0                                                NaN     $2.39   \n",
       "1                                       [Clementine]     $3.39   \n",
       "2                                            [Apple]     $3.39   \n",
       "3                                                NaN     $2.39   \n",
       "4  [Tomatillo-Red Chili Salsa (Hot), [Black Beans...    $16.98   \n",
       "5  [Fresh Tomato Salsa (Mild), [Rice, Cheese, Sou...    $10.98   \n",
       "6                                                NaN     $1.69   \n",
       "7  [Tomatillo Red Chili Salsa, [Fajita Vegetables...    $11.75   \n",
       "8  [Tomatillo Green Chili Salsa, [Pinto Beans, Ch...     $9.25   \n",
       "9  [Fresh Tomato Salsa, [Rice, Black Beans, Pinto...     $9.25   "
      ]
     },
     "execution_count": 2,
     "metadata": {},
     "output_type": "execute_result"
    }
   ],
   "source": [
    "# chipo라는 데이터 프레임에서 순서대로 10개의 데이터를 보여줍니다.\n",
    "chipo.head(10)"
   ]
  },
  {
   "cell_type": "code",
   "execution_count": 3,
   "id": "7b16b882",
   "metadata": {},
   "outputs": [
    {
     "name": "stdout",
     "output_type": "stream",
     "text": [
      "Index(['order_id', 'quantity', 'item_name', 'choice_description',\n",
      "       'item_price'],\n",
      "      dtype='object')\n",
      "-----------------\n",
      "RangeIndex(start=0, stop=4622, step=1)\n"
     ]
    }
   ],
   "source": [
    "print(chipo.columns)\n",
    "print(\"-----------------\")\n",
    "print(chipo.index)"
   ]
  },
  {
   "cell_type": "markdown",
   "id": "3da26ff2",
   "metadata": {},
   "source": [
    "이때, chipotle 데이터셋 피처의 의미는 각각 다음과 같습니다.\n",
    "- order_id : 주문 번호\n",
    "- quantity : 아이템의 주문 수량\n",
    "- item_name : 주문한 아이템의 이름\n",
    "- choice_description : 주문한 아이템의 상세 선택 옵션\n",
    "- item_price : 주문 아이템의 가격 정보<br>\n",
    "이제 본격적으로 이 피처들의 속성을 파악해봅시다."
   ]
  },
  {
   "cell_type": "markdown",
   "id": "76ee2129",
   "metadata": {},
   "source": [
    "### quantity 와  item_price의 수치적 특징\n",
    "우선 quantity와 item_price의 수치적 특징을 살펴보겠습니다. 이 두 피처는 연속형 피처입니다. 연속형 피처는 키와 몸무게처럼 어떠한 값도 가질 수 있는 연속적인 숫자 형태를 의미합니다."
   ]
  },
  {
   "attachments": {
    "image.png": {
     "image/png": "[encoded data removed]"
    }
   },
   "cell_type": "markdown",
   "id": "1a8ece58",
   "metadata": {},
   "source": [
    "![image.png](attachment:image.png)"
   ]
  },
  {
   "cell_type": "markdown",
   "id": "38795fc3",
   "metadata": {},
   "source": [
    "다음 코드의 출력 결과는 describe() 함수가 나타낸 피처의 기초 통계량입니다. 하지만 현재 유일하게 존재하는 수치형 피처는 quantity뿐이기 때문에, 오직 quantity에 대한 정보만을 출력할 수 있습니다."
   ]
  },
  {
   "cell_type": "markdown",
   "id": "a0f49fac",
   "metadata": {},
   "source": [
    "#### describe() 함수로 기초 통계량 출력하기"
   ]
  },
  {
   "cell_type": "code",
   "execution_count": 4,
   "id": "802a68b4",
   "metadata": {},
   "outputs": [
    {
     "name": "stdout",
     "output_type": "stream",
     "text": [
      "          quantity\n",
      "count  4622.000000\n",
      "mean      1.075725\n",
      "std       0.410186\n",
      "min       1.000000\n",
      "25%       1.000000\n",
      "50%       1.000000\n",
      "75%       1.000000\n",
      "max      15.000000\n"
     ]
    }
   ],
   "source": [
    "# order_id는 숫자의 의미를 가지지 않기 때문에 str으로 변홥합니다.\n",
    "chipo['order_id']=chipo['order_id'].astype(str)\n",
    "print(chipo.describe()) # chipo 데이터 프레임에서 수치형 피처들의 기초 통계량을 확인합니다."
   ]
  },
  {
   "cell_type": "markdown",
   "id": "b531504b",
   "metadata": {},
   "source": [
    "출력 내용을 분석해보면 아이템의 평균 주문 수량(mean)은 약 1.07이라는 것을 알 수 있습니다. 이는 대부분이 한 아이템에 대해서 1개 정도만 주문했다는 것이고, '한 사람이 같은 메뉴를 여러 개 구매하는 경우는 많지 않다'는 인사이트를 얻을 수 있습니다.<br>\n",
    "그렇다면 item_price의 수치적 특징은 어떻게 알아볼 수 있을까요? 현재 item_price 피처는 object타입이기 때문에 describe() 함수로 기초 통계량을 확인할 수 없습니다. 이를 위해서는 추가적인 데이터 전처리 작업이 필요한데, 이는 'step3' 데이터 전처리'에서 알아봅시다."
   ]
  },
  {
   "cell_type": "markdown",
   "id": "25a18e60",
   "metadata": {},
   "source": [
    "### order_id와 item_name의 개수\n",
    "다음으로 order_id와 item_name의 개수를 탐색합니다. 이 두 피처는 범주형 피처이기 때문에 unique() 함수를 사용합니다. 이를 통해 피처 내에 몇 개의 범주가 있는지를 확인할 수 있습니다."
   ]
  },
  {
   "cell_type": "markdown",
   "id": "fa90ec4d",
   "metadata": {},
   "source": [
    "#### unique() 함수로 범주형 피처의 개수 출력하기"
   ]
  },
  {
   "cell_type": "code",
   "execution_count": 5,
   "id": "5474e5c7",
   "metadata": {},
   "outputs": [
    {
     "name": "stdout",
     "output_type": "stream",
     "text": [
      "1834\n",
      "50\n"
     ]
    }
   ],
   "source": [
    "print(len(chipo['order_id'].unique())) # order_id의 개수를 출력합니다.\n",
    "print(len(chipo['item_name'].unique())) # item_name의 개수를 출력합니다."
   ]
  },
  {
   "cell_type": "markdown",
   "id": "9d882e13",
   "metadata": {},
   "source": [
    "## step 2 인사이트 발견:탐색과 시각화하기\n",
    "이제 한 걸음 더 나아가 인사이트를 더 많이 발견할 수 있는 질문을 탐색하며 이를 시각화하는 과정까지 살펴봅시다."
   ]
  },
  {
   "cell_type": "markdown",
   "id": "80f013db",
   "metadata": {},
   "source": [
    "### 가장많이 주문한 아이템 Top 10\n",
    "먼저, 가장많이 주문한 아이템 Top 10을 분석하기 위해 다음과 같이 DataFrame['column']의 형태에 value_counts() 함수를 적용하는 방식을 사용합니다. DataFrame['column']은 시리즈라는 객체를 반환하는데, value_counts()함수는 오로지 이러한 시리즈 객체에만 적용되기 때문입니다."
   ]
  },
  {
   "cell_type": "markdown",
   "id": "ee47eec2",
   "metadata": {},
   "source": [
    "#### 가장 많이 주문한 아이템 Top10 출력하기"
   ]
  },
  {
   "cell_type": "code",
   "execution_count": 6,
   "id": "a3570c83",
   "metadata": {},
   "outputs": [
    {
     "name": "stdout",
     "output_type": "stream",
     "text": [
      "Top 1 : Chicken Bowl 726\n",
      "Top 2 : Chicken Burrito 553\n",
      "Top 3 : Chips and Guacamole 479\n",
      "Top 4 : Steak Burrito 368\n",
      "Top 5 : Canned Soft Drink 301\n",
      "Top 6 : Chips 211\n",
      "Top 7 : Steak Bowl 211\n",
      "Top 8 : Bottled Water 162\n",
      "Top 9 : Chicken Soft Tacos 115\n",
      "Top 10 : Chicken Salad Bowl 110\n"
     ]
    }
   ],
   "source": [
    "# 가장 많이 주문한 아이템 Top 10을 출력합니다.\n",
    "item_count=chipo['item_name'].value_counts()[:10]\n",
    "for idx, (val, cnt) in enumerate(item_count.iteritems(),1):\n",
    "    print(\"Top\",idx,\":\",val,cnt)"
   ]
  },
  {
   "cell_type": "markdown",
   "id": "329d501c",
   "metadata": {},
   "source": [
    "### 아이템별 주문 개수와 총량\n",
    "이번에는 groupby() 함수를 이용하여 아이템별 주문 개수와 총량을 구해보겠습니다. 판다스의 groupby() 함수는 데이터 프레임에서 특정 피처를 기준으로 그룹을 생성하며 이를 통해 그룹별 연산을 적용할 수 있습니다. 예를 들어 '학급'이라는 그룹을 만들었을 때, '학급별 평균 키','학급별 평균 몸무게' 등을 구하는 것처럼 말이지요."
   ]
  },
  {
   "cell_type": "markdown",
   "id": "8fccbef8",
   "metadata": {},
   "source": [
    "#### 아이템별 주문 개수와 총량 구하기"
   ]
  },
  {
   "cell_type": "code",
   "execution_count": 7,
   "id": "69953b66",
   "metadata": {
    "scrolled": true
   },
   "outputs": [
    {
     "data": {
      "text/plain": [
       "item_name\n",
       "6 Pack Soft Drink         54\n",
       "Barbacoa Bowl             66\n",
       "Barbacoa Burrito          91\n",
       "Barbacoa Crispy Tacos     11\n",
       "Barbacoa Salad Bowl       10\n",
       "Barbacoa Soft Tacos       25\n",
       "Bottled Water            162\n",
       "Bowl                       2\n",
       "Burrito                    6\n",
       "Canned Soda              104\n",
       "Name: order_id, dtype: int64"
      ]
     },
     "execution_count": 7,
     "metadata": {},
     "output_type": "execute_result"
    }
   ],
   "source": [
    "# 아이템별 주문 개수를 출력합니다.\n",
    "order_count=chipo.groupby('item_name')['order_id'].count()\n",
    "order_count[:10] # 아이템별 주문 개수를 출력합니다."
   ]
  },
  {
   "cell_type": "code",
   "execution_count": 8,
   "id": "14cf282a",
   "metadata": {
    "scrolled": true
   },
   "outputs": [
    {
     "data": {
      "text/plain": [
       "item_name\n",
       "6 Pack Soft Drink         55\n",
       "Barbacoa Bowl             66\n",
       "Barbacoa Burrito          91\n",
       "Barbacoa Crispy Tacos     12\n",
       "Barbacoa Salad Bowl       10\n",
       "Barbacoa Soft Tacos       25\n",
       "Bottled Water            211\n",
       "Bowl                       4\n",
       "Burrito                    6\n",
       "Canned Soda              126\n",
       "Name: quantity, dtype: int64"
      ]
     },
     "execution_count": 8,
     "metadata": {},
     "output_type": "execute_result"
    }
   ],
   "source": [
    "# 아이템별 주문 총량을 계산합니다.\n",
    "item_quantity=chipo.groupby('item_name')['quantity'].sum()\n",
    "item_quantity[:10] # 아이템별 주문 총량을 출력합니다."
   ]
  },
  {
   "cell_type": "markdown",
   "id": "57dd6ca5",
   "metadata": {},
   "source": [
    "위의 코드 chipo.groupby('item_name')['quantity'].count()는 chipo Dataf에서 item_name을  그룹으로 quantity 피처의 count()를 계산한 것입니다. 이는 아이템별 주문 개수를 의미합니다. 마찬가지 방법으로 chipo.groupby('item_name')['quantity'].sum()은 아이템별 주문 총량을 나타냅니다."
   ]
  },
  {
   "cell_type": "markdown",
   "id": "b21fcc40",
   "metadata": {},
   "source": [
    "### 시각화 \n",
    "아이템별 주문의 총량을 막대 그래프로 시각화해볼 수도 있습니다. 코드에서는 tolist()와 넘파이의 arrange() 함수를 이용해 x_pos를 선언하고, 0부터 50까지의 숫자를 그래프의 x축 이름으로 사용합니다. 그이유는 50개 아이템의 이름을 x축에 표현하기에는 그래프의 공간이 너무 협소하기 때문입니다. y값(drder_cnt)에는 주문 총량에 해당하는 값인 item_quantity.values.tolist()를 넣어줍니다."
   ]
  },
  {
   "cell_type": "markdown",
   "id": "28e1d2de",
   "metadata": {},
   "source": [
    "#### 시각화로 분석 결과 살펴보기"
   ]
  },
  {
   "cell_type": "code",
   "execution_count": 9,
   "id": "004e140c",
   "metadata": {},
   "outputs": [
    {
     "data": {
      "image/png": "[encoded data removed]",
      "text/plain": [
       "<Figure size 432x288 with 1 Axes>"
      ]
     },
     "metadata": {
      "needs_background": "light"
     },
     "output_type": "display_data"
    }
   ],
   "source": [
    "%matplotlib inline\n",
    "import numpy as np\n",
    "import matplotlib.pyplot as plt\n",
    "\n",
    "item_name_list=item_quantity.index.tolist()\n",
    "x_pos=np.arange(len(item_name_list))\n",
    "order_cnt=item_quantity.values.tolist()\n",
    "\n",
    "plt.bar(x_pos, order_cnt, align='center')\n",
    "plt.ylabel('ordered_item_count')\n",
    "plt.title('Distribution of all orderd item')\n",
    "\n",
    "plt.show()"
   ]
  },
  {
   "cell_type": "markdown",
   "id": "0ccf29f0",
   "metadata": {},
   "source": [
    "### 미니퀴즈 1-1\n",
    "판다스에서 유용하게 사용하는 함수 value_counts()와 unique()의 차이점은 무엇일까요? <br>\n",
    "각 함수는 어떤 데이터 타입에 적용이 되는지, 어떤 기능을 가지고 있는지, 정확히 어떤 결과값을 반환하는지 실행해봅시다."
   ]
  },
  {
   "cell_type": "markdown",
   "id": "3f9d8dc2",
   "metadata": {},
   "source": [
    "## step 3 데이터 전처리: 전처리 함수 사용하기\n",
    "앞선 내용의 item_price의 수치적 특징을 탐색하는 과정에서 우리는 item_price 피처의 요약 통계를 구할 수 없었습니다. 이는 item_price 피처가 문자열 타입이었기 때문입니다. 이번 단계에서는 이러한 데이터를 전처리하는 방법에 대해 알아보겠습니다."
   ]
  },
  {
   "cell_type": "markdown",
   "id": "4c6be071",
   "metadata": {},
   "source": [
    "#### item_price 피처 살펴보기"
   ]
  },
  {
   "cell_type": "code",
   "execution_count": 10,
   "id": "e854dc01",
   "metadata": {},
   "outputs": [
    {
     "name": "stdout",
     "output_type": "stream",
     "text": [
      "<class 'pandas.core.frame.DataFrame'>\n",
      "RangeIndex: 4622 entries, 0 to 4621\n",
      "Data columns (total 5 columns):\n",
      " #   Column              Non-Null Count  Dtype \n",
      "---  ------              --------------  ----- \n",
      " 0   order_id            4622 non-null   object\n",
      " 1   quantity            4622 non-null   int64 \n",
      " 2   item_name           4622 non-null   object\n",
      " 3   choice_description  3376 non-null   object\n",
      " 4   item_price          4622 non-null   object\n",
      "dtypes: int64(1), object(4)\n",
      "memory usage: 180.7+ KB\n",
      "None\n",
      "-------------\n"
     ]
    },
    {
     "data": {
      "text/plain": [
       "0     $2.39 \n",
       "1     $3.39 \n",
       "2     $3.39 \n",
       "3     $2.39 \n",
       "4    $16.98 \n",
       "Name: item_price, dtype: object"
      ]
     },
     "execution_count": 10,
     "metadata": {},
     "output_type": "execute_result"
    }
   ],
   "source": [
    "print(chipo.info())\n",
    "print('-------------')\n",
    "chipo['item_price'].head()"
   ]
  },
  {
   "cell_type": "markdown",
   "id": "642c71b0",
   "metadata": {},
   "source": [
    "데이터 전처리에 앞서 item_price 피처를 살펴본 결과, 가격을 나타내는 숫자 앞에 기호가 붙어있는 것을 발견할 수 있습니다. 따라서 이 피처를 수치 데이터로 사용하기 위해서는 '$' 기호를 제거해주는 전처리 작업이 필요합니다.\n"
   ]
  },
  {
   "cell_type": "markdown",
   "id": "4e58dbec",
   "metadata": {},
   "source": [
    "'$'기호를 제거하는 전처리 방법은 chipo['item_price']에 apply() 함수를 적용함으로써 가능합니다. 그리고 apply() 함수에는 lambda라는 함수 명령어를 추가해줍니다."
   ]
  },
  {
   "cell_type": "markdown",
   "id": "11078372",
   "metadata": {},
   "source": [
    "#### apply()와 lambda를 이용해 데이터 전처리하기"
   ]
  },
  {
   "cell_type": "code",
   "execution_count": 11,
   "id": "cadd3333",
   "metadata": {},
   "outputs": [
    {
     "data": {
      "text/html": [
       "<div>\n",
       "<style scoped>\n",
       "    .dataframe tbody tr th:only-of-type {\n",
       "        vertical-align: middle;\n",
       "    }\n",
       "\n",
       "    .dataframe tbody tr th {\n",
       "        vertical-align: top;\n",
       "    }\n",
       "\n",
       "    .dataframe thead th {\n",
       "        text-align: right;\n",
       "    }\n",
       "</style>\n",
       "<table border=\"1\" class=\"dataframe\">\n",
       "  <thead>\n",
       "    <tr style=\"text-align: right;\">\n",
       "      <th></th>\n",
       "      <th>quantity</th>\n",
       "      <th>item_price</th>\n",
       "    </tr>\n",
       "  </thead>\n",
       "  <tbody>\n",
       "    <tr>\n",
       "      <th>count</th>\n",
       "      <td>4622.000000</td>\n",
       "      <td>4622.000000</td>\n",
       "    </tr>\n",
       "    <tr>\n",
       "      <th>mean</th>\n",
       "      <td>1.075725</td>\n",
       "      <td>7.464336</td>\n",
       "    </tr>\n",
       "    <tr>\n",
       "      <th>std</th>\n",
       "      <td>0.410186</td>\n",
       "      <td>4.245557</td>\n",
       "    </tr>\n",
       "    <tr>\n",
       "      <th>min</th>\n",
       "      <td>1.000000</td>\n",
       "      <td>1.090000</td>\n",
       "    </tr>\n",
       "    <tr>\n",
       "      <th>25%</th>\n",
       "      <td>1.000000</td>\n",
       "      <td>3.390000</td>\n",
       "    </tr>\n",
       "    <tr>\n",
       "      <th>50%</th>\n",
       "      <td>1.000000</td>\n",
       "      <td>8.750000</td>\n",
       "    </tr>\n",
       "    <tr>\n",
       "      <th>75%</th>\n",
       "      <td>1.000000</td>\n",
       "      <td>9.250000</td>\n",
       "    </tr>\n",
       "    <tr>\n",
       "      <th>max</th>\n",
       "      <td>15.000000</td>\n",
       "      <td>44.250000</td>\n",
       "    </tr>\n",
       "  </tbody>\n",
       "</table>\n",
       "</div>"
      ],
      "text/plain": [
       "          quantity   item_price\n",
       "count  4622.000000  4622.000000\n",
       "mean      1.075725     7.464336\n",
       "std       0.410186     4.245557\n",
       "min       1.000000     1.090000\n",
       "25%       1.000000     3.390000\n",
       "50%       1.000000     8.750000\n",
       "75%       1.000000     9.250000\n",
       "max      15.000000    44.250000"
      ]
     },
     "execution_count": 11,
     "metadata": {},
     "output_type": "execute_result"
    }
   ],
   "source": [
    "# column 단위 데이터에 apply() 함수로 전처리를 적용합니다.\n",
    "chipo['item_price']=chipo['item_price'].apply(lambda x: float(x[1:]))\n",
    "chipo.describe()"
   ]
  },
  {
   "cell_type": "markdown",
   "id": "e161bbd9",
   "metadata": {},
   "source": [
    "apply() 함수는 시리즈 단위의 연산을 처리하는 기능을 수행하며, sum()이나 mean()과 같이 연산이 정의된 함수를 파라미터로 받습니다. 따라서 피처 단위의 함계나 평균을 구할 수도 있고, 우리가 정의할 새로운 함수 문자열 데이터에서 첫 번째 문자열을 제거한 뒤 나머지 문자열을 수치형으로 바꿔주는 함수를 파라미터로 입력할 수도 있습니다. 위의 코드 lambda x: float(x[1:])는 이를 수행하는 함수를 lambda로 정의하여 입력한 것입니다."
   ]
  },
  {
   "cell_type": "markdown",
   "id": "dfc12bf0",
   "metadata": {},
   "source": [
    "## step 4 탐색전 분석: 스무고개로 개념적 탐색 분석하기\n",
    "이번 단계에서는 조금 더 깊이있는 질문을 통해 데이터를 탐색합니다. 이 과정은 마치 데이터와'스무고개'놀이를 하는 과정에 비유할 수 있습니다. 이단계를 거치면 여러분은 파이썬을 활용한 탐색적 데이터 분석에 익숙해질 것입니다. 다음에서 살펴볼 내용 외에도 탐색해보고 싶은 내용을 스스로 정의하여 문제를 해결해보길 바랍니다.\n",
    "### 주문당 평균 계산금액 출력하기\n",
    "다음 코드는 order_id로 그룹을 생성한 뒤, item_price 피처에 sum() 함수를 적용하고 mean()함수를 추가한 것입니다. 이를 통행 주문당 평균 계산금액을 구할 수 있습니다. 실행 결과, 한사람이'약18달러가량의 주문을 할 것'이라는 인사이트를 얻을수 있습니다."
   ]
  },
  {
   "cell_type": "markdown",
   "id": "8f3dded7",
   "metadata": {},
   "source": [
    "#### 주문당 평균 계산금액 출력하기"
   ]
  },
  {
   "cell_type": "code",
   "execution_count": 12,
   "id": "28560d31",
   "metadata": {},
   "outputs": [
    {
     "data": {
      "text/plain": [
       "18.811428571428717"
      ]
     },
     "execution_count": 12,
     "metadata": {},
     "output_type": "execute_result"
    }
   ],
   "source": [
    "# 주문당 평균 계산금액을 출력합니다.\n",
    "chipo.groupby('order_id')['item_price'].sum().mean()"
   ]
  },
  {
   "cell_type": "markdown",
   "id": "07cfc59c",
   "metadata": {},
   "source": [
    "### 한 주문에 10달러 이상 지불한 주문 번호(id) 출력하기\n",
    "다음은로 한 주문에 10달러 이상을 지불한 주문을 찾아봅시다. 우선 order_id 피처(하나의 주문)를 기준으로 그룹을 만들어 quantity, item_price 피러의 합계를 계산합니다. 그리고 이 결과에서 10이상인 값을 필터링합니다. 이에 대한 최종 결과인 results의 index.values를 출력하면 한 주문에 10달러 이상 지불한 id를 출력할 수 있습니다.\n"
   ]
  },
  {
   "cell_type": "markdown",
   "id": "e40965eb",
   "metadata": {},
   "source": [
    "#### 한 주문에 10달러 이상 지불한 주문 번호(id) 출력하기"
   ]
  },
  {
   "cell_type": "code",
   "execution_count": 13,
   "id": "252ffb18",
   "metadata": {},
   "outputs": [
    {
     "name": "stdout",
     "output_type": "stream",
     "text": [
      "          quantity  item_price\n",
      "order_id                      \n",
      "1                4       11.56\n",
      "10               2       13.20\n",
      "100              2       10.08\n",
      "1000             2       20.50\n",
      "1001             2       10.08\n",
      "1002             2       10.68\n",
      "1003             2       13.00\n",
      "1004             2       21.96\n",
      "1005             3       12.15\n",
      "1006             8       71.40\n",
      "['1' '10' '100' ... '997' '998' '999']\n"
     ]
    }
   ],
   "source": [
    "# 한 주문에 10달러 이상 지불한 id를 출력합니다.\n",
    "chipo_orderid_group=chipo.groupby('order_id').sum()\n",
    "results=chipo_orderid_group[chipo_orderid_group.item_price>=10]\n",
    "print(results[:10])\n",
    "print(results.index.values)"
   ]
  },
  {
   "cell_type": "markdown",
   "id": "4cc745be",
   "metadata": {},
   "source": [
    "### 각 아이템의 가격 구하기\n",
    "이번에는 각 아이템의 가격을 계산합니다. chipotle 데이터셋에서는 주어진 데이터만으로 각 아이템의 가격을 대략적으로 유추해야 합니다. 유추 과정은 다음과 같습니다.\n",
    "- 1. chipo[chipo.quantity==1]으로 동일 아이템을 1개만 구매한 주문을 선별합니다.\n",
    "- 2. item_name을 기준으로 groupby 연산을 수행한 뒤, min() 함수로 각 그룹별 최저가를 계산합니다.\n",
    "- 3. item_price를 기준으로 정렬하는 sort_values() 함수를 적용합니다. sort_values()는 series 데이터를 정렬해주는 함수입니다."
   ]
  },
  {
   "cell_type": "markdown",
   "id": "c14f9d0e",
   "metadata": {},
   "source": [
    "#### 각 아이템의 가격 구하기"
   ]
  },
  {
   "cell_type": "code",
   "execution_count": 14,
   "id": "b0ef4720",
   "metadata": {},
   "outputs": [
    {
     "data": {
      "text/html": [
       "<div>\n",
       "<style scoped>\n",
       "    .dataframe tbody tr th:only-of-type {\n",
       "        vertical-align: middle;\n",
       "    }\n",
       "\n",
       "    .dataframe tbody tr th {\n",
       "        vertical-align: top;\n",
       "    }\n",
       "\n",
       "    .dataframe thead th {\n",
       "        text-align: right;\n",
       "    }\n",
       "</style>\n",
       "<table border=\"1\" class=\"dataframe\">\n",
       "  <thead>\n",
       "    <tr style=\"text-align: right;\">\n",
       "      <th></th>\n",
       "      <th>order_id</th>\n",
       "      <th>quantity</th>\n",
       "      <th>choice_description</th>\n",
       "      <th>item_price</th>\n",
       "    </tr>\n",
       "    <tr>\n",
       "      <th>item_name</th>\n",
       "      <th></th>\n",
       "      <th></th>\n",
       "      <th></th>\n",
       "      <th></th>\n",
       "    </tr>\n",
       "  </thead>\n",
       "  <tbody>\n",
       "    <tr>\n",
       "      <th>Steak Salad Bowl</th>\n",
       "      <td>1032</td>\n",
       "      <td>1</td>\n",
       "      <td>[Fresh Tomato Salsa, Lettuce]</td>\n",
       "      <td>9.39</td>\n",
       "    </tr>\n",
       "    <tr>\n",
       "      <th>Barbacoa Salad Bowl</th>\n",
       "      <td>1283</td>\n",
       "      <td>1</td>\n",
       "      <td>[Fresh Tomato Salsa, Guacamole]</td>\n",
       "      <td>9.39</td>\n",
       "    </tr>\n",
       "    <tr>\n",
       "      <th>Carnitas Salad Bowl</th>\n",
       "      <td>1035</td>\n",
       "      <td>1</td>\n",
       "      <td>[Fresh Tomato Salsa, [Rice, Black Beans, Chees...</td>\n",
       "      <td>9.39</td>\n",
       "    </tr>\n",
       "    <tr>\n",
       "      <th>Carnitas Soft Tacos</th>\n",
       "      <td>1011</td>\n",
       "      <td>1</td>\n",
       "      <td>[Fresh Tomato Salsa (Mild), [Black Beans, Rice...</td>\n",
       "      <td>8.99</td>\n",
       "    </tr>\n",
       "    <tr>\n",
       "      <th>Carnitas Crispy Tacos</th>\n",
       "      <td>1774</td>\n",
       "      <td>1</td>\n",
       "      <td>[Fresh Tomato Salsa, [Fajita Vegetables, Rice,...</td>\n",
       "      <td>8.99</td>\n",
       "    </tr>\n",
       "    <tr>\n",
       "      <th>Steak Soft Tacos</th>\n",
       "      <td>1054</td>\n",
       "      <td>1</td>\n",
       "      <td>[Fresh Tomato Salsa (Mild), [Cheese, Sour Cream]]</td>\n",
       "      <td>8.99</td>\n",
       "    </tr>\n",
       "    <tr>\n",
       "      <th>Carnitas Salad</th>\n",
       "      <td>1500</td>\n",
       "      <td>1</td>\n",
       "      <td>[[Fresh Tomato Salsa (Mild), Roasted Chili Cor...</td>\n",
       "      <td>8.99</td>\n",
       "    </tr>\n",
       "    <tr>\n",
       "      <th>Carnitas Bowl</th>\n",
       "      <td>1007</td>\n",
       "      <td>1</td>\n",
       "      <td>[Fresh Tomato (Mild), [Guacamole, Lettuce, Ric...</td>\n",
       "      <td>8.99</td>\n",
       "    </tr>\n",
       "    <tr>\n",
       "      <th>Barbacoa Soft Tacos</th>\n",
       "      <td>1103</td>\n",
       "      <td>1</td>\n",
       "      <td>[Fresh Tomato Salsa, [Black Beans, Cheese, Let...</td>\n",
       "      <td>8.99</td>\n",
       "    </tr>\n",
       "    <tr>\n",
       "      <th>Barbacoa Crispy Tacos</th>\n",
       "      <td>110</td>\n",
       "      <td>1</td>\n",
       "      <td>[Fresh Tomato Salsa, Guacamole]</td>\n",
       "      <td>8.99</td>\n",
       "    </tr>\n",
       "  </tbody>\n",
       "</table>\n",
       "</div>"
      ],
      "text/plain": [
       "                      order_id  quantity  \\\n",
       "item_name                                  \n",
       "Steak Salad Bowl          1032         1   \n",
       "Barbacoa Salad Bowl       1283         1   \n",
       "Carnitas Salad Bowl       1035         1   \n",
       "Carnitas Soft Tacos       1011         1   \n",
       "Carnitas Crispy Tacos     1774         1   \n",
       "Steak Soft Tacos          1054         1   \n",
       "Carnitas Salad            1500         1   \n",
       "Carnitas Bowl             1007         1   \n",
       "Barbacoa Soft Tacos       1103         1   \n",
       "Barbacoa Crispy Tacos      110         1   \n",
       "\n",
       "                                                      choice_description  \\\n",
       "item_name                                                                  \n",
       "Steak Salad Bowl                           [Fresh Tomato Salsa, Lettuce]   \n",
       "Barbacoa Salad Bowl                      [Fresh Tomato Salsa, Guacamole]   \n",
       "Carnitas Salad Bowl    [Fresh Tomato Salsa, [Rice, Black Beans, Chees...   \n",
       "Carnitas Soft Tacos    [Fresh Tomato Salsa (Mild), [Black Beans, Rice...   \n",
       "Carnitas Crispy Tacos  [Fresh Tomato Salsa, [Fajita Vegetables, Rice,...   \n",
       "Steak Soft Tacos       [Fresh Tomato Salsa (Mild), [Cheese, Sour Cream]]   \n",
       "Carnitas Salad         [[Fresh Tomato Salsa (Mild), Roasted Chili Cor...   \n",
       "Carnitas Bowl          [Fresh Tomato (Mild), [Guacamole, Lettuce, Ric...   \n",
       "Barbacoa Soft Tacos    [Fresh Tomato Salsa, [Black Beans, Cheese, Let...   \n",
       "Barbacoa Crispy Tacos                    [Fresh Tomato Salsa, Guacamole]   \n",
       "\n",
       "                       item_price  \n",
       "item_name                          \n",
       "Steak Salad Bowl             9.39  \n",
       "Barbacoa Salad Bowl          9.39  \n",
       "Carnitas Salad Bowl          9.39  \n",
       "Carnitas Soft Tacos          8.99  \n",
       "Carnitas Crispy Tacos        8.99  \n",
       "Steak Soft Tacos             8.99  \n",
       "Carnitas Salad               8.99  \n",
       "Carnitas Bowl                8.99  \n",
       "Barbacoa Soft Tacos          8.99  \n",
       "Barbacoa Crispy Tacos        8.99  "
      ]
     },
     "execution_count": 14,
     "metadata": {},
     "output_type": "execute_result"
    }
   ],
   "source": [
    "# 각 아이템의 가격을 계산합니다.\n",
    "chipo_one_item=chipo[chipo.quantity==1]\n",
    "price_per_item=chipo_one_item.groupby('item_name').min()\n",
    "price_per_item.sort_values(by=\"item_price\", ascending=False)[:10]"
   ]
  },
  {
   "cell_type": "markdown",
   "id": "555ee022",
   "metadata": {},
   "source": [
    "그리고 각 아이템의 대략적인 가격을 아래와 같이 2개의 그래프로 시각화하여 나타낼 수 있습니다. 각각의 그래프는 아이템의 가격 분포(위쪽 결과)와 가격 히스토그램(아래쪽 결과)을 나타냅니다. 이를 통해 2~4달러, 혹은 6~8달러 정도에 아이템의 가격대가 형성되어 있음을 알 수 있습니다."
   ]
  },
  {
   "cell_type": "code",
   "execution_count": 15,
   "id": "a090e3e9",
   "metadata": {},
   "outputs": [
    {
     "data": {
      "image/png": "[encoded data removed]",
      "text/plain": [
       "<Figure size 432x288 with 1 Axes>"
      ]
     },
     "metadata": {
      "needs_background": "light"
     },
     "output_type": "display_data"
    },
    {
     "data": {
      "image/png": "[encoded data removed]",
      "text/plain": [
       "<Figure size 432x288 with 1 Axes>"
      ]
     },
     "metadata": {
      "needs_background": "light"
     },
     "output_type": "display_data"
    }
   ],
   "source": [
    "# 아이템 가격 분포 그래프를 출력합니다.\n",
    "item_name_list=price_per_item.index.tolist()\n",
    "x_pos=np.arange(len(item_name_list))\n",
    "item_price=price_per_item['item_price'].tolist()\n",
    "plt.bar(x_pos, item_price, align='center')\n",
    "plt.ylabel('item price($)')\n",
    "plt.title('Distribution of item price')\n",
    "plt.show()\n",
    "# 아이템 가격 히스토그램을 출력합니다.\n",
    "plt.hist(item_price)\n",
    "plt.ylabel('counts')\n",
    "plt.title('Histogram of item price')\n",
    "plt.show()"
   ]
  },
  {
   "cell_type": "markdown",
   "id": "308d5e48",
   "metadata": {},
   "source": [
    "### 가장 비싼 주문에서 아이템이 총 몇 개 팔렸는지 구하기\n",
    "이 질문에서도 마찬가지로, order_id에 그룹별 합계 연산을 적용합니다. 그리고 item_price를 기준으로 sort_values를 반환하면 가장 비싼 주문순으로 연산 결과를 얻을 수 있습니다. 다음 결과에 서는 가장 비싼 주문에서 23개의 아이템을 주문한 것을 알 수 있습니다."
   ]
  },
  {
   "cell_type": "markdown",
   "id": "c5ecc224",
   "metadata": {},
   "source": [
    "#### 가장 비싼 주문에서 아이템이 총 몇 개 팔렸는지 구하기"
   ]
  },
  {
   "cell_type": "code",
   "execution_count": 16,
   "id": "22e1f72d",
   "metadata": {},
   "outputs": [
    {
     "data": {
      "text/html": [
       "<div>\n",
       "<style scoped>\n",
       "    .dataframe tbody tr th:only-of-type {\n",
       "        vertical-align: middle;\n",
       "    }\n",
       "\n",
       "    .dataframe tbody tr th {\n",
       "        vertical-align: top;\n",
       "    }\n",
       "\n",
       "    .dataframe thead th {\n",
       "        text-align: right;\n",
       "    }\n",
       "</style>\n",
       "<table border=\"1\" class=\"dataframe\">\n",
       "  <thead>\n",
       "    <tr style=\"text-align: right;\">\n",
       "      <th></th>\n",
       "      <th>quantity</th>\n",
       "      <th>item_price</th>\n",
       "    </tr>\n",
       "    <tr>\n",
       "      <th>order_id</th>\n",
       "      <th></th>\n",
       "      <th></th>\n",
       "    </tr>\n",
       "  </thead>\n",
       "  <tbody>\n",
       "    <tr>\n",
       "      <th>926</th>\n",
       "      <td>23</td>\n",
       "      <td>205.25</td>\n",
       "    </tr>\n",
       "    <tr>\n",
       "      <th>1443</th>\n",
       "      <td>35</td>\n",
       "      <td>160.74</td>\n",
       "    </tr>\n",
       "    <tr>\n",
       "      <th>1483</th>\n",
       "      <td>14</td>\n",
       "      <td>139.00</td>\n",
       "    </tr>\n",
       "    <tr>\n",
       "      <th>691</th>\n",
       "      <td>11</td>\n",
       "      <td>118.25</td>\n",
       "    </tr>\n",
       "    <tr>\n",
       "      <th>1786</th>\n",
       "      <td>20</td>\n",
       "      <td>114.30</td>\n",
       "    </tr>\n",
       "  </tbody>\n",
       "</table>\n",
       "</div>"
      ],
      "text/plain": [
       "          quantity  item_price\n",
       "order_id                      \n",
       "926             23      205.25\n",
       "1443            35      160.74\n",
       "1483            14      139.00\n",
       "691             11      118.25\n",
       "1786            20      114.30"
      ]
     },
     "execution_count": 16,
     "metadata": {},
     "output_type": "execute_result"
    }
   ],
   "source": [
    "# 가장 비싼 주문에서 아이템이 총 몇 개 팔렸는지를 계산합니다.\n",
    "chipo.groupby('order_id').sum().sort_values(by='item_price', ascending=False)[:5]"
   ]
  },
  {
   "cell_type": "markdown",
   "id": "784f9ceb",
   "metadata": {},
   "source": [
    "### 'Veggie Salad Bowl'이 몇 번 주문되었는지 구하기\n",
    "이번에는 특정 아이템인 Veggie Salad Bowl'이 몇번이나 주문되었는지 알아보겠습니다. 이를 위해 chipo[chipo['item_name']==\"Veggie Salad Bowl\"]으로 필터링한 뒤, drop_duplicates()라는 함수를 사용합니다. 이는 한 주문 내에서 item_name이 중복 짐계된 경우를 제거해주기 위함입니다.<br>\n",
    "그리고 최종 결과인 chipo_salad의 길이를 출력하면 Veggie Salad Bowl이 데이터 내에서 몇 번이나 주문되었는지 구할 수 있습니다. 출력 결과, Veggie Salad Bowl은 총 18번 주문된 것을 알수 있습니다."
   ]
  },
  {
   "cell_type": "markdown",
   "id": "e8e0b4df",
   "metadata": {},
   "source": [
    "#### 'Veggie Salad Bowl'이 몇 번 주문되었는지 구하기"
   ]
  },
  {
   "cell_type": "code",
   "execution_count": 17,
   "id": "26c039e6",
   "metadata": {},
   "outputs": [
    {
     "name": "stdout",
     "output_type": "stream",
     "text": [
      "18\n"
     ]
    },
    {
     "data": {
      "text/html": [
       "<div>\n",
       "<style scoped>\n",
       "    .dataframe tbody tr th:only-of-type {\n",
       "        vertical-align: middle;\n",
       "    }\n",
       "\n",
       "    .dataframe tbody tr th {\n",
       "        vertical-align: top;\n",
       "    }\n",
       "\n",
       "    .dataframe thead th {\n",
       "        text-align: right;\n",
       "    }\n",
       "</style>\n",
       "<table border=\"1\" class=\"dataframe\">\n",
       "  <thead>\n",
       "    <tr style=\"text-align: right;\">\n",
       "      <th></th>\n",
       "      <th>order_id</th>\n",
       "      <th>quantity</th>\n",
       "      <th>item_name</th>\n",
       "      <th>choice_description</th>\n",
       "      <th>item_price</th>\n",
       "    </tr>\n",
       "  </thead>\n",
       "  <tbody>\n",
       "    <tr>\n",
       "      <th>186</th>\n",
       "      <td>83</td>\n",
       "      <td>1</td>\n",
       "      <td>Veggie Salad Bowl</td>\n",
       "      <td>[Fresh Tomato Salsa, [Fajita Vegetables, Rice,...</td>\n",
       "      <td>11.25</td>\n",
       "    </tr>\n",
       "    <tr>\n",
       "      <th>295</th>\n",
       "      <td>128</td>\n",
       "      <td>1</td>\n",
       "      <td>Veggie Salad Bowl</td>\n",
       "      <td>[Fresh Tomato Salsa, [Fajita Vegetables, Lettu...</td>\n",
       "      <td>11.25</td>\n",
       "    </tr>\n",
       "    <tr>\n",
       "      <th>455</th>\n",
       "      <td>195</td>\n",
       "      <td>1</td>\n",
       "      <td>Veggie Salad Bowl</td>\n",
       "      <td>[Fresh Tomato Salsa, [Fajita Vegetables, Rice,...</td>\n",
       "      <td>11.25</td>\n",
       "    </tr>\n",
       "    <tr>\n",
       "      <th>496</th>\n",
       "      <td>207</td>\n",
       "      <td>1</td>\n",
       "      <td>Veggie Salad Bowl</td>\n",
       "      <td>[Fresh Tomato Salsa, [Rice, Lettuce, Guacamole...</td>\n",
       "      <td>11.25</td>\n",
       "    </tr>\n",
       "    <tr>\n",
       "      <th>960</th>\n",
       "      <td>394</td>\n",
       "      <td>1</td>\n",
       "      <td>Veggie Salad Bowl</td>\n",
       "      <td>[Fresh Tomato Salsa, [Fajita Vegetables, Lettu...</td>\n",
       "      <td>8.75</td>\n",
       "    </tr>\n",
       "  </tbody>\n",
       "</table>\n",
       "</div>"
      ],
      "text/plain": [
       "    order_id  quantity          item_name  \\\n",
       "186       83         1  Veggie Salad Bowl   \n",
       "295      128         1  Veggie Salad Bowl   \n",
       "455      195         1  Veggie Salad Bowl   \n",
       "496      207         1  Veggie Salad Bowl   \n",
       "960      394         1  Veggie Salad Bowl   \n",
       "\n",
       "                                    choice_description  item_price  \n",
       "186  [Fresh Tomato Salsa, [Fajita Vegetables, Rice,...       11.25  \n",
       "295  [Fresh Tomato Salsa, [Fajita Vegetables, Lettu...       11.25  \n",
       "455  [Fresh Tomato Salsa, [Fajita Vegetables, Rice,...       11.25  \n",
       "496  [Fresh Tomato Salsa, [Rice, Lettuce, Guacamole...       11.25  \n",
       "960  [Fresh Tomato Salsa, [Fajita Vegetables, Lettu...        8.75  "
      ]
     },
     "execution_count": 17,
     "metadata": {},
     "output_type": "execute_result"
    }
   ],
   "source": [
    "# 'Veggie Salad Bowl'이 몇 번 주문되었는지를 계산합니다.\n",
    "chipo_salad=chipo[chipo['item_name']==\"Veggie Salad Bowl\"]\n",
    "# 한 주문 내에서 중복 집계된  item_name을 제거합니다.\n",
    "chipo_salad = chipo_salad.drop_duplicates(['item_name', 'order_id'])\n",
    "\n",
    "print(len(chipo_salad))\n",
    "chipo_salad.head(5)"
   ]
  },
  {
   "cell_type": "markdown",
   "id": "0dce43ea",
   "metadata": {},
   "source": [
    "### 'Chicken Bowl'을 2개 이상 주문한 주문 횟수 구하기\n",
    "비슷한 방법으로 'Chicken Bowl'을 2개 이상 주문한 주문 횟수를 구해봅시다. 먼저'Chicken Bowl'을 주문한 데이터만을 필터링한 뒤, 데이터프레임에서 quantity가 2 이상인 것을 선택하면 이결과가 'Chicken Bowl'을 2개이상 주문한 주문 횟수를 의미합니다. 2개 이상으로 필터링을 적용한 출력 결과는 다음과 같습니다."
   ]
  },
  {
   "cell_type": "markdown",
   "id": "d20a7bee",
   "metadata": {},
   "source": [
    "#### 'Chicken Bowl'을 2개이상 주문한 주문 횟수 구하기"
   ]
  },
  {
   "cell_type": "code",
   "execution_count": 18,
   "id": "80d603cf",
   "metadata": {},
   "outputs": [
    {
     "name": "stdout",
     "output_type": "stream",
     "text": [
      "33\n"
     ]
    }
   ],
   "source": [
    "# \"Chicken Bowl\"을 2개 이상 주문한 주문 횟수를 구합니다.\n",
    "chipo_chicken=chipo[chipo['item_name']==\"Chicken Bowl\"]\n",
    "chipo_chicken_result=chipo_chicken[chipo_chicken['quantity']>=2]\n",
    "print(chipo_chicken_result.shape[0])"
   ]
  },
  {
   "cell_type": "markdown",
   "id": "60ec2ebe",
   "metadata": {},
   "source": [
    "## 표로 정리하는 데이터 분석\n",
    "- 데이터 탐색 질문 : 해당 피처 : 인사이트\n",
    "- 가장 많이 주문된 아이템 :  item_name : Chicken Bowl이 가장 인기 있는 아이템으로 나타남.\n",
    "- 주분된 전체 아이템 종류 : item_name : 데이터셋에 총 50개의 주문된 아이템이 존재함.\n",
    "- 아이템당 주문된 총 개수 : item_name : 50개 중, 상위8개 정도의 아이템에 주문이 집중됨.\n",
    "- 주문당 평균 계산 급액 : item_name : 평균은 약 18, 표준편차는 11로 나타남. 25에서75%에 해당하는 구간이 12~21이며 최대값이 200을 넘는 것으로 보아. 소수의 주문을 제외하면 대부분 평균 근처의 계산 금액을 보임. 표준편차 11은 예외 처리를 통한 보정값을 계산할 여지가 있음.\n",
    "- 각 아이템의 대략적인 가격 : item_price : 아이템의 판매 가격은 대부분 2~4, 혹은 6에서8 달러 정도임."
   ]
  },
  {
   "cell_type": "markdown",
   "id": "47317465",
   "metadata": {},
   "source": [
    "# 1.3 구가별 음주 데이터 분석하기\n",
    "두 번째 예제에서는 국가별 음주 데이터를 활용하여 탐색적 데이터 분석을 진행합니다. 이를 통해 데이터 분석 라이브러리의 사용법과 탐색적 데이터 분석의 과정에 조금 더 익숙해지는 것을 목표로합니다. 이번 예제에 사용할 데이터인 drinks.csv 역시 python-data-analysis/data 폴더에 저장되어 있습니다. <br>\n",
    "Chapter 01 폴더 안의 02-drinks-eda.pnyd 파일을 실행하여 예제의 코드를 실행하거나 새로운 노트북 파엘에서 다음에 학습할 코드들을 실해보기 바랍니다."
   ]
  },
  {
   "cell_type": "markdown",
   "id": "89d81f75",
   "metadata": {},
   "source": [
    "# 분석 미리보기\n",
    "## 대한민국은 술을 얼마나 독하게 마시는 나라일까?\n",
    "이번 탐색의 주제는'대한민국은 술을 얼마나 독하게 마시는 나라일까?'인데, 다음 그래프를 잠깐 봅시다. 대한민국은 전체 200여 개 국가중 15위를 기록하였고, 역시'소맥'의 나라답게 꽤나 높은 순위를 기록한 것을 알 수 있습니다."
   ]
  },
  {
   "attachments": {
    "%EB%8B%A4%EC%9A%B4%EB%A1%9C%EB%93%9C.png": {
     "image/png": "[encoded data removed]"
    }
   },
   "cell_type": "markdown",
   "id": "a40380e3",
   "metadata": {},
   "source": [
    "![%EB%8B%A4%EC%9A%B4%EB%A1%9C%EB%93%9C.png](attachment:%EB%8B%A4%EC%9A%B4%EB%A1%9C%EB%93%9C.png)\n",
    "분석결과 : 대한민국은 술을 얼마나 독하게 마시는 나라일까?"
   ]
  },
  {
   "cell_type": "markdown",
   "id": "0271ed14",
   "metadata": {},
   "source": [
    "## step1 탐색 : 데이터의 기초 정보 살펴보기\n",
    "이번 데이터셋을 이루고 있는 피처는 다음과 같습니다.\n",
    "- country : 국가정보\n",
    "- beer_servings : beer 소비량\n",
    "- spirit_servings : spirit 소비량\n",
    "- wine_servings : wine 소비량\n",
    "- total_litres_of_pure_alcohol : 총 알코올 소비량\n",
    "- continent :  국가의 대륙 정보<br>\n",
    "이 중에서 먼저 info() 함수로 데이터의 기초적인 정보를 살펴봅니다. 총 193개의 데이터가 있으며, country와 continent를 제외한 피처들은 수치형 피처로 구성되어 있다는 사실을 알 수 있습니다. 그리고 continent 피처는 23개의 결측값이 존재합니다."
   ]
  },
  {
   "cell_type": "markdown",
   "id": "8a7c4d3d",
   "metadata": {},
   "source": [
    "#### drinks 데이터셋의 기초 정보 출력하기"
   ]
  },
  {
   "cell_type": "code",
   "execution_count": 19,
   "id": "29de53cb",
   "metadata": {},
   "outputs": [
    {
     "name": "stdout",
     "output_type": "stream",
     "text": [
      "<class 'pandas.core.frame.DataFrame'>\n",
      "RangeIndex: 193 entries, 0 to 192\n",
      "Data columns (total 6 columns):\n",
      " #   Column                        Non-Null Count  Dtype  \n",
      "---  ------                        --------------  -----  \n",
      " 0   country                       193 non-null    object \n",
      " 1   beer_servings                 193 non-null    int64  \n",
      " 2   spirit_servings               193 non-null    int64  \n",
      " 3   wine_servings                 193 non-null    int64  \n",
      " 4   total_litres_of_pure_alcohol  193 non-null    float64\n",
      " 5   continent                     170 non-null    object \n",
      "dtypes: float64(1), int64(3), object(2)\n",
      "memory usage: 9.2+ KB\n",
      "None\n"
     ]
    },
    {
     "data": {
      "text/html": [
       "<div>\n",
       "<style scoped>\n",
       "    .dataframe tbody tr th:only-of-type {\n",
       "        vertical-align: middle;\n",
       "    }\n",
       "\n",
       "    .dataframe tbody tr th {\n",
       "        vertical-align: top;\n",
       "    }\n",
       "\n",
       "    .dataframe thead th {\n",
       "        text-align: right;\n",
       "    }\n",
       "</style>\n",
       "<table border=\"1\" class=\"dataframe\">\n",
       "  <thead>\n",
       "    <tr style=\"text-align: right;\">\n",
       "      <th></th>\n",
       "      <th>country</th>\n",
       "      <th>beer_servings</th>\n",
       "      <th>spirit_servings</th>\n",
       "      <th>wine_servings</th>\n",
       "      <th>total_litres_of_pure_alcohol</th>\n",
       "      <th>continent</th>\n",
       "    </tr>\n",
       "  </thead>\n",
       "  <tbody>\n",
       "    <tr>\n",
       "      <th>0</th>\n",
       "      <td>Afghanistan</td>\n",
       "      <td>0</td>\n",
       "      <td>0</td>\n",
       "      <td>0</td>\n",
       "      <td>0.0</td>\n",
       "      <td>AS</td>\n",
       "    </tr>\n",
       "    <tr>\n",
       "      <th>1</th>\n",
       "      <td>Albania</td>\n",
       "      <td>89</td>\n",
       "      <td>132</td>\n",
       "      <td>54</td>\n",
       "      <td>4.9</td>\n",
       "      <td>EU</td>\n",
       "    </tr>\n",
       "    <tr>\n",
       "      <th>2</th>\n",
       "      <td>Algeria</td>\n",
       "      <td>25</td>\n",
       "      <td>0</td>\n",
       "      <td>14</td>\n",
       "      <td>0.7</td>\n",
       "      <td>AF</td>\n",
       "    </tr>\n",
       "    <tr>\n",
       "      <th>3</th>\n",
       "      <td>Andorra</td>\n",
       "      <td>245</td>\n",
       "      <td>138</td>\n",
       "      <td>312</td>\n",
       "      <td>12.4</td>\n",
       "      <td>EU</td>\n",
       "    </tr>\n",
       "    <tr>\n",
       "      <th>4</th>\n",
       "      <td>Angola</td>\n",
       "      <td>217</td>\n",
       "      <td>57</td>\n",
       "      <td>45</td>\n",
       "      <td>5.9</td>\n",
       "      <td>AF</td>\n",
       "    </tr>\n",
       "    <tr>\n",
       "      <th>5</th>\n",
       "      <td>Antigua &amp; Barbuda</td>\n",
       "      <td>102</td>\n",
       "      <td>128</td>\n",
       "      <td>45</td>\n",
       "      <td>4.9</td>\n",
       "      <td>NaN</td>\n",
       "    </tr>\n",
       "    <tr>\n",
       "      <th>6</th>\n",
       "      <td>Argentina</td>\n",
       "      <td>193</td>\n",
       "      <td>25</td>\n",
       "      <td>221</td>\n",
       "      <td>8.3</td>\n",
       "      <td>SA</td>\n",
       "    </tr>\n",
       "    <tr>\n",
       "      <th>7</th>\n",
       "      <td>Armenia</td>\n",
       "      <td>21</td>\n",
       "      <td>179</td>\n",
       "      <td>11</td>\n",
       "      <td>3.8</td>\n",
       "      <td>EU</td>\n",
       "    </tr>\n",
       "    <tr>\n",
       "      <th>8</th>\n",
       "      <td>Australia</td>\n",
       "      <td>261</td>\n",
       "      <td>72</td>\n",
       "      <td>212</td>\n",
       "      <td>10.4</td>\n",
       "      <td>OC</td>\n",
       "    </tr>\n",
       "    <tr>\n",
       "      <th>9</th>\n",
       "      <td>Austria</td>\n",
       "      <td>279</td>\n",
       "      <td>75</td>\n",
       "      <td>191</td>\n",
       "      <td>9.7</td>\n",
       "      <td>EU</td>\n",
       "    </tr>\n",
       "  </tbody>\n",
       "</table>\n",
       "</div>"
      ],
      "text/plain": [
       "             country  beer_servings  spirit_servings  wine_servings  \\\n",
       "0        Afghanistan              0                0              0   \n",
       "1            Albania             89              132             54   \n",
       "2            Algeria             25                0             14   \n",
       "3            Andorra            245              138            312   \n",
       "4             Angola            217               57             45   \n",
       "5  Antigua & Barbuda            102              128             45   \n",
       "6          Argentina            193               25            221   \n",
       "7            Armenia             21              179             11   \n",
       "8          Australia            261               72            212   \n",
       "9            Austria            279               75            191   \n",
       "\n",
       "   total_litres_of_pure_alcohol continent  \n",
       "0                           0.0        AS  \n",
       "1                           4.9        EU  \n",
       "2                           0.7        AF  \n",
       "3                          12.4        EU  \n",
       "4                           5.9        AF  \n",
       "5                           4.9       NaN  \n",
       "6                           8.3        SA  \n",
       "7                           3.8        EU  \n",
       "8                          10.4        OC  \n",
       "9                           9.7        EU  "
      ]
     },
     "execution_count": 19,
     "metadata": {},
     "output_type": "execute_result"
    }
   ],
   "source": [
    "# -*- coding: utf-8 -*-\n",
    "\n",
    "import pandas as pd\n",
    "import numpy as np\n",
    "import matplotlib.pyplot as plt\n",
    "\n",
    "file_path = 'data/drinks.csv'\n",
    "drinks = pd.read_csv(file_path) # read_csv() 함수로 데이터를 데이터 프레임 형태로 불러옵니다.\n",
    "print(drinks.info())\n",
    "drinks.head(10)"
   ]
  },
  {
   "cell_type": "markdown",
   "id": "d80cdf73",
   "metadata": {},
   "source": [
    "나머지 피처의 수치적 정보를 살펴보기 위해 describe() 함수를 실행해보면 결과는 아래와 같습니다."
   ]
  },
  {
   "cell_type": "code",
   "execution_count": 20,
   "id": "646a5c5b",
   "metadata": {},
   "outputs": [
    {
     "data": {
      "text/html": [
       "<div>\n",
       "<style scoped>\n",
       "    .dataframe tbody tr th:only-of-type {\n",
       "        vertical-align: middle;\n",
       "    }\n",
       "\n",
       "    .dataframe tbody tr th {\n",
       "        vertical-align: top;\n",
       "    }\n",
       "\n",
       "    .dataframe thead th {\n",
       "        text-align: right;\n",
       "    }\n",
       "</style>\n",
       "<table border=\"1\" class=\"dataframe\">\n",
       "  <thead>\n",
       "    <tr style=\"text-align: right;\">\n",
       "      <th></th>\n",
       "      <th>beer_servings</th>\n",
       "      <th>spirit_servings</th>\n",
       "      <th>wine_servings</th>\n",
       "      <th>total_litres_of_pure_alcohol</th>\n",
       "    </tr>\n",
       "  </thead>\n",
       "  <tbody>\n",
       "    <tr>\n",
       "      <th>count</th>\n",
       "      <td>193.000000</td>\n",
       "      <td>193.000000</td>\n",
       "      <td>193.000000</td>\n",
       "      <td>193.000000</td>\n",
       "    </tr>\n",
       "    <tr>\n",
       "      <th>mean</th>\n",
       "      <td>106.160622</td>\n",
       "      <td>80.994819</td>\n",
       "      <td>49.450777</td>\n",
       "      <td>4.717098</td>\n",
       "    </tr>\n",
       "    <tr>\n",
       "      <th>std</th>\n",
       "      <td>101.143103</td>\n",
       "      <td>88.284312</td>\n",
       "      <td>79.697598</td>\n",
       "      <td>3.773298</td>\n",
       "    </tr>\n",
       "    <tr>\n",
       "      <th>min</th>\n",
       "      <td>0.000000</td>\n",
       "      <td>0.000000</td>\n",
       "      <td>0.000000</td>\n",
       "      <td>0.000000</td>\n",
       "    </tr>\n",
       "    <tr>\n",
       "      <th>25%</th>\n",
       "      <td>20.000000</td>\n",
       "      <td>4.000000</td>\n",
       "      <td>1.000000</td>\n",
       "      <td>1.300000</td>\n",
       "    </tr>\n",
       "    <tr>\n",
       "      <th>50%</th>\n",
       "      <td>76.000000</td>\n",
       "      <td>56.000000</td>\n",
       "      <td>8.000000</td>\n",
       "      <td>4.200000</td>\n",
       "    </tr>\n",
       "    <tr>\n",
       "      <th>75%</th>\n",
       "      <td>188.000000</td>\n",
       "      <td>128.000000</td>\n",
       "      <td>59.000000</td>\n",
       "      <td>7.200000</td>\n",
       "    </tr>\n",
       "    <tr>\n",
       "      <th>max</th>\n",
       "      <td>376.000000</td>\n",
       "      <td>438.000000</td>\n",
       "      <td>370.000000</td>\n",
       "      <td>14.400000</td>\n",
       "    </tr>\n",
       "  </tbody>\n",
       "</table>\n",
       "</div>"
      ],
      "text/plain": [
       "       beer_servings  spirit_servings  wine_servings  \\\n",
       "count     193.000000       193.000000     193.000000   \n",
       "mean      106.160622        80.994819      49.450777   \n",
       "std       101.143103        88.284312      79.697598   \n",
       "min         0.000000         0.000000       0.000000   \n",
       "25%        20.000000         4.000000       1.000000   \n",
       "50%        76.000000        56.000000       8.000000   \n",
       "75%       188.000000       128.000000      59.000000   \n",
       "max       376.000000       438.000000     370.000000   \n",
       "\n",
       "       total_litres_of_pure_alcohol  \n",
       "count                    193.000000  \n",
       "mean                       4.717098  \n",
       "std                        3.773298  \n",
       "min                        0.000000  \n",
       "25%                        1.300000  \n",
       "50%                        4.200000  \n",
       "75%                        7.200000  \n",
       "max                       14.400000  "
      ]
     },
     "execution_count": 20,
     "metadata": {},
     "output_type": "execute_result"
    }
   ],
   "source": [
    "drinks.describe()"
   ]
  },
  {
   "cell_type": "markdown",
   "id": "615782eb",
   "metadata": {},
   "source": [
    "## Step 2  인사이트의 발견: 탐색과 시각화하기\n",
    "다음으로 피처 간의 상관 관계를 살펴봅시다. 피처 간의 상관 관계를 통계적으로 탐색하는 방법은 크게 두 가지입니다. 첫 번째 방법은 피처가 2개일 때의 상관 계수를 계산하는 단순 상관 분석 방법이며, 두번째 방법은 대상 피처가 여러 개일 때 상호 간의 연관성을 분석하는 다중 상관 분석입니다. 이 중, 우리가 적용해볼 방법은 첫 번째 방법인 단순 상관 분석입니다."
   ]
  },
  {
   "cell_type": "markdown",
   "id": "c50b08a3",
   "metadata": {},
   "source": [
    "### 상관 분석\n",
    "상관 분석이란 두 변수 간의 선형적 관계를 상관 계수로 표현하는 것입니다. 상관 계수를 구하는 것은 공분산의 개념을 포함합니다. 공분산은 2개의 확률 변수에 대한 상관 정도로, 2개의 변수 중 하나의 값이 상승하는 경향을 보일 때 다른 값도 상승하는 경향을 수치로 나타낸 것입니다. 하지만 공분산만으로 두 확률 변수의 상관 관계를 구한다면 두 변수의 단위 크기에 영향을 받을 수 있습니다. 따라서 이를 -1과 1사이의 값으로 변환합니다. 이를 상관 계수라 합니다. 만약 상관 계수가 1에 가깝다면 서로 강한 양의 상관 관계가 있는 것이고, -1에 가깝다면 음의 상관 관계가 있는 것입니다."
   ]
  },
  {
   "cell_type": "markdown",
   "id": "38414d85",
   "metadata": {},
   "source": [
    "상관 관계를 살펴볼 대상은 beer_servings, wine_servings, spirit_servungs, total_litres_of_pure_alcohol 이렇게 4개의 피처입니다. 이 피처는 술의종류만 다를 뿐, 결국에는 비슷한 의미를 가지는 피처들이기 때문입니다.<br>\n",
    "먼저 맥주와 와인 소비량의 상관 관계를 알아봅시다. 아래 코드처럼 데이터 프레임에서 두 피처를 선택한 뒤, corr() 함수를 적용합니다. 이를 통해 피처 간의 상관 계수를 matrix의 형태로 출력할 수 있습니다. 출력 결과, beer_servings와 wine_servings 두 피처 간의 상관 계수는 0.52 정도로 나타났습니다."
   ]
  },
  {
   "cell_type": "code",
   "execution_count": 21,
   "id": "8b16d039",
   "metadata": {},
   "outputs": [
    {
     "name": "stdout",
     "output_type": "stream",
     "text": [
      "               beer_servings  wine_servings\n",
      "beer_servings       1.000000       0.527172\n",
      "wine_servings       0.527172       1.000000\n"
     ]
    }
   ],
   "source": [
    "# beer_servings, wine_servings 두 피처 간의 상관 계수를 꼐산합니다.\n",
    "# pearson은 상관 계수를 구하는 계산 방법 중 하나를 의미하며, 가장 널리 쓰이는 방법입니다.\n",
    "corr =drinks[['beer_servings', 'wine_servings']].corr(method ='pearson')\n",
    "print(corr)"
   ]
  },
  {
   "cell_type": "markdown",
   "id": "8eabbd54",
   "metadata": {},
   "source": [
    "이제 모든 피처들을 각각 1대 1로 비교하여 살펴봅시다. 아래 실행 결과는 4개 피처에 corr()함수를 적용한 상관 계수 행렬을 출력한 것입니다."
   ]
  },
  {
   "cell_type": "markdown",
   "id": "e90b4b72",
   "metadata": {},
   "source": [
    "### 여러 피처의 상관 관계 분석하기"
   ]
  },
  {
   "cell_type": "code",
   "execution_count": 22,
   "id": "4760e0fc",
   "metadata": {},
   "outputs": [
    {
     "name": "stdout",
     "output_type": "stream",
     "text": [
      "                              beer_servings  spirit_servings  wine_servings  \\\n",
      "beer_servings                      1.000000         0.458819       0.527172   \n",
      "spirit_servings                    0.458819         1.000000       0.194797   \n",
      "wine_servings                      0.527172         0.194797       1.000000   \n",
      "total_litres_of_pure_alcohol       0.835839         0.654968       0.667598   \n",
      "\n",
      "                              total_litres_of_pure_alcohol  \n",
      "beer_servings                                     0.835839  \n",
      "spirit_servings                                   0.654968  \n",
      "wine_servings                                     0.667598  \n",
      "total_litres_of_pure_alcohol                      1.000000  \n"
     ]
    }
   ],
   "source": [
    "# 피처간의 상관 계수 행렬을 구합니다.\n",
    "cols=['beer_servings', 'spirit_servings', 'wine_servings', 'total_litres_of_pure_alcohol']\n",
    "corr=drinks[cols].corr(method='pearson')\n",
    "print(corr)"
   ]
  },
  {
   "cell_type": "markdown",
   "id": "75859c59",
   "metadata": {},
   "source": [
    "이를 조금 더 쉽게 실행하기 위해 'heatmap', 'pairplot'이라는 기법을 사용해봅시다. 파이썬의 seaborn이라는 시각화 라이브러리를 활용하여 이 2개 기법을 사용할 수 있습니다."
   ]
  },
  {
   "cell_type": "markdown",
   "id": "a7095ac1",
   "metadata": {},
   "source": [
    "코드는 매우 간답합니다. heatmap의 경우 corr.values를, pairplot의 경우 데이터 프레임을 파라미터로 넣어줍니다. 그 외에도 그래프의 디자인과 관련된 몇 가지 파라미터를 설정할 수 있습니다."
   ]
  },
  {
   "cell_type": "code",
   "execution_count": 23,
   "id": "80b14969",
   "metadata": {},
   "outputs": [
    {
     "data": {
      "image/png": "[encoded data removed]",
      "text/plain": [
       "<Figure size 432x288 with 2 Axes>"
      ]
     },
     "metadata": {},
     "output_type": "display_data"
    },
    {
     "data": {
      "image/png": "[encoded data removed]",
      "text/plain": [
       "<Figure size 720x720 with 20 Axes>"
      ]
     },
     "metadata": {},
     "output_type": "display_data"
    }
   ],
   "source": [
    "import seaborn as sns\n",
    "import matplotlib.pyplot as plt\n",
    "\n",
    "# corr 행렬 히트맵을 시각화합니다.\n",
    "cols_view=['beer', 'spirit', 'wine', 'alcohol'] # 그래프 출력을 위한 cols 이름을 축약합니다.\n",
    "sns.set(font_scale=1.5)\n",
    "hm=sns.heatmap(corr.values,\n",
    "              cbar=True,\n",
    "              annot=True,\n",
    "              square=True,\n",
    "              fmt='.2f',\n",
    "              annot_kws={'size':15},\n",
    "              yticklabels=cols_view,\n",
    "              xticklabels=cols_view)\n",
    "\n",
    "plt.tight_layout()\n",
    "plt.show()\n",
    "\n",
    "# 시각화 라이브러리를 이용한 피처 간의 산점도 그래프를 출력합니다.\n",
    "sns.set(style='whitegrid', context='notebook')\n",
    "sns.pairplot(drinks[['beer_servings', 'spirit_servings','wine_servings', 'total_litres_of_pure_alcohol']], height=2.5)\n",
    "\n",
    "plt.show()"
   ]
  },
  {
   "cell_type": "markdown",
   "id": "364186dc",
   "metadata": {},
   "source": [
    "## Step 3 탐색적 분석: 스무고개로 개념적 탐색 분석하기\n",
    "본격적인 탐색적 분석에 들어가기에 앞서 continent 피처에 존재하는 결측 데이터를 처리해봅시다. 대륙에 대한 정보가 없는 국가를 'Others', 줄여서 'OT'라는 대륙으로 새롭게 정의하겠습니다. 이를 처리하는 코드는 다음과 같습니다.. fillna() 함수를 사용하여 drinks 데이터 프레임의 continent 피처의 결측값을 OT로 채워줍니다."
   ]
  },
  {
   "cell_type": "markdown",
   "id": "20269df1",
   "metadata": {},
   "source": [
    "#### 결측 데이터 전처리하기"
   ]
  },
  {
   "cell_type": "code",
   "execution_count": 24,
   "id": "c2458e26",
   "metadata": {},
   "outputs": [
    {
     "data": {
      "text/html": [
       "<div>\n",
       "<style scoped>\n",
       "    .dataframe tbody tr th:only-of-type {\n",
       "        vertical-align: middle;\n",
       "    }\n",
       "\n",
       "    .dataframe tbody tr th {\n",
       "        vertical-align: top;\n",
       "    }\n",
       "\n",
       "    .dataframe thead th {\n",
       "        text-align: right;\n",
       "    }\n",
       "</style>\n",
       "<table border=\"1\" class=\"dataframe\">\n",
       "  <thead>\n",
       "    <tr style=\"text-align: right;\">\n",
       "      <th></th>\n",
       "      <th>country</th>\n",
       "      <th>beer_servings</th>\n",
       "      <th>spirit_servings</th>\n",
       "      <th>wine_servings</th>\n",
       "      <th>total_litres_of_pure_alcohol</th>\n",
       "      <th>continent</th>\n",
       "    </tr>\n",
       "  </thead>\n",
       "  <tbody>\n",
       "    <tr>\n",
       "      <th>0</th>\n",
       "      <td>Afghanistan</td>\n",
       "      <td>0</td>\n",
       "      <td>0</td>\n",
       "      <td>0</td>\n",
       "      <td>0.0</td>\n",
       "      <td>AS</td>\n",
       "    </tr>\n",
       "    <tr>\n",
       "      <th>1</th>\n",
       "      <td>Albania</td>\n",
       "      <td>89</td>\n",
       "      <td>132</td>\n",
       "      <td>54</td>\n",
       "      <td>4.9</td>\n",
       "      <td>EU</td>\n",
       "    </tr>\n",
       "    <tr>\n",
       "      <th>2</th>\n",
       "      <td>Algeria</td>\n",
       "      <td>25</td>\n",
       "      <td>0</td>\n",
       "      <td>14</td>\n",
       "      <td>0.7</td>\n",
       "      <td>AF</td>\n",
       "    </tr>\n",
       "    <tr>\n",
       "      <th>3</th>\n",
       "      <td>Andorra</td>\n",
       "      <td>245</td>\n",
       "      <td>138</td>\n",
       "      <td>312</td>\n",
       "      <td>12.4</td>\n",
       "      <td>EU</td>\n",
       "    </tr>\n",
       "    <tr>\n",
       "      <th>4</th>\n",
       "      <td>Angola</td>\n",
       "      <td>217</td>\n",
       "      <td>57</td>\n",
       "      <td>45</td>\n",
       "      <td>5.9</td>\n",
       "      <td>AF</td>\n",
       "    </tr>\n",
       "    <tr>\n",
       "      <th>5</th>\n",
       "      <td>Antigua &amp; Barbuda</td>\n",
       "      <td>102</td>\n",
       "      <td>128</td>\n",
       "      <td>45</td>\n",
       "      <td>4.9</td>\n",
       "      <td>TO</td>\n",
       "    </tr>\n",
       "    <tr>\n",
       "      <th>6</th>\n",
       "      <td>Argentina</td>\n",
       "      <td>193</td>\n",
       "      <td>25</td>\n",
       "      <td>221</td>\n",
       "      <td>8.3</td>\n",
       "      <td>SA</td>\n",
       "    </tr>\n",
       "    <tr>\n",
       "      <th>7</th>\n",
       "      <td>Armenia</td>\n",
       "      <td>21</td>\n",
       "      <td>179</td>\n",
       "      <td>11</td>\n",
       "      <td>3.8</td>\n",
       "      <td>EU</td>\n",
       "    </tr>\n",
       "    <tr>\n",
       "      <th>8</th>\n",
       "      <td>Australia</td>\n",
       "      <td>261</td>\n",
       "      <td>72</td>\n",
       "      <td>212</td>\n",
       "      <td>10.4</td>\n",
       "      <td>OC</td>\n",
       "    </tr>\n",
       "    <tr>\n",
       "      <th>9</th>\n",
       "      <td>Austria</td>\n",
       "      <td>279</td>\n",
       "      <td>75</td>\n",
       "      <td>191</td>\n",
       "      <td>9.7</td>\n",
       "      <td>EU</td>\n",
       "    </tr>\n",
       "  </tbody>\n",
       "</table>\n",
       "</div>"
      ],
      "text/plain": [
       "             country  beer_servings  spirit_servings  wine_servings  \\\n",
       "0        Afghanistan              0                0              0   \n",
       "1            Albania             89              132             54   \n",
       "2            Algeria             25                0             14   \n",
       "3            Andorra            245              138            312   \n",
       "4             Angola            217               57             45   \n",
       "5  Antigua & Barbuda            102              128             45   \n",
       "6          Argentina            193               25            221   \n",
       "7            Armenia             21              179             11   \n",
       "8          Australia            261               72            212   \n",
       "9            Austria            279               75            191   \n",
       "\n",
       "   total_litres_of_pure_alcohol continent  \n",
       "0                           0.0        AS  \n",
       "1                           4.9        EU  \n",
       "2                           0.7        AF  \n",
       "3                          12.4        EU  \n",
       "4                           5.9        AF  \n",
       "5                           4.9        TO  \n",
       "6                           8.3        SA  \n",
       "7                           3.8        EU  \n",
       "8                          10.4        OC  \n",
       "9                           9.7        EU  "
      ]
     },
     "execution_count": 24,
     "metadata": {},
     "output_type": "execute_result"
    }
   ],
   "source": [
    "# 결측 데이터를 처리합니다: 기타 대륙으로 통합 'OT'\n",
    "drinks['continent']=drinks['continent'].fillna('TO')\n",
    "drinks.head(10)"
   ]
  },
  {
   "cell_type": "markdown",
   "id": "f9e79174",
   "metadata": {},
   "source": [
    "이번에는 전체 대륙 중에서 OT가 차지하는 비율이 얼마나 되는지를 파이차트로 확인해봅시다. 아래코드는 plt.pie()함수를 이용한 파이차트 출력 방법입니다."
   ]
  },
  {
   "cell_type": "markdown",
   "id": "9548a800",
   "metadata": {},
   "source": [
    "#### 파이차트로 시각화하기"
   ]
  },
  {
   "cell_type": "code",
   "execution_count": 25,
   "id": "252479f0",
   "metadata": {},
   "outputs": [
    {
     "data": {
      "image/png": "[encoded data removed]",
      "text/plain": [
       "<Figure size 432x288 with 1 Axes>"
      ]
     },
     "metadata": {},
     "output_type": "display_data"
    }
   ],
   "source": [
    "labels=drinks['continent'].value_counts().index.tolist()\n",
    "fracs1=drinks['continent'].value_counts().values.tolist()\n",
    "explode=(0,0,0,0.25,0,0)\n",
    "\n",
    "plt.pie(fracs1,explode=explode, labels=labels, autopct='%.0f%%', shadow=True)\n",
    "plt.title('null data to \\'OT\\'')\n",
    "plt.show()"
   ]
  },
  {
   "cell_type": "markdown",
   "id": "984b34d9",
   "metadata": {},
   "source": [
    "이제 본격적으로 데이터와 스무고개를 하기 위한 질문을 하나씩 정의해봅시다."
   ]
  },
  {
   "cell_type": "markdown",
   "id": "7ac82742",
   "metadata": {},
   "source": [
    "### 대륙별 spirit_servings의 통계적 정보는 어느 정도일까?\n",
    "다음 코드는 agg() 함수를 사용하여 대륙 단위로 분석을 수행합니다. agg() 함수는 apply()함수와 거의 동일한 기능을 하지만, apply()에 들어가는 함수 파라미터를 병렬로 설정하여 그룹에대한 여러가지 연산 결과를 동시에 얻을 수 있는 함수입니다. 대륙별'spitit_servings'의 통계적 정보를 구하기위해서는 agg에 ['mean'.'min','max','sum'] 파라미터를 입력하는 것만으로도 간단히 탐색이 가능합니다."
   ]
  },
  {
   "cell_type": "markdown",
   "id": "a9acc4ea",
   "metadata": {},
   "source": [
    "#### agg() 함수를 이용해 대륙별로 분석하기"
   ]
  },
  {
   "cell_type": "code",
   "execution_count": 26,
   "id": "fabf42be",
   "metadata": {},
   "outputs": [
    {
     "data": {
      "text/html": [
       "<div>\n",
       "<style scoped>\n",
       "    .dataframe tbody tr th:only-of-type {\n",
       "        vertical-align: middle;\n",
       "    }\n",
       "\n",
       "    .dataframe tbody tr th {\n",
       "        vertical-align: top;\n",
       "    }\n",
       "\n",
       "    .dataframe thead th {\n",
       "        text-align: right;\n",
       "    }\n",
       "</style>\n",
       "<table border=\"1\" class=\"dataframe\">\n",
       "  <thead>\n",
       "    <tr style=\"text-align: right;\">\n",
       "      <th></th>\n",
       "      <th>mean</th>\n",
       "      <th>min</th>\n",
       "      <th>max</th>\n",
       "      <th>sum</th>\n",
       "    </tr>\n",
       "    <tr>\n",
       "      <th>continent</th>\n",
       "      <th></th>\n",
       "      <th></th>\n",
       "      <th></th>\n",
       "      <th></th>\n",
       "    </tr>\n",
       "  </thead>\n",
       "  <tbody>\n",
       "    <tr>\n",
       "      <th>AF</th>\n",
       "      <td>16.339623</td>\n",
       "      <td>0</td>\n",
       "      <td>152</td>\n",
       "      <td>866</td>\n",
       "    </tr>\n",
       "    <tr>\n",
       "      <th>AS</th>\n",
       "      <td>60.840909</td>\n",
       "      <td>0</td>\n",
       "      <td>326</td>\n",
       "      <td>2677</td>\n",
       "    </tr>\n",
       "    <tr>\n",
       "      <th>EU</th>\n",
       "      <td>132.555556</td>\n",
       "      <td>0</td>\n",
       "      <td>373</td>\n",
       "      <td>5965</td>\n",
       "    </tr>\n",
       "    <tr>\n",
       "      <th>OC</th>\n",
       "      <td>58.437500</td>\n",
       "      <td>0</td>\n",
       "      <td>254</td>\n",
       "      <td>935</td>\n",
       "    </tr>\n",
       "    <tr>\n",
       "      <th>SA</th>\n",
       "      <td>114.750000</td>\n",
       "      <td>25</td>\n",
       "      <td>302</td>\n",
       "      <td>1377</td>\n",
       "    </tr>\n",
       "  </tbody>\n",
       "</table>\n",
       "</div>"
      ],
      "text/plain": [
       "                 mean  min  max   sum\n",
       "continent                            \n",
       "AF          16.339623    0  152   866\n",
       "AS          60.840909    0  326  2677\n",
       "EU         132.555556    0  373  5965\n",
       "OC          58.437500    0  254   935\n",
       "SA         114.750000   25  302  1377"
      ]
     },
     "execution_count": 26,
     "metadata": {},
     "output_type": "execute_result"
    }
   ],
   "source": [
    "# 대륙별 spirit_servings의 평균, 최소, 최대, 합계를 계산합니다.\n",
    "result=drinks.groupby('continent').spirit_servings.agg(['mean','min','max','sum'])\n",
    "result.head()"
   ]
  },
  {
   "cell_type": "markdown",
   "id": "b997ed3b",
   "metadata": {},
   "source": [
    "### 전체 평균보다 알코올을 섭취하는 대륙은 어디일까?\n",
    "전체 평균보다 많은 알코올을 섭취하는 대륙을 탐색할 때는 apply()나 agg() 함수없이도 mean()함수만을 이용한 탐색을 수행할 수 있습니다."
   ]
  },
  {
   "cell_type": "code",
   "execution_count": 27,
   "id": "acc4684b",
   "metadata": {},
   "outputs": [
    {
     "name": "stdout",
     "output_type": "stream",
     "text": [
      "continent\n",
      "EU    8.617778\n",
      "SA    6.308333\n",
      "TO    5.995652\n",
      "Name: total_litres_of_pure_alcohol, dtype: float64\n"
     ]
    }
   ],
   "source": [
    "# 전체 평균보다 많은 알코올을 섭취하는 대륙을 구합니다.\n",
    "total_mean=drinks.total_litres_of_pure_alcohol.mean()\n",
    "continent_mean=drinks.groupby('continent')['total_litres_of_pure_alcohol'].mean()\n",
    "continent_over_mean=continent_mean[continent_mean >= total_mean]\n",
    "print(continent_over_mean)"
   ]
  },
  {
   "cell_type": "markdown",
   "id": "ca005ea0",
   "metadata": {},
   "source": [
    "### 평균 beer_servings가 가장 높은 대륙은 어디일까?\n",
    "그리고 mean() 함수만을 이용한 탐색에 idxmax() 함수를 적용하면 평균 'beer_servungs'가 가장 높은 대륙이 어디인지 찾을 수 있씁니다. idxmax()는 시리즈 객체에서 값이 가장 큰 index를 반환하는 기능을 수행합니다."
   ]
  },
  {
   "cell_type": "code",
   "execution_count": 28,
   "id": "9192d2dd",
   "metadata": {},
   "outputs": [
    {
     "name": "stdout",
     "output_type": "stream",
     "text": [
      "EU\n"
     ]
    }
   ],
   "source": [
    "# 평균 beer_servings가 가장 높은 대륙을 구합니다.\n",
    "beer_continent=drinks.groupby('continent').beer_servings.mean().idxmax()\n",
    "print(beer_continent)"
   ]
  },
  {
   "cell_type": "markdown",
   "id": "4c81772d",
   "metadata": {},
   "source": [
    "위의 두 가지 질문에 대한 탐색을 통해 우리는 AF, AS, EU, OC, OT대륙 중 ES, OT, AS만이 평균보다 많이 알코올을 섭취하는 대륙인 것을 알 수 있었고, 또한 맥주를 가장 좋아하는 대륙은 유렵이라는 결과를 확인할 수 있었습니다."
   ]
  },
  {
   "cell_type": "markdown",
   "id": "b86c9f25",
   "metadata": {},
   "source": [
    "### 시각화\n",
    "아래 코드는 이 결과를 그래프로 시각화한 것입니다. 코드를 천천히 살펴보고, 부분별로 실행하며 막대 그래프의 사용법을 익혀봅시다."
   ]
  },
  {
   "cell_type": "markdown",
   "id": "12498488",
   "metadata": {},
   "source": [
    "#### 분석결과를 시각화하기"
   ]
  },
  {
   "cell_type": "code",
   "execution_count": 29,
   "id": "0dff6c73",
   "metadata": {},
   "outputs": [
    {
     "data": {
      "image/png": "[encoded data removed]",
      "text/plain": [
       "<Figure size 432x288 with 1 Axes>"
      ]
     },
     "metadata": {},
     "output_type": "display_data"
    }
   ],
   "source": [
    "# 대륙별 spirit_servings의 평균, 최소, 최대, 합계를 시각화합니다.\n",
    "n_groups=len(result.index)\n",
    "means=result['mean'].tolist()\n",
    "mins=result['min'].tolist()\n",
    "maxs=result['max'].tolist()\n",
    "sums=result['sum'].tolist()\n",
    "\n",
    "index=np.arange(n_groups)\n",
    "bar_width=0.1\n",
    "\n",
    "rects1= plt.bar(index, means, bar_width, color='r',label='Mwan')\n",
    "rects2= plt.bar(index + bar_width, mins, bar_width, color='g', label='Min')\n",
    "rects3= plt.bar(index + bar_width*2, maxs,bar_width, color='b', label='Max')\n",
    "rects3= plt.bar(index + bar_width*2, sums,bar_width, color='y', label='Sum')\n",
    "\n",
    "plt.xticks(index, result.index.tolist())\n",
    "plt.legend()\n",
    "plt.show()"
   ]
  },
  {
   "cell_type": "code",
   "execution_count": 33,
   "id": "3f18a8d5",
   "metadata": {},
   "outputs": [
    {
     "data": {
      "image/png": "[encoded data removed]",
      "text/plain": [
       "<Figure size 432x288 with 1 Axes>"
      ]
     },
     "metadata": {},
     "output_type": "display_data"
    }
   ],
   "source": [
    "# 대륙별 total_litres_of_pure_alcohol을 시각화 합니다.\n",
    "continents=continent_mean.index.tolist()\n",
    "continents.append('mean')\n",
    "x_pos=np.arange(len(continents))\n",
    "alcohol=continent_mean.tolist()\n",
    "alcohol.append(total_mean)\n",
    "\n",
    "bar_list=plt.bar(x_pos, alcohol, align='center',alpha=0.5)\n",
    "bar_list[len(continents)-1]. set_color('r')\n",
    "plt.plot([0.,6],[total_mean, total_mean],\"k--\")\n",
    "plt.xticks(x_pos,continents)\n",
    "\n",
    "plt.ylabel('total_litres_of_pure_alcohol')\n",
    "plt.title('total_litres_of_pure_alcohol by Continent')\n",
    "\n",
    "plt.show()"
   ]
  },
  {
   "cell_type": "code",
   "execution_count": 34,
   "id": "f2f2e172",
   "metadata": {},
   "outputs": [
    {
     "data": {
      "image/png": "[encoded data removed]",
      "text/plain": [
       "<Figure size 432x288 with 1 Axes>"
      ]
     },
     "metadata": {},
     "output_type": "display_data"
    }
   ],
   "source": [
    "#대륙별 beer_servings를 시각화합니다.\n",
    "beer_group=drinks.groupby('continent')['beer_servings'].sum()\n",
    "continents=beer_group.index.tolist()\n",
    "y_pos=np.arange(len(continents))\n",
    "alcohol=beer_group.tolist()\n",
    "\n",
    "bar_list=plt.bar(y_pos, alcohol, align='center',alpha=0.5)\n",
    "bar_list[continents.index(\"EU\")].set_color('r')\n",
    "plt.xticks(y_pos, continents)\n",
    "plt.ylabel('beer_servings')\n",
    "plt.title('beer_servings by Continent')\n",
    "\n",
    "plt.show()"
   ]
  },
  {
   "cell_type": "markdown",
   "id": "3d68a1b7",
   "metadata": {},
   "source": [
    "## Step 4 통계적 분석: 분석 대상 간의 통계적 차이 검정하기\n",
    "지금까지는 두 피처 간의 상관성을 계산하거나 혹은 그룹 단위로 나누어 수치 정보를 살펴보는 방식의 데이터 분석을 알아보았습니다. 이러한 분석은 데이터에서 인사이트를 발견하는 데 있어서 매우 유용한 방법입니다. 하지만 이는 분석가의 주관에 따라 도출된 내용이기 때문에 분석 자체의 타장성을 증명하기에는 한계가 있습니다. 따라서 분석 결과에 타당성을 부여하기 위해 통계적으로 차이를 검정하는 과정이 필요합니다. 그 중 가장 기본적인 방법인 t-test를 통해 분석 대상 간의 통계적 차이를 검정하는 방법을 알아봅시다."
   ]
  },
  {
   "cell_type": "markdown",
   "id": "657b6fc5",
   "metadata": {},
   "source": [
    "### t-test\n",
    "t-test란 두 집단 간 평균의 차이에 대한 검정 방법으로, 모집단의 평균 등과 같이 실제 정보를 모를 때 현재의 데이터만으로 두 집단의 차이에 대해 검정할 수 있는 방법입니다. 단, t-test는 검정 대상인 두 집단의 데이터 개수가 비슷하면서 두 데이터가 정규 분포를 보이는 경우에 신뢰도가 높은 검정 방식입니다."
   ]
  },
  {
   "cell_type": "markdown",
   "id": "b5b9eb13",
   "metadata": {},
   "source": [
    "파이썬에서는 scipy라는 라이브러리를 활용하여 두 집단 간의 t-test를 검정할 수 있습니다. 아래 코드는 t-test를 적용하는 아주 간단한 예제입니다. ttest_ind() 함수에 두 집단의 시리즈 데이터를 넣는 것으로 검정의 결과를 확인할 수 있는데, 이 함수의 파라미터인 equal_var는 t-test의 두가지 방법 중에 하나를 선택하는 것입니다. 첫 번째는 두 집단의 분산이 같은 경우, 그리고 두 번째는 두 집단의 분산이 같지 않은 경우를 가정한 것입니다."
   ]
  },
  {
   "cell_type": "markdown",
   "id": "5781f566",
   "metadata": {},
   "source": [
    "#### 아프리카와 유럽 간의 맥주 소비량 차이 검정하기"
   ]
  },
  {
   "cell_type": "code",
   "execution_count": 40,
   "id": "81b5f5de",
   "metadata": {},
   "outputs": [
    {
     "name": "stdout",
     "output_type": "stream",
     "text": [
      "The t-statistic and p-value assuming equal variances is -7.268 and 0.000\n",
      "The t-statistic and p-value not assuming equal variances is %.3f and %.3f % tTestResultDiffVar\n"
     ]
    }
   ],
   "source": [
    "# 아프리카와 유럽 간의 맥주 소비량 차이를 검정합니다.\n",
    "africa=drinks.loc[drinks['continent']=='AF']\n",
    "europe=drinks.loc[drinks['continent']=='EU']\n",
    "\n",
    "from scipy import stats\n",
    "tTestResult=stats.ttest_ind(africa['beer_servings'], europe['beer_servings'])\n",
    "tTestResultDiffVar=stats.ttest_ind(africa['beer_servings'],europe['beer_servings'], equal_var=False)\n",
    "\n",
    "print(\"The t-statistic and p-value assuming equal variances is %.3f and %.3f\"%tTestResult)\n",
    "print(\"The t-statistic and p-value not assuming equal variances is %.3f and %.3f % tTestResultDiffVar\")"
   ]
  },
  {
   "cell_type": "markdown",
   "id": "c1a94117",
   "metadata": {},
   "source": [
    "실행 결과에 등장하는 t-statistic은 t-test의 검정 통계량을 의미하는 것으로, 함께 출력되는 p-value와 연관 지어 해석해야 합니다. p-value는 가설이 얼마나 믿을만한 것인지를 나타내는 지표러, 데이터를 새로 샘플링했을 때 귀무 가설이 맞다는 전제 하에 현재 나온 통계값 이상이 나올 확률이라고 정의할 수 있습니다. 만약 p-value가 너무 낮으면 귀무 가설이 일어날 확률이 너무 낮기 때문에 귀무 가설을 기각하게 됩니다. 보통 그 기준은 0.05나 0.01을 기준으로 하며, 이를 p-valie(유의확률)이라고 합니다. 귀무 가설이란 처음부터 버릴 것을 예상하는 가설이며, 가설이 맞지 않다는 것을 증명하기 위해 수립하는 가설입니다. 그리고 반대되는 것을 대립 가설이라고 부르며, 귀무 가설이 거짓인 경우에 대안적으로 참이 되는 가설을 의미합니다.<br>\n",
    "위의 실행 결과에서는 등분산을 가정한 케이스와 가정하지 않은 케이스 보두 p-value가 0.000 이하로 나타났습니다. t-test의 귀무 가설은 '두 집단이 평균이 같다'이고 이 귀무 가설은 기각되었습니다. 따라서'아프리카와 유럽 대륙 간의 맥주 소비량 차이'는 통계적으로 유의미하다는 결론을 내릴 수 있습니다. 이는 대립 가설인' 두 집단의 평균이 다르다'를 채택한 것입니다. 하지만 두 집단의 데이터는 크기도 다르고, 각각의 크기 또한 크지 않기 때문에 실제로 통계적인 의미를 가지는 검정이라고 보기엔 어렵습니다. 만약 통계적 분석을 하기에 좋은 조건인 경우라면 이러한 방법을 사용할수 있다는 것만 알아둡시다.<br>\n",
    "드디어 이번 절의 처음에 나왔던 주제인'대한민국은 얼마나 독하게 술을 마시는 나라일까?'에 대한 탐색 코드를 살펴볼 차례입니다. 이를 판단하는 기준으로, alcohol_rate 피처를 생성합니다. 이 피처는 total_litres_of_pure_alcohol 피처를 모든 술의 총 소비량으로 나눈 것입니다. 그리고 alcohol_rate는 sort_values() 함수를 사용하여 국가를 기준으로 정렬합니다."
   ]
  },
  {
   "cell_type": "markdown",
   "id": "95298b55",
   "metadata": {},
   "source": [
    "#### '대한민국은 얼마나 술을 독하게 마시는 나라일까?'에 대한 탐색 코드 살펴보기"
   ]
  },
  {
   "cell_type": "code",
   "execution_count": 42,
   "id": "1d0e5af7",
   "metadata": {},
   "outputs": [
    {
     "data": {
      "text/html": [
       "<div>\n",
       "<style scoped>\n",
       "    .dataframe tbody tr th:only-of-type {\n",
       "        vertical-align: middle;\n",
       "    }\n",
       "\n",
       "    .dataframe tbody tr th {\n",
       "        vertical-align: top;\n",
       "    }\n",
       "\n",
       "    .dataframe thead th {\n",
       "        text-align: right;\n",
       "    }\n",
       "</style>\n",
       "<table border=\"1\" class=\"dataframe\">\n",
       "  <thead>\n",
       "    <tr style=\"text-align: right;\">\n",
       "      <th></th>\n",
       "      <th>country</th>\n",
       "      <th>alcohol_rate</th>\n",
       "    </tr>\n",
       "  </thead>\n",
       "  <tbody>\n",
       "    <tr>\n",
       "      <th>63</th>\n",
       "      <td>Gambia</td>\n",
       "      <td>0.266667</td>\n",
       "    </tr>\n",
       "    <tr>\n",
       "      <th>153</th>\n",
       "      <td>Sierra Leone</td>\n",
       "      <td>0.223333</td>\n",
       "    </tr>\n",
       "    <tr>\n",
       "      <th>124</th>\n",
       "      <td>Nigeria</td>\n",
       "      <td>0.185714</td>\n",
       "    </tr>\n",
       "    <tr>\n",
       "      <th>179</th>\n",
       "      <td>Uganda</td>\n",
       "      <td>0.153704</td>\n",
       "    </tr>\n",
       "    <tr>\n",
       "      <th>142</th>\n",
       "      <td>Rwanda</td>\n",
       "      <td>0.151111</td>\n",
       "    </tr>\n",
       "  </tbody>\n",
       "</table>\n",
       "</div>"
      ],
      "text/plain": [
       "          country  alcohol_rate\n",
       "63         Gambia      0.266667\n",
       "153  Sierra Leone      0.223333\n",
       "124       Nigeria      0.185714\n",
       "179        Uganda      0.153704\n",
       "142        Rwanda      0.151111"
      ]
     },
     "execution_count": 42,
     "metadata": {},
     "output_type": "execute_result"
    }
   ],
   "source": [
    "# total_servings 피처를 생성합니다.\n",
    "drinks['total_servings']=drinks['beer_servings']+drinks['wine_servings']+drinks['spirit_servings']\n",
    "\n",
    "#술 소비량 대비 알코올 비율 피처를 생성합니다.\n",
    "drinks['alcohol_rate']=drinks['total_litres_of_pure_alcohol']/drinks['total_servings']\n",
    "drinks['alcogol_rate']=drinks['alcohol_rate'].fillna(0)\n",
    "\n",
    "# 순위 정보를 생성합니다.\n",
    "\n",
    "country_with_rank=drinks[['country','alcohol_rate']]\n",
    "country_with_rank=country_with_rank.sort_values(by=['alcohol_rate'], ascending=0)\n",
    "country_with_rank.head(5)"
   ]
  },
  {
   "cell_type": "markdown",
   "id": "c2a15080",
   "metadata": {},
   "source": [
    "이 결과를 토대로 시각화를 수행한 결과는 다음과 같습니다. x_pos=np.arange(len(country_list))를 통해 그래프의 x축에 해당하는 범위를 생성하고, rank=country_with_rank.alcohol_rate.tolist()를 통해 alcohol_rate순으로 정렬된 데이터에서 alcohol_rate 값을 생성하였습니다."
   ]
  },
  {
   "cell_type": "markdown",
   "id": "6d922028",
   "metadata": {},
   "source": [
    "#### 국가별 순위 정보를 시각화하기"
   ]
  },
  {
   "cell_type": "code",
   "execution_count": 48,
   "id": "6129b440",
   "metadata": {},
   "outputs": [
    {
     "data": {
      "image/png": "[encoded data removed]",
      "text/plain": [
       "<Figure size 432x288 with 1 Axes>"
      ]
     },
     "metadata": {},
     "output_type": "display_data"
    }
   ],
   "source": [
    "# 국가별 순위 정보를 그래프로 시각화합니다.\n",
    "country_list=country_with_rank.country.tolist()\n",
    "x_pos=np.arange(len(country_list))\n",
    "rank=country_with_rank.alcohol_rate.tolist()\n",
    "\n",
    "bar_list=plt.bar(x_pos, rank)\n",
    "bar_list[country_list.index(\"South Korea\")].set_color('r')\n",
    "plt.ylabel('alcohol rate')\n",
    "plt.title('alcohol rate')\n",
    "plt.title('liquor drink rank by contry')\n",
    "plt.axis([0,200,0,0.3])\n",
    "\n",
    "korea_rank=country_list.index(\"South Korea\")\n",
    "korea_alc_rate=country_with_rank[country_with_rank['country']=='South Korea']['alcohol_rate'].values[0]\n",
    "plt.annotate('South Korea : '+str(korea_rank+1),\n",
    "            xy=(korea_rank,korea_alc_rate),\n",
    "            xytext=(korea_rank +10, korea_alc_rate +0.05),\n",
    "            arrowprops=dict(facecolor='red',shrink=0.05))\n",
    "\n",
    "plt.show()"
   ]
  },
  {
   "cell_type": "markdown",
   "id": "b5752723",
   "metadata": {},
   "source": [
    "### 표로 정리하는 데이터 분석\n",
    "- 데이터 탐색 질문 : 핵심 내용 : 인사이트\n",
    "- 각의 피처는 서로 어떤 상관 관계를 가지고 있는가? : 모든 연속형 피처의 상관 분석 : 대부분의 국가의 총 알코올 소비량은 맥주 소비량에 영향을 받을 확률이 높음. 또한 대부분의 국가에서는 맥주가 가장 많이 소비되는 술이라는 해석도 가능함.\n",
    "- 평균 맥주 소비량이 가장 높은 대륙은? : 모든 행을 그룹 단위로 분석 : 유럽이 가장 맥주 소비량이 높은. 대륙별로 상이한 차이가 있다는 것을 발견함.\n",
    "- 술 소비량 대비 알코올 비율 피처 생성하기 : 새로운 분석 피처 생성 : 술 소비량 대비 알코올 비율이라는 새로운 피처로부터 술을 독하게 마시는 정도의 국가별 차이를 관찰 가능함.\n",
    "- 아프리카와 유럽 간의 맥주 소비량 차이 검정하기 : 통계적 차이 검정 : t-test 분석 결과. 아프리카와 유럽 간의 맥주 소비량은 통계적으로 유의미한 차이를 보임 (단, 이 예제는 그룹 간의 데이터 크기가 매우 다르고, 정규분포를 띤다는 가정을 할 수 없기 때문에 신뢰할 만한 정보라고 할수 없음)"
   ]
  },
  {
   "cell_type": "markdown",
   "id": "abd1aa0c",
   "metadata": {},
   "source": [
    "출처 : \"이것이 데이터 분석이다 with 파이썬\""
   ]
  }
 ],
 "metadata": {
  "kernelspec": {
   "display_name": "Python 3",
   "language": "python",
   "name": "python3"
  },
  "language_info": {
   "codemirror_mode": {
    "name": "ipython",
    "version": 3
   },
   "file_extension": ".py",
   "mimetype": "text/x-python",
   "name": "python",
   "nbconvert_exporter": "python",
   "pygments_lexer": "ipython3",
   "version": "3.8.8"
  }
 },
 "nbformat": 4,
 "nbformat_minor": 5
}
